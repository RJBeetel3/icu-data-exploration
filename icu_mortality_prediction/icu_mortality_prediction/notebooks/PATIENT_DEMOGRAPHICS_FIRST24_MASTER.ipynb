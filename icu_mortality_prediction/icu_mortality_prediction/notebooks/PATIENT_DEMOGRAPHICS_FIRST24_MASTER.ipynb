{
 "cells": [
  {
   "cell_type": "code",
   "execution_count": 1,
   "metadata": {
    "collapsed": false,
    "jupyter": {
     "outputs_hidden": false
    }
   },
   "outputs": [],
   "source": [
    "%load_ext autoreload\n",
    "%autoreload 2\n",
    "import sys\n",
    "import os\n",
    "import pandas as pd\n",
    "import datetime as datetime\n",
    "import numpy as np\n",
    "from dateutil.relativedelta import relativedelta\n",
    "from sklearn.preprocessing import OneHotEncoder\n",
    "import matplotlib\n",
    "import matplotlib.pyplot as plt\n",
    "#import psycopg2\n",
    "from scipy.stats import ks_2samp\n",
    "import scipy.stats as scats\n",
    "# import visuals as vs\n",
    "from sklearn.decomposition import PCA\n",
    "from sklearn import preprocessing\n",
    "from sklearn.neural_network import MLPClassifier\n",
    "from sklearn.naive_bayes import GaussianNB\n",
    "from sklearn.tree import DecisionTreeClassifier\n",
    "from sklearn.neighbors import KNeighborsClassifier\n",
    "\n",
    "\n",
    "from sklearn import metrics\n",
    "from sklearn import svm\n",
    "from sklearn.model_selection import cross_val_score\n",
    "from sklearn.model_selection import train_test_split\n",
    "from sklearn.feature_selection import SelectKBest\n",
    "from sklearn.feature_selection import chi2\n",
    "from sklearn.feature_selection import f_classif\n",
    "\n",
    "import yaml\n",
    "\n",
    "from icu_mortality_prediction import DATA_DIR\n"
   ]
  },
  {
   "cell_type": "code",
   "execution_count": 2,
   "metadata": {},
   "outputs": [],
   "source": [
    "from icu_mortality_prediction.src.features import ptnt_demog\n",
    "from icu_mortality_prediction.src.utils import data_utils\n",
    "from icu_mortality_prediction.src.utils import feature_selection"
   ]
  },
  {
   "cell_type": "markdown",
   "metadata": {},
   "source": [
    "# MIMIC-III Critical Care Database\n",
    "\n",
    "MIMIC-III (Medical Information Mart for Intensive Care III) is a large, freely-available database comprising deidentified health-related data associated with over forty thousand patients who stayed in critical care units of the Beth Israel Deaconess Medical Center between 2001 and 2012.\n",
    "\n",
    "The database includes information such as demographics, vital sign measurements made at the bedside (~1 data point per hour), laboratory test results, procedures, medications, caregiver notes, imaging reports, and mortality (both in and out of hospital).\n",
    "\n",
    "MIMIC supports a diverse range of analytic studies spanning epidemiology, clinical decision-rule improvement, and electronic tool development. It is notable for three factors:\n",
    "\n",
    "it is freely available to researchers worldwide\n",
    "it encompasses a diverse and very large population of ICU patients\n",
    "it contains high temporal resolution data including lab results, electronic documentation, and bedside monitor trends and waveforms.\n",
    "\n",
    "Citations: \n",
    "MIMIC-III, a freely accessible critical care database. Johnson AEW, Pollard TJ, Shen L, Lehman L, Feng M, Ghassemi M, Moody B, Szolovits P, Celi LA, and Mark RG. Scientific Data (2016). DOI: 10.1038/sdata.2016.35. Available at: http://www.nature.com/articles/sdata201635\n",
    "\n",
    "Pollard, T. J. & Johnson, A. E. W. The MIMIC-III Clinical Database http://dx.doi.org/10.13026/C2XW26 (2016).\n",
    "\n"
   ]
  },
  {
   "cell_type": "markdown",
   "metadata": {},
   "source": [
    "# IMPORTING DATA\n",
    "The mimic III database was downloaded and reconstructed locally using postgresql. The database was managed graphically using Portico. \n",
    "A query was run on the mimic III database to generate demographic data and data concerning hospital and ICU stays for patients diagnosed with sepsis according to the Angus criteria (Angus et al, 2001. Epidemiology of severe sepsis in the United States; http://www.ncbi.nlm.nih.gov/pubmed/11445675 )\n",
    "\n",
    "The query was exported from Porticoto the file PTNT_DEMOG_FIRST24.csv. The data was read into a pandas dataframe lab_events."
   ]
  },
  {
   "cell_type": "markdown",
   "metadata": {},
   "source": [
    "## IMPORTING DATA"
   ]
  },
  {
   "cell_type": "code",
   "execution_count": 3,
   "metadata": {
    "collapsed": false,
    "jupyter": {
     "outputs_hidden": false
    }
   },
   "outputs": [
    {
     "name": "stdout",
     "output_type": "stream",
     "text": [
      "imported\n"
     ]
    }
   ],
   "source": [
    "# patient demographic data includes diagnoses and icd9 codes for each patient and each icustay\n",
    "demographics_filename = 'PTNT_DEMOG_FIRST24.csv'\n",
    "demographics_filepath = os.path.join(DATA_DIR, 'interim',demographics_filename)\n",
    "ptnt_demog_data = pd.read_csv(demographics_filepath, index_col = 'icustay_id')\n",
    "ptnt_demog_data = ptnt_demog_data.head(10000)\n",
    "ptnt_demog_data2 = ptnt_demog_data[~ptnt_demog_data.index.duplicated(keep='first')].copy()\n",
    "# ptnt_demog_data2.drop(['subject_id', 'deathtime', 'hadm_id'], inplace = True, axis = 1)\n",
    "# cols = list(ptnt_demog_data2.columns)\n",
    "# cols.insert(0, cols.pop(cols.index('hospital_expire_flag')))\n",
    "# ptnt_demog_data2 = ptnt_demog_data2[cols]\n",
    "print(\"imported\")\n"
   ]
  },
  {
   "cell_type": "code",
   "execution_count": 4,
   "metadata": {},
   "outputs": [
    {
     "data": {
      "text/plain": [
       "'/Users/robertbeetel/Workspace/personal_projects/icu_data_exploration/icu_mortality_prediction/icu_mortality_prediction/data/interim/PTNT_DEMOG_FIRST24.csv'"
      ]
     },
     "execution_count": 4,
     "metadata": {},
     "output_type": "execute_result"
    }
   ],
   "source": [
    "demographics_filepath"
   ]
  },
  {
   "cell_type": "code",
   "execution_count": 5,
   "metadata": {},
   "outputs": [
    {
     "data": {
      "text/plain": [
       "Index(['hadm_id', 'subject_id', 'first_careunit', 'gender', 'marital_status',\n",
       "       'ethnicity', 'insurance', 'admission_type', 'admittime', 'dischtime',\n",
       "       'intime', 'outtime', 'deathtime', 'dob', 'hospital_expire_flag',\n",
       "       'icd9_code', 'icd9_code.1', 'short_title', 'seq_num'],\n",
       "      dtype='object')"
      ]
     },
     "execution_count": 5,
     "metadata": {},
     "output_type": "execute_result"
    }
   ],
   "source": [
    "ptnt_demog_data.columns"
   ]
  },
  {
   "cell_type": "code",
   "execution_count": 6,
   "metadata": {},
   "outputs": [],
   "source": [
    "# drop patient and hospital stay ID's\n",
    "\n",
    "ptnt_demog_data2.drop(['hadm_id', 'subject_id', 'seq_num'], axis=1, inplace=True)"
   ]
  },
  {
   "cell_type": "code",
   "execution_count": 7,
   "metadata": {},
   "outputs": [
    {
     "name": "stdout",
     "output_type": "stream",
     "text": [
      "converting dob\n",
      "converting admittime\n",
      "converting dischtime\n",
      "converting intime\n",
      "converting outtime\n",
      "converting deathtime\n"
     ]
    }
   ],
   "source": [
    "date_time_cols = ['dob', 'admittime', 'dischtime', 'intime', 'outtime', 'deathtime']\n",
    "ptnt_demog_data2 = data_utils.cast_dates_and_times(ptnt_demog_data2, date_time_cols)"
   ]
  },
  {
   "cell_type": "code",
   "execution_count": 8,
   "metadata": {},
   "outputs": [
    {
     "name": "stdout",
     "output_type": "stream",
     "text": [
      "calling calculate_durations\n",
      "Calculating ages, duration of stays\n"
     ]
    }
   ],
   "source": [
    "#print(ptnt_demog.columns)\n",
    "print(\"calling calculate_durations\")\n",
    "ptnt_demog_data2 = ptnt_demog.calculate_age_icu_and_hospital_stay_durations(ptnt_demog_data2)\n",
    "#print \"ptnt_demog2 out of function\""
   ]
  },
  {
   "cell_type": "code",
   "execution_count": 9,
   "metadata": {},
   "outputs": [],
   "source": [
    "# replace age greater than 100yrs\n",
    "ptnt_demog_data2 = ptnt_demog.remove_age_greater_than_100yrs(ptnt_demog_data2)\n"
   ]
  },
  {
   "cell_type": "code",
   "execution_count": 10,
   "metadata": {},
   "outputs": [
    {
     "name": "stdout",
     "output_type": "stream",
     "text": [
      "calling create_diagnoses_defs\n",
      "creating diagnoses definitions\n",
      "creating diagnoses definitions\n",
      "map created\n"
     ]
    }
   ],
   "source": [
    "print(\"calling create_diagnoses_defs\")\n",
    "diagnoses_bm_list, diagnoses = ptnt_demog.create_diagnoses_defs(ptnt_demog_data2)\n",
    "#print(diagnoses_bm)\n",
    "#print(diagnoses.head())"
   ]
  },
  {
   "cell_type": "code",
   "execution_count": 11,
   "metadata": {},
   "outputs": [
    {
     "name": "stdout",
     "output_type": "stream",
     "text": [
      "calling create_diagnoses_df\n"
     ]
    }
   ],
   "source": [
    "print(\"calling create_diagnoses_df\")\n",
    "diagnoses2 = ptnt_demog.create_diagnoses_df(ptnt_demog_data2, diagnoses_bm_list, diagnoses)\n",
    "#print(ptnt_demog_data.head())\n"
   ]
  },
  {
   "cell_type": "code",
   "execution_count": 12,
   "metadata": {},
   "outputs": [],
   "source": [
    "# Drop no longer useful diagnosis code columns from demographics table\n",
    "diagnosis_cols = [\n",
    "                    'icd9_code', \n",
    "                    'icd9_code.1', \n",
    "                    'short_title'\n",
    "                    ]\n",
    "# Drop diagnosis columns\n",
    "ptnt_demog_data2.drop(diagnosis_cols, axis=1, inplace=True)\n"
   ]
  },
  {
   "cell_type": "code",
   "execution_count": 13,
   "metadata": {},
   "outputs": [],
   "source": [
    "ptnt_demog_data2.drop(['icu_stay_duration', 'hosp_stay_duration'], \n",
    "                       axis=1, inplace=True)\n"
   ]
  },
  {
   "cell_type": "code",
   "execution_count": 14,
   "metadata": {},
   "outputs": [],
   "source": [
    "columns_by_data_type_dict = data_utils.group_column_names_by_data_type(ptnt_demog_data2)"
   ]
  },
  {
   "cell_type": "code",
   "execution_count": 15,
   "metadata": {},
   "outputs": [
    {
     "data": {
      "text/plain": [
       "{'float64_cols': ['age'],\n",
       " 'categorical_cols': ['first_careunit',\n",
       "  'gender',\n",
       "  'marital_status',\n",
       "  'ethnicity',\n",
       "  'insurance',\n",
       "  'admission_type'],\n",
       " 'bool_cols': [],\n",
       " 'int64_cols': ['hospital_expire_flag'],\n",
       " 'datetime64[ns]': ['admittime',\n",
       "  'dischtime',\n",
       "  'intime',\n",
       "  'outtime',\n",
       "  'deathtime',\n",
       "  'dob']}"
      ]
     },
     "execution_count": 15,
     "metadata": {},
     "output_type": "execute_result"
    }
   ],
   "source": [
    "columns_by_data_type_dict"
   ]
  },
  {
   "cell_type": "code",
   "execution_count": 16,
   "metadata": {},
   "outputs": [],
   "source": [
    "# Drop no longer useful date-times from demographics table\n",
    "\n",
    "ptnt_demog_data2.drop(columns_by_data_type_dict['datetime64[ns]'],\n",
    "                                                axis=1, inplace=True)\n",
    "\n"
   ]
  },
  {
   "cell_type": "code",
   "execution_count": 17,
   "metadata": {},
   "outputs": [
    {
     "name": "stdout",
     "output_type": "stream",
     "text": [
      "Calling continuous to categorical conversion\n",
      "               age\n",
      "count  1562.000000\n",
      "mean     63.442382\n",
      "std      16.348764\n",
      "min      18.000000\n",
      "25%      53.000000\n",
      "50%      67.000000\n",
      "75%      77.000000\n",
      "max      89.000000\n"
     ]
    }
   ],
   "source": [
    "print(\"Calling continuous to categorical conversion\")\n",
    "ptnt_demog_data2 = data_utils.continuous_to_categorical(ptnt_demog_data2, columns_by_data_type_dict)\n",
    "#print(ptnt_demog_data.head())"
   ]
  },
  {
   "cell_type": "markdown",
   "metadata": {},
   "source": [
    "### RE-ORDER COLUMNS"
   ]
  },
  {
   "cell_type": "code",
   "execution_count": 18,
   "metadata": {},
   "outputs": [
    {
     "data": {
      "text/plain": [
       "Index(['hospital_expire_flag', 'first_careunit', 'gender', 'marital_status',\n",
       "       'ethnicity', 'insurance', 'admission_type', 'age'],\n",
       "      dtype='object')"
      ]
     },
     "execution_count": 18,
     "metadata": {},
     "output_type": "execute_result"
    }
   ],
   "source": [
    "cols = list(ptnt_demog_data2.columns)\n",
    "cols.insert(0, cols.pop(cols.index('hospital_expire_flag')))\n",
    "ptnt_demog_data2 = ptnt_demog_data2[cols]\n",
    "ptnt_demog_data2.columns"
   ]
  },
  {
   "cell_type": "code",
   "execution_count": 19,
   "metadata": {},
   "outputs": [
    {
     "name": "stdout",
     "output_type": "stream",
     "text": [
      "Calling categorical to dummy variables\n"
     ]
    }
   ],
   "source": [
    "print(\"Calling categorical to dummy variables\")\n",
    "ptnt_demog_feature_cols = ptnt_demog_data2.columns[1:]\n",
    "ptnt_demog_features_one_hot_df = data_utils.one_hot_encode_categorical_features(ptnt_demog_data2, ptnt_demog_feature_cols)\n"
   ]
  },
  {
   "cell_type": "code",
   "execution_count": 20,
   "metadata": {},
   "outputs": [],
   "source": [
    "ptnt_demog_features_one_hot_df = ptnt_demog_features_one_hot_df.merge(diagnoses2, left_index = True, right_index = True, \n",
    "                           how = 'left')"
   ]
  },
  {
   "cell_type": "code",
   "execution_count": 22,
   "metadata": {},
   "outputs": [
    {
     "data": {
      "text/plain": [
       "<matplotlib.axes._subplots.AxesSubplot at 0x122450860>"
      ]
     },
     "execution_count": 22,
     "metadata": {},
     "output_type": "execute_result"
    },
    {
     "data": {
      "image/png": "[encoded data removed]",
      "text/plain": [
       "<Figure size 936x432 with 1 Axes>"
      ]
     },
     "metadata": {
      "needs_background": "light"
     },
     "output_type": "display_data"
    }
   ],
   "source": [
    "\n",
    "\n",
    "diags = [\n",
    " 'hospital_expire_flag',\n",
    " 'Acute cerebrovascular disease',\n",
    " 'Other liver diseases',\n",
    " 'Acute and unspecified renal failure',\n",
    " 'Fluid and electrolyte disorders',\n",
    " 'Septicemia (except in labor)',\n",
    " 'Pneumonia (except that caused by tuberculosis or sexually transmitted disease)',\n",
    " 'Respiratory failure; insufficiency; arrest (adult)',\n",
    " 'Shock'\n",
    " ]\n",
    "\n",
    "\n",
    "expired_diag_series = diags_df[diags_df.columns[1:]][diags_df['hospital_expire_flag']==1].sum()\n",
    "expired_diag_series.name = 'expired'\n",
    "\n",
    "survived_diag_series = diags_df[diags_df.columns[1:]][diags_df['hospital_expire_flag']==0].sum()\n",
    "survived_diag_series.name = 'survived'\n",
    "\n",
    "diagnoses_by_survival_pd = pd.concat(\n",
    "    [\n",
    "        expired_diag_series,\n",
    "        survived_diag_series\n",
    "    ], \n",
    "    axis=1\n",
    ")\n",
    "\n",
    "diagnoses_by_survival_pd.plot.bar(\n",
    "        label= 'Survival', \n",
    "        stacked=True, \n",
    "        figsize=(13,6)\n",
    ")"
   ]
  },
  {
   "cell_type": "code",
   "execution_count": 22,
   "metadata": {},
   "outputs": [
    {
     "data": {
      "text/plain": [
       "(1618, 68)"
      ]
     },
     "execution_count": 22,
     "metadata": {},
     "output_type": "execute_result"
    }
   ],
   "source": [
    "ptnt_demog_features_one_hot_df.shape"
   ]
  },
  {
   "cell_type": "code",
   "execution_count": 24,
   "metadata": {},
   "outputs": [],
   "source": [
    "feature_selection_parameters_dict = {\n",
    "                                'k': 'all',\n",
    "                                'p_val': 0.2,\n",
    "                                'scorer': 'chi2'\n",
    "}"
   ]
  },
  {
   "cell_type": "code",
   "execution_count": 25,
   "metadata": {},
   "outputs": [
    {
     "name": "stdout",
     "output_type": "stream",
     "text": [
      "Selecting all best features \n",
      "\n"
     ]
    }
   ],
   "source": [
    "k_best_features_ranked_by_p_value = feature_selection.select_k_best_features(\n",
    "                                        ptnt_demog_features_one_hot_df, \n",
    "                                        feature_selection_parameters_dict)"
   ]
  },
  {
   "cell_type": "code",
   "execution_count": 27,
   "metadata": {},
   "outputs": [
    {
     "data": {
      "text/plain": [
       "Septicemia (except in labor)                          4.259116e-08\n",
       "first_careunit_CSRU                                   1.048401e-06\n",
       "admission_type_ELECTIVE                               2.759577e-06\n",
       "age_Q3                                                2.735699e-05\n",
       "Respiratory failure; insufficiency; arrest (adult)    9.388291e-05\n",
       "                                                          ...     \n",
       "marital_status_MARRIED                                8.779502e-01\n",
       "admission_type_URGENT                                 8.816750e-01\n",
       "Congestive heart failure; nonhypertensive             9.527329e-01\n",
       "Other lower respiratory disease                                NaN\n",
       "Other upper respiratory disease                                NaN\n",
       "Name: select_best p-values, Length: 67, dtype: float64"
      ]
     },
     "execution_count": 27,
     "metadata": {},
     "output_type": "execute_result"
    }
   ],
   "source": [
    "k_best_features_ranked_by_p_value"
   ]
  },
  {
   "cell_type": "code",
   "execution_count": 54,
   "metadata": {},
   "outputs": [
    {
     "name": "stdout",
     "output_type": "stream",
     "text": [
      "Selecting features with p-values < 0.2\n",
      "\n",
      "Filtering features to include only those with p-val < 0.2.\n",
      "resulting in 25 features\n"
     ]
    }
   ],
   "source": [
    "# best_features_selected_by_p_value = feature_selection.select_best_features_by_p_value(\n",
    "#                                         ptnt_demog_features_one_hot_df, \n",
    "#                                         feature_selection_parameters_dict)"
   ]
  },
  {
   "cell_type": "code",
   "execution_count": 29,
   "metadata": {},
   "outputs": [],
   "source": [
    "# ptnt_demog_features_one_hot_df[best_features_selected_by_p_value.index].head()\n"
   ]
  },
  {
   "cell_type": "code",
   "execution_count": 31,
   "metadata": {
    "collapsed": true,
    "jupyter": {
     "outputs_hidden": true
    }
   },
   "outputs": [
    {
     "data": {
      "text/plain": [
       "Index(['Septicemia (except in labor)', 'first_careunit_CSRU',\n",
       "       'admission_type_ELECTIVE', 'age_Q3',\n",
       "       'Respiratory failure; insufficiency; arrest (adult)',\n",
       "       'Coronary atherosclerosis and other heart disease',\n",
       "       'first_careunit_MICU', 'age_Q0', 'insurance_Private',\n",
       "       'insurance_Medicare', 'ethnicity_UNKNOWN/NOT SPECIFIED', 'age_Q1',\n",
       "       'admission_type_EMERGENCY', 'marital_status_UNKNOWN (DEFAULT)',\n",
       "       'insurance_Government', 'marital_status_DIVORCED', 'insurance_Self Pay',\n",
       "       'marital_status_SINGLE', 'first_careunit_TSICU',\n",
       "       'Complications of surgical procedures or medical care',\n",
       "       'Acute cerebrovascular disease', 'Shock',\n",
       "       'Diabetes mellitus with complications', 'Other liver diseases',\n",
       "       'Fluid and electrolyte disorders', 'marital_status_WIDOWED', 'age_Q2',\n",
       "       'Chronic obstructive pulmonary disease and bronchiectasis',\n",
       "       'insurance_Medicaid', 'first_careunit_CCU', 'ethnicity_BLACK/AFRICAN',\n",
       "       'Pleurisy; pneumothorax; pulmonary collapse', 'Chronic kidney disease',\n",
       "       'ethnicity_ASIAN', 'ethnicity_OTHER', 'ethnicity_WHITE',\n",
       "       'ethnicity_PATIENT DECLINED TO ANSWER', 'marital_status_SEPARATED',\n",
       "       'Pneumonia (except that caused by tuberculosis or sexually transmitted disease)',\n",
       "       'ethnicity_HISPANIC/LATINO - PUERTO RICAN', 'ethnicity_WHITE - RUSSIAN',\n",
       "       'Cardiac dysrhythmias', 'Essential hypertension',\n",
       "       'Gastrointestinal hemorrhage', 'ethnicity_MULTI RACE ETHNICITY',\n",
       "       'ethnicity_ASIAN - CHINESE', 'Conduction disorders',\n",
       "       'ethnicity_BLACK/AFRICAN AMERICAN',\n",
       "       'Hypertension with complications and secondary hypertension',\n",
       "       'Disorders of lipid metabolism',\n",
       "       'ethnicity_AMERICAN INDIAN/ALASKA NATIVE',\n",
       "       'ethnicity_HISPANIC/LATINO - GUATEMALAN',\n",
       "       'ethnicity_ASIAN - ASIAN INDIAN', 'ethnicity_ASIAN - VIETNAMESE',\n",
       "       'ethnicity_UNABLE TO OBTAIN', 'gender_F', 'gender_M',\n",
       "       'Acute myocardial infarction', 'Diabetes mellitus without complication',\n",
       "       'Acute and unspecified renal failure', 'first_careunit_SICU',\n",
       "       'ethnicity_HISPANIC OR LATINO', 'marital_status_MARRIED',\n",
       "       'admission_type_URGENT', 'Congestive heart failure; nonhypertensive',\n",
       "       'Other lower respiratory disease', 'Other upper respiratory disease'],\n",
       "      dtype='object')"
      ]
     },
     "execution_count": 31,
     "metadata": {},
     "output_type": "execute_result"
    }
   ],
   "source": [
    "k_best_features_ranked_by_p_value.index"
   ]
  },
  {
   "cell_type": "code",
   "execution_count": 32,
   "metadata": {},
   "outputs": [],
   "source": [
    "ptnt_demog_features_filename = 'Ptnt_Demog_Features.csv'\n",
    "features_dirname = 'features'\n",
    "ptnt_demog_features_filepath = os.path.join(DATA_DIR, 'processed',features_dirname,ptnt_demog_features_filename)\n",
    "\n",
    "ptnt_demog_features_one_hot_df[k_best_features_ranked_by_p_value.index].to_csv(\n",
    "                        ptnt_demog_features_filepath)"
   ]
  },
  {
   "cell_type": "code",
   "execution_count": 33,
   "metadata": {},
   "outputs": [
    {
     "data": {
      "text/html": [
       "<div>\n",
       "<style scoped>\n",
       "    .dataframe tbody tr th:only-of-type {\n",
       "        vertical-align: middle;\n",
       "    }\n",
       "\n",
       "    .dataframe tbody tr th {\n",
       "        vertical-align: top;\n",
       "    }\n",
       "\n",
       "    .dataframe thead th {\n",
       "        text-align: right;\n",
       "    }\n",
       "</style>\n",
       "<table border=\"1\" class=\"dataframe\">\n",
       "  <thead>\n",
       "    <tr style=\"text-align: right;\">\n",
       "      <th></th>\n",
       "      <th>Septicemia (except in labor)</th>\n",
       "      <th>first_careunit_CSRU</th>\n",
       "      <th>admission_type_ELECTIVE</th>\n",
       "      <th>age_Q3</th>\n",
       "      <th>Respiratory failure; insufficiency; arrest (adult)</th>\n",
       "      <th>Coronary atherosclerosis and other heart disease</th>\n",
       "      <th>first_careunit_MICU</th>\n",
       "      <th>age_Q0</th>\n",
       "      <th>insurance_Private</th>\n",
       "      <th>insurance_Medicare</th>\n",
       "      <th>...</th>\n",
       "      <th>Acute myocardial infarction</th>\n",
       "      <th>Diabetes mellitus without complication</th>\n",
       "      <th>Acute and unspecified renal failure</th>\n",
       "      <th>first_careunit_SICU</th>\n",
       "      <th>ethnicity_HISPANIC OR LATINO</th>\n",
       "      <th>marital_status_MARRIED</th>\n",
       "      <th>admission_type_URGENT</th>\n",
       "      <th>Congestive heart failure; nonhypertensive</th>\n",
       "      <th>Other lower respiratory disease</th>\n",
       "      <th>Other upper respiratory disease</th>\n",
       "    </tr>\n",
       "    <tr>\n",
       "      <th>icustay_id</th>\n",
       "      <th></th>\n",
       "      <th></th>\n",
       "      <th></th>\n",
       "      <th></th>\n",
       "      <th></th>\n",
       "      <th></th>\n",
       "      <th></th>\n",
       "      <th></th>\n",
       "      <th></th>\n",
       "      <th></th>\n",
       "      <th></th>\n",
       "      <th></th>\n",
       "      <th></th>\n",
       "      <th></th>\n",
       "      <th></th>\n",
       "      <th></th>\n",
       "      <th></th>\n",
       "      <th></th>\n",
       "      <th></th>\n",
       "      <th></th>\n",
       "      <th></th>\n",
       "    </tr>\n",
       "  </thead>\n",
       "  <tbody>\n",
       "    <tr>\n",
       "      <th>211552</th>\n",
       "      <td>1</td>\n",
       "      <td>0</td>\n",
       "      <td>0</td>\n",
       "      <td>0</td>\n",
       "      <td>0</td>\n",
       "      <td>0</td>\n",
       "      <td>1</td>\n",
       "      <td>0</td>\n",
       "      <td>0</td>\n",
       "      <td>1</td>\n",
       "      <td>...</td>\n",
       "      <td>0</td>\n",
       "      <td>0</td>\n",
       "      <td>0</td>\n",
       "      <td>0</td>\n",
       "      <td>0</td>\n",
       "      <td>1</td>\n",
       "      <td>0</td>\n",
       "      <td>0</td>\n",
       "      <td>0</td>\n",
       "      <td>0</td>\n",
       "    </tr>\n",
       "    <tr>\n",
       "      <th>294638</th>\n",
       "      <td>0</td>\n",
       "      <td>0</td>\n",
       "      <td>0</td>\n",
       "      <td>0</td>\n",
       "      <td>0</td>\n",
       "      <td>0</td>\n",
       "      <td>1</td>\n",
       "      <td>1</td>\n",
       "      <td>1</td>\n",
       "      <td>0</td>\n",
       "      <td>...</td>\n",
       "      <td>0</td>\n",
       "      <td>0</td>\n",
       "      <td>0</td>\n",
       "      <td>0</td>\n",
       "      <td>0</td>\n",
       "      <td>0</td>\n",
       "      <td>0</td>\n",
       "      <td>0</td>\n",
       "      <td>0</td>\n",
       "      <td>0</td>\n",
       "    </tr>\n",
       "    <tr>\n",
       "      <th>228232</th>\n",
       "      <td>0</td>\n",
       "      <td>0</td>\n",
       "      <td>1</td>\n",
       "      <td>0</td>\n",
       "      <td>0</td>\n",
       "      <td>0</td>\n",
       "      <td>0</td>\n",
       "      <td>0</td>\n",
       "      <td>0</td>\n",
       "      <td>1</td>\n",
       "      <td>...</td>\n",
       "      <td>0</td>\n",
       "      <td>0</td>\n",
       "      <td>0</td>\n",
       "      <td>1</td>\n",
       "      <td>0</td>\n",
       "      <td>1</td>\n",
       "      <td>0</td>\n",
       "      <td>0</td>\n",
       "      <td>0</td>\n",
       "      <td>0</td>\n",
       "    </tr>\n",
       "    <tr>\n",
       "      <th>220597</th>\n",
       "      <td>0</td>\n",
       "      <td>0</td>\n",
       "      <td>0</td>\n",
       "      <td>0</td>\n",
       "      <td>0</td>\n",
       "      <td>0</td>\n",
       "      <td>1</td>\n",
       "      <td>1</td>\n",
       "      <td>0</td>\n",
       "      <td>0</td>\n",
       "      <td>...</td>\n",
       "      <td>0</td>\n",
       "      <td>0</td>\n",
       "      <td>0</td>\n",
       "      <td>0</td>\n",
       "      <td>0</td>\n",
       "      <td>0</td>\n",
       "      <td>0</td>\n",
       "      <td>0</td>\n",
       "      <td>0</td>\n",
       "      <td>0</td>\n",
       "    </tr>\n",
       "    <tr>\n",
       "      <th>232669</th>\n",
       "      <td>0</td>\n",
       "      <td>0</td>\n",
       "      <td>1</td>\n",
       "      <td>0</td>\n",
       "      <td>0</td>\n",
       "      <td>0</td>\n",
       "      <td>0</td>\n",
       "      <td>0</td>\n",
       "      <td>0</td>\n",
       "      <td>1</td>\n",
       "      <td>...</td>\n",
       "      <td>0</td>\n",
       "      <td>0</td>\n",
       "      <td>0</td>\n",
       "      <td>1</td>\n",
       "      <td>0</td>\n",
       "      <td>1</td>\n",
       "      <td>0</td>\n",
       "      <td>0</td>\n",
       "      <td>0</td>\n",
       "      <td>0</td>\n",
       "    </tr>\n",
       "  </tbody>\n",
       "</table>\n",
       "<p>5 rows × 67 columns</p>\n",
       "</div>"
      ],
      "text/plain": [
       "            Septicemia (except in labor)  first_careunit_CSRU  \\\n",
       "icustay_id                                                      \n",
       "211552                                 1                    0   \n",
       "294638                                 0                    0   \n",
       "228232                                 0                    0   \n",
       "220597                                 0                    0   \n",
       "232669                                 0                    0   \n",
       "\n",
       "            admission_type_ELECTIVE  age_Q3  \\\n",
       "icustay_id                                    \n",
       "211552                            0       0   \n",
       "294638                            0       0   \n",
       "228232                            1       0   \n",
       "220597                            0       0   \n",
       "232669                            1       0   \n",
       "\n",
       "            Respiratory failure; insufficiency; arrest (adult)  \\\n",
       "icustay_id                                                       \n",
       "211552                                                      0    \n",
       "294638                                                      0    \n",
       "228232                                                      0    \n",
       "220597                                                      0    \n",
       "232669                                                      0    \n",
       "\n",
       "            Coronary atherosclerosis and other heart disease  \\\n",
       "icustay_id                                                     \n",
       "211552                                                     0   \n",
       "294638                                                     0   \n",
       "228232                                                     0   \n",
       "220597                                                     0   \n",
       "232669                                                     0   \n",
       "\n",
       "            first_careunit_MICU  age_Q0  insurance_Private  \\\n",
       "icustay_id                                                   \n",
       "211552                        1       0                  0   \n",
       "294638                        1       1                  1   \n",
       "228232                        0       0                  0   \n",
       "220597                        1       1                  0   \n",
       "232669                        0       0                  0   \n",
       "\n",
       "            insurance_Medicare  ...  Acute myocardial infarction  \\\n",
       "icustay_id                      ...                                \n",
       "211552                       1  ...                            0   \n",
       "294638                       0  ...                            0   \n",
       "228232                       1  ...                            0   \n",
       "220597                       0  ...                            0   \n",
       "232669                       1  ...                            0   \n",
       "\n",
       "            Diabetes mellitus without complication  \\\n",
       "icustay_id                                           \n",
       "211552                                           0   \n",
       "294638                                           0   \n",
       "228232                                           0   \n",
       "220597                                           0   \n",
       "232669                                           0   \n",
       "\n",
       "            Acute and unspecified renal failure  first_careunit_SICU  \\\n",
       "icustay_id                                                             \n",
       "211552                                        0                    0   \n",
       "294638                                        0                    0   \n",
       "228232                                        0                    1   \n",
       "220597                                        0                    0   \n",
       "232669                                        0                    1   \n",
       "\n",
       "            ethnicity_HISPANIC OR LATINO  marital_status_MARRIED  \\\n",
       "icustay_id                                                         \n",
       "211552                                 0                       1   \n",
       "294638                                 0                       0   \n",
       "228232                                 0                       1   \n",
       "220597                                 0                       0   \n",
       "232669                                 0                       1   \n",
       "\n",
       "            admission_type_URGENT  Congestive heart failure; nonhypertensive  \\\n",
       "icustay_id                                                                     \n",
       "211552                          0                                          0   \n",
       "294638                          0                                          0   \n",
       "228232                          0                                          0   \n",
       "220597                          0                                          0   \n",
       "232669                          0                                          0   \n",
       "\n",
       "            Other lower respiratory disease  Other upper respiratory disease  \n",
       "icustay_id                                                                    \n",
       "211552                                    0                                0  \n",
       "294638                                    0                                0  \n",
       "228232                                    0                                0  \n",
       "220597                                    0                                0  \n",
       "232669                                    0                                0  \n",
       "\n",
       "[5 rows x 67 columns]"
      ]
     },
     "execution_count": 33,
     "metadata": {},
     "output_type": "execute_result"
    }
   ],
   "source": [
    "ptnt_demog_features_one_hot_df[k_best_features_ranked_by_p_value.index].head()"
   ]
  },
  {
   "cell_type": "code",
   "execution_count": null,
   "metadata": {},
   "outputs": [],
   "source": []
  },
  {
   "cell_type": "code",
   "execution_count": null,
   "metadata": {},
   "outputs": [],
   "source": []
  },
  {
   "cell_type": "code",
   "execution_count": null,
   "metadata": {},
   "outputs": [],
   "source": []
  },
  {
   "cell_type": "code",
   "execution_count": null,
   "metadata": {},
   "outputs": [],
   "source": []
  },
  {
   "cell_type": "code",
   "execution_count": null,
   "metadata": {},
   "outputs": [],
   "source": []
  },
  {
   "cell_type": "code",
   "execution_count": null,
   "metadata": {},
   "outputs": [],
   "source": []
  }
 ],
 "metadata": {
  "kernelspec": {
   "display_name": "Python 3",
   "language": "python",
   "name": "python3"
  },
  "language_info": {
   "codemirror_mode": {
    "name": "ipython",
    "version": 3
   },
   "file_extension": ".py",
   "mimetype": "text/x-python",
   "name": "python",
   "nbconvert_exporter": "python",
   "pygments_lexer": "ipython3",
   "version": "3.7.2"
  }
 },
 "nbformat": 4,
 "nbformat_minor": 4
}
