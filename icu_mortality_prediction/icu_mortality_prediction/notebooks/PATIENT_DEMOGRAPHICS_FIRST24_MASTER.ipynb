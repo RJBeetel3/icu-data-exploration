{
 "cells": [
  {
   "cell_type": "code",
   "execution_count": 1,
   "metadata": {
    "collapsed": false,
    "jupyter": {
     "outputs_hidden": false
    }
   },
   "outputs": [],
   "source": [
    "%load_ext autoreload\n",
    "%autoreload 2\n",
    "import sys\n",
    "import os\n",
    "import pandas as pd\n",
    "import datetime as datetime\n",
    "import numpy as np\n",
    "from dateutil.relativedelta import relativedelta\n",
    "from sklearn.preprocessing import OneHotEncoder\n",
    "import matplotlib\n",
    "import matplotlib.pyplot as plt\n",
    "#import psycopg2\n",
    "from scipy.stats import ks_2samp\n",
    "import scipy.stats as scats\n",
    "# import visuals as vs\n",
    "from sklearn.decomposition import PCA\n",
    "from sklearn import preprocessing\n",
    "from sklearn.neural_network import MLPClassifier\n",
    "from sklearn.naive_bayes import GaussianNB\n",
    "from sklearn.tree import DecisionTreeClassifier\n",
    "from sklearn.neighbors import KNeighborsClassifier\n",
    "\n",
    "\n",
    "from sklearn import metrics\n",
    "from sklearn import svm\n",
    "from sklearn.model_selection import cross_val_score\n",
    "from sklearn.model_selection import train_test_split\n",
    "from sklearn.feature_selection import SelectKBest\n",
    "from sklearn.feature_selection import chi2\n",
    "from sklearn.feature_selection import f_classif\n",
    "\n",
    "import yaml\n",
    "\n",
    "from icu_mortality_prediction import DATA_DIR\n"
   ]
  },
  {
   "cell_type": "code",
   "execution_count": 2,
   "metadata": {},
   "outputs": [],
   "source": [
    "from icu_mortality_prediction.src.features import ptnt_demog\n",
    "from icu_mortality_prediction.src.utils import data_utils\n",
    "from icu_mortality_prediction.src.utils import feature_selection"
   ]
  },
  {
   "cell_type": "markdown",
   "metadata": {},
   "source": [
    "# MIMIC-III Critical Care Database\n",
    "\n",
    "MIMIC-III (Medical Information Mart for Intensive Care III) is a large, freely-available database comprising deidentified health-related data associated with over forty thousand patients who stayed in critical care units of the Beth Israel Deaconess Medical Center between 2001 and 2012.\n",
    "\n",
    "The database includes information such as demographics, vital sign measurements made at the bedside (~1 data point per hour), laboratory test results, procedures, medications, caregiver notes, imaging reports, and mortality (both in and out of hospital).\n",
    "\n",
    "MIMIC supports a diverse range of analytic studies spanning epidemiology, clinical decision-rule improvement, and electronic tool development. It is notable for three factors:\n",
    "\n",
    "it is freely available to researchers worldwide\n",
    "it encompasses a diverse and very large population of ICU patients\n",
    "it contains high temporal resolution data including lab results, electronic documentation, and bedside monitor trends and waveforms.\n",
    "\n",
    "Citations: \n",
    "MIMIC-III, a freely accessible critical care database. Johnson AEW, Pollard TJ, Shen L, Lehman L, Feng M, Ghassemi M, Moody B, Szolovits P, Celi LA, and Mark RG. Scientific Data (2016). DOI: 10.1038/sdata.2016.35. Available at: http://www.nature.com/articles/sdata201635\n",
    "\n",
    "Pollard, T. J. & Johnson, A. E. W. The MIMIC-III Clinical Database http://dx.doi.org/10.13026/C2XW26 (2016).\n",
    "\n"
   ]
  },
  {
   "cell_type": "markdown",
   "metadata": {},
   "source": [
    "# IMPORTING DATA\n",
    "The mimic III database was downloaded and reconstructed locally using postgresql. The database was managed graphically using Portico. \n",
    "A query was run on the mimic III database to generate demographic data and data concerning hospital and ICU stays for patients diagnosed with sepsis according to the Angus criteria (Angus et al, 2001. Epidemiology of severe sepsis in the United States; http://www.ncbi.nlm.nih.gov/pubmed/11445675 )\n",
    "\n",
    "The query was exported from Porticoto the file PTNT_DEMOG_FIRST24.csv. The data was read into a pandas dataframe lab_events."
   ]
  },
  {
   "cell_type": "markdown",
   "metadata": {},
   "source": [
    "## IMPORTING DATA"
   ]
  },
  {
   "cell_type": "code",
   "execution_count": 3,
   "metadata": {
    "collapsed": false,
    "jupyter": {
     "outputs_hidden": false
    }
   },
   "outputs": [
    {
     "name": "stdout",
     "output_type": "stream",
     "text": [
      "imported\n"
     ]
    }
   ],
   "source": [
    "# patient demographic data includes diagnoses and icd9 codes for each patient and each icustay\n",
    "demographics_filename = 'PTNT_DEMOG_FIRST24.csv'\n",
    "demographics_filepath = os.path.join(DATA_DIR, 'interim',demographics_filename)\n",
    "ptnt_demog_data = pd.read_csv(demographics_filepath, index_col = 'icustay_id')\n",
    "ptnt_demog_data = ptnt_demog_data.head(10000)\n",
    "ptnt_demog_data2 = ptnt_demog_data[~ptnt_demog_data.index.duplicated(keep='first')].copy()\n",
    "# ptnt_demog_data2.drop(['subject_id', 'deathtime', 'hadm_id'], inplace = True, axis = 1)\n",
    "# cols = list(ptnt_demog_data2.columns)\n",
    "# cols.insert(0, cols.pop(cols.index('hospital_expire_flag')))\n",
    "# ptnt_demog_data2 = ptnt_demog_data2[cols]\n",
    "print(\"imported\")\n"
   ]
  },
  {
   "cell_type": "code",
   "execution_count": 4,
   "metadata": {},
   "outputs": [
    {
     "data": {
      "text/plain": [
       "'/Users/robertbeetel/Workspace/personal_projects/icu_data_exploration/icu_mortality_prediction/icu_mortality_prediction/data/interim/PTNT_DEMOG_FIRST24.csv'"
      ]
     },
     "execution_count": 4,
     "metadata": {},
     "output_type": "execute_result"
    }
   ],
   "source": [
    "demographics_filepath"
   ]
  },
  {
   "cell_type": "code",
   "execution_count": 5,
   "metadata": {},
   "outputs": [
    {
     "data": {
      "text/plain": [
       "Index(['hadm_id', 'subject_id', 'first_careunit', 'gender', 'marital_status',\n",
       "       'ethnicity', 'insurance', 'admission_type', 'admittime', 'dischtime',\n",
       "       'intime', 'outtime', 'deathtime', 'dob', 'hospital_expire_flag',\n",
       "       'icd9_code', 'icd9_code.1', 'short_title', 'seq_num'],\n",
       "      dtype='object')"
      ]
     },
     "execution_count": 5,
     "metadata": {},
     "output_type": "execute_result"
    }
   ],
   "source": [
    "ptnt_demog_data.columns"
   ]
  },
  {
   "cell_type": "code",
   "execution_count": 6,
   "metadata": {},
   "outputs": [],
   "source": [
    "# drop patient and hospital stay ID's\n",
    "\n",
    "ptnt_demog_data2.drop(['hadm_id', 'subject_id', 'seq_num'], axis=1, inplace=True)"
   ]
  },
  {
   "cell_type": "code",
   "execution_count": 7,
   "metadata": {},
   "outputs": [
    {
     "name": "stdout",
     "output_type": "stream",
     "text": [
      "converting dob\n",
      "converting admittime\n",
      "converting dischtime\n",
      "converting intime\n",
      "converting outtime\n",
      "converting deathtime\n"
     ]
    }
   ],
   "source": [
    "date_time_cols = ['dob', 'admittime', 'dischtime', 'intime', 'outtime', 'deathtime']\n",
    "ptnt_demog_data2 = data_utils.cast_dates_and_times(ptnt_demog_data2, date_time_cols)"
   ]
  },
  {
   "cell_type": "code",
   "execution_count": 8,
   "metadata": {},
   "outputs": [
    {
     "name": "stdout",
     "output_type": "stream",
     "text": [
      "calling calculate_durations\n",
      "Calculating ages, duration of stays\n"
     ]
    }
   ],
   "source": [
    "#print(ptnt_demog.columns)\n",
    "print(\"calling calculate_durations\")\n",
    "ptnt_demog_data2 = ptnt_demog.calculate_age_icu_and_hospital_stay_durations(ptnt_demog_data2)\n",
    "#print \"ptnt_demog2 out of function\""
   ]
  },
  {
   "cell_type": "code",
   "execution_count": 9,
   "metadata": {},
   "outputs": [],
   "source": [
    "# replace age greater than 100yrs\n",
    "ptnt_demog_data2 = ptnt_demog.remove_age_greater_than_100yrs(ptnt_demog_data2)\n"
   ]
  },
  {
   "cell_type": "code",
   "execution_count": 10,
   "metadata": {},
   "outputs": [
    {
     "name": "stdout",
     "output_type": "stream",
     "text": [
      "calling create_diagnoses_defs\n",
      "creating diagnoses definitions\n",
      "creating diagnoses definitions\n",
      "map created\n"
     ]
    }
   ],
   "source": [
    "print(\"calling create_diagnoses_defs\")\n",
    "diagnoses_bm_list, diagnoses = ptnt_demog.create_diagnoses_defs(ptnt_demog_data2)\n",
    "#print(diagnoses_bm)\n",
    "#print(diagnoses.head())"
   ]
  },
  {
   "cell_type": "code",
   "execution_count": 11,
   "metadata": {},
   "outputs": [
    {
     "name": "stdout",
     "output_type": "stream",
     "text": [
      "calling create_diagnoses_df\n"
     ]
    }
   ],
   "source": [
    "print(\"calling create_diagnoses_df\")\n",
    "diagnoses2 = ptnt_demog.create_diagnoses_df(ptnt_demog_data2, diagnoses_bm_list, diagnoses)\n",
    "#print(ptnt_demog_data.head())\n"
   ]
  },
  {
   "cell_type": "code",
   "execution_count": 12,
   "metadata": {},
   "outputs": [],
   "source": [
    "# Drop no longer useful diagnosis code columns from demographics table\n",
    "diagnosis_cols = [\n",
    "                    'icd9_code', \n",
    "                    'icd9_code.1', \n",
    "                    'short_title'\n",
    "                    ]\n",
    "# Drop diagnosis columns\n",
    "ptnt_demog_data2.drop(diagnosis_cols, axis=1, inplace=True)\n"
   ]
  },
  {
   "cell_type": "code",
   "execution_count": 13,
   "metadata": {},
   "outputs": [],
   "source": [
    "ptnt_demog_data2.drop(['icu_stay_duration', 'hosp_stay_duration'], \n",
    "                       axis=1, inplace=True)\n"
   ]
  },
  {
   "cell_type": "code",
   "execution_count": 14,
   "metadata": {},
   "outputs": [],
   "source": [
    "columns_by_data_type_dict = data_utils.group_column_names_by_data_type(ptnt_demog_data2)"
   ]
  },
  {
   "cell_type": "code",
   "execution_count": 15,
   "metadata": {},
   "outputs": [
    {
     "data": {
      "text/plain": [
       "{'float64_cols': ['age'],\n",
       " 'categorical_cols': ['first_careunit',\n",
       "  'gender',\n",
       "  'marital_status',\n",
       "  'ethnicity',\n",
       "  'insurance',\n",
       "  'admission_type'],\n",
       " 'bool_cols': [],\n",
       " 'int64_cols': ['hospital_expire_flag'],\n",
       " 'datetime64[ns]': ['admittime',\n",
       "  'dischtime',\n",
       "  'intime',\n",
       "  'outtime',\n",
       "  'deathtime',\n",
       "  'dob']}"
      ]
     },
     "execution_count": 15,
     "metadata": {},
     "output_type": "execute_result"
    }
   ],
   "source": [
    "columns_by_data_type_dict"
   ]
  },
  {
   "cell_type": "code",
   "execution_count": 16,
   "metadata": {},
   "outputs": [],
   "source": [
    "# Drop no longer useful date-times from demographics table\n",
    "\n",
    "ptnt_demog_data2.drop(columns_by_data_type_dict['datetime64[ns]'],\n",
    "                                                axis=1, inplace=True)\n",
    "\n"
   ]
  },
  {
   "cell_type": "code",
   "execution_count": 17,
   "metadata": {},
   "outputs": [
    {
     "name": "stdout",
     "output_type": "stream",
     "text": [
      "Calling continuous to categorical conversion\n",
      "               age\n",
      "count  1562.000000\n",
      "mean     63.442382\n",
      "std      16.348764\n",
      "min      18.000000\n",
      "25%      53.000000\n",
      "50%      67.000000\n",
      "75%      77.000000\n",
      "max      89.000000\n"
     ]
    }
   ],
   "source": [
    "print(\"Calling continuous to categorical conversion\")\n",
    "ptnt_demog_data2 = data_utils.continuous_to_categorical(ptnt_demog_data2, columns_by_data_type_dict)\n",
    "#print(ptnt_demog_data.head())"
   ]
  },
  {
   "cell_type": "markdown",
   "metadata": {},
   "source": [
    "### RE-ORDER COLUMNS"
   ]
  },
  {
   "cell_type": "code",
   "execution_count": 18,
   "metadata": {},
   "outputs": [
    {
     "data": {
      "text/plain": [
       "Index(['hospital_expire_flag', 'first_careunit', 'gender', 'marital_status',\n",
       "       'ethnicity', 'insurance', 'admission_type', 'age'],\n",
       "      dtype='object')"
      ]
     },
     "execution_count": 18,
     "metadata": {},
     "output_type": "execute_result"
    }
   ],
   "source": [
    "cols = list(ptnt_demog_data2.columns)\n",
    "cols.insert(0, cols.pop(cols.index('hospital_expire_flag')))\n",
    "ptnt_demog_data2 = ptnt_demog_data2[cols]\n",
    "ptnt_demog_data2.columns"
   ]
  },
  {
   "cell_type": "code",
   "execution_count": 19,
   "metadata": {},
   "outputs": [
    {
     "name": "stdout",
     "output_type": "stream",
     "text": [
      "Calling categorical to dummy variables\n"
     ]
    }
   ],
   "source": [
    "print(\"Calling categorical to dummy variables\")\n",
    "ptnt_demog_feature_cols = ptnt_demog_data2.columns[1:]\n",
    "ptnt_demog_features_one_hot_df = data_utils.one_hot_encode_categorical_features(ptnt_demog_data2, ptnt_demog_feature_cols)\n"
   ]
  },
  {
   "cell_type": "code",
   "execution_count": 20,
   "metadata": {},
   "outputs": [],
   "source": [
    "ptnt_demog_features_one_hot_df = ptnt_demog_features_one_hot_df.merge(diagnoses2, left_index = True, right_index = True, \n",
    "                           how = 'left')"
   ]
  },
  {
   "cell_type": "code",
   "execution_count": 21,
   "metadata": {},
   "outputs": [
    {
     "data": {
      "text/plain": [
       "<matplotlib.axes._subplots.AxesSubplot at 0x1174fc668>"
      ]
     },
     "execution_count": 21,
     "metadata": {},
     "output_type": "execute_result"
    },
    {
     "data": {
      "image/png": "[encoded data removed]",
      "text/plain": [
       "<Figure size 936x432 with 1 Axes>"
      ]
     },
     "metadata": {
      "needs_background": "light"
     },
     "output_type": "display_data"
    }
   ],
   "source": [
    "\n",
    "\n",
    "diags = [\n",
    " 'hospital_expire_flag',\n",
    " 'Acute cerebrovascular disease',\n",
    " 'Other liver diseases',\n",
    " 'Acute and unspecified renal failure',\n",
    " 'Fluid and electrolyte disorders',\n",
    " 'Septicemia (except in labor)',\n",
    " 'Pneumonia (except that caused by tuberculosis or sexually transmitted disease)',\n",
    " 'Respiratory failure; insufficiency; arrest (adult)',\n",
    " 'Shock'\n",
    " ]\n",
    "\n",
    "\n",
    "plt.subplots(figsize=(13,6))\n",
    "diags_df = ptnt_demog_features_one_hot_df[diags]\n",
    "#diags_df.head()\n",
    "\n",
    "diags_df[diags_df.columns[1:]][diags_df['hospital_expire_flag']==1].sum().plot.bar(\n",
    "        alpha=0.5,label= 'Non_Survival')\n",
    "diags_df[diags_df.columns[1:]][diags_df['hospital_expire_flag']==0].sum().plot.bar(\n",
    "        alpha=0.1,label= 'Survival')\n",
    "    "
   ]
  },
  {
   "cell_type": "code",
   "execution_count": 22,
   "metadata": {},
   "outputs": [
    {
     "data": {
      "text/plain": [
       "(1618, 68)"
      ]
     },
     "execution_count": 22,
     "metadata": {},
     "output_type": "execute_result"
    }
   ],
   "source": [
    "ptnt_demog_features_one_hot_df.shape"
   ]
  },
  {
   "cell_type": "code",
   "execution_count": 24,
   "metadata": {},
   "outputs": [],
   "source": [
    "feature_selection_parameters_dict = {\n",
    "                                'k': 'all',\n",
    "                                'p_val': 0.2,\n",
    "                                'scorer': 'chi2'\n",
    "}"
   ]
  },
  {
   "cell_type": "code",
   "execution_count": 25,
   "metadata": {},
   "outputs": [
    {
     "name": "stdout",
     "output_type": "stream",
     "text": [
      "Selecting all best features \n",
      "\n"
     ]
    }
   ],
   "source": [
    "k_best_features_ranked_by_p_value = feature_selection.select_k_best_features(\n",
    "                                        ptnt_demog_features_one_hot_df, \n",
    "                                        feature_selection_parameters_dict)"
   ]
  },
  {
   "cell_type": "code",
   "execution_count": 27,
   "metadata": {},
   "outputs": [
    {
     "data": {
      "text/plain": [
       "Septicemia (except in labor)                          4.259116e-08\n",
       "first_careunit_CSRU                                   1.048401e-06\n",
       "admission_type_ELECTIVE                               2.759577e-06\n",
       "age_Q3                                                2.735699e-05\n",
       "Respiratory failure; insufficiency; arrest (adult)    9.388291e-05\n",
       "                                                          ...     \n",
       "marital_status_MARRIED                                8.779502e-01\n",
       "admission_type_URGENT                                 8.816750e-01\n",
       "Congestive heart failure; nonhypertensive             9.527329e-01\n",
       "Other lower respiratory disease                                NaN\n",
       "Other upper respiratory disease                                NaN\n",
       "Name: select_best p-values, Length: 67, dtype: float64"
      ]
     },
     "execution_count": 27,
     "metadata": {},
     "output_type": "execute_result"
    }
   ],
   "source": [
    "k_best_features_ranked_by_p_value"
   ]
  },
  {
   "cell_type": "code",
   "execution_count": 54,
   "metadata": {},
   "outputs": [
    {
     "name": "stdout",
     "output_type": "stream",
     "text": [
      "Selecting features with p-values < 0.2\n",
      "\n",
      "Filtering features to include only those with p-val < 0.2.\n",
      "resulting in 25 features\n"
     ]
    }
   ],
   "source": [
    "# best_features_selected_by_p_value = feature_selection.select_best_features_by_p_value(\n",
    "#                                         ptnt_demog_features_one_hot_df, \n",
    "#                                         feature_selection_parameters_dict)"
   ]
  },
  {
   "cell_type": "code",
   "execution_count": 29,
   "metadata": {},
   "outputs": [],
   "source": [
    "# ptnt_demog_features_one_hot_df[best_features_selected_by_p_value.index].head()\n"
   ]
  },
  {
   "cell_type": "code",
   "execution_count": 31,
   "metadata": {
    "collapsed": true,
    "jupyter": {
     "outputs_hidden": true
    }
   },
   "outputs": [
    {
     "data": {
      "text/plain": [
       "Index(['Septicemia (except in labor)', 'first_careunit_CSRU',\n",
       "       'admission_type_ELECTIVE', 'age_Q3',\n",
       "       'Respiratory failure; insufficiency; arrest (adult)',\n",
       "       'Coronary atherosclerosis and other heart disease',\n",
       "       'first_careunit_MICU', 'age_Q0', 'insurance_Private',\n",
       "       'insurance_Medicare', 'ethnicity_UNKNOWN/NOT SPECIFIED', 'age_Q1',\n",
       "       'admission_type_EMERGENCY', 'marital_status_UNKNOWN (DEFAULT)',\n",
       "       'insurance_Government', 'marital_status_DIVORCED', 'insurance_Self Pay',\n",
       "       'marital_status_SINGLE', 'first_careunit_TSICU',\n",
       "       'Complications of surgical procedures or medical care',\n",
       "       'Acute cerebrovascular disease', 'Shock',\n",
       "       'Diabetes mellitus with complications', 'Other liver diseases',\n",
       "       'Fluid and electrolyte disorders', 'marital_status_WIDOWED', 'age_Q2',\n",
       "       'Chronic obstructive pulmonary disease and bronchiectasis',\n",
       "       'insurance_Medicaid', 'first_careunit_CCU', 'ethnicity_BLACK/AFRICAN',\n",
       "       'Pleurisy; pneumothorax; pulmonary collapse', 'Chronic kidney disease',\n",
       "       'ethnicity_ASIAN', 'ethnicity_OTHER', 'ethnicity_WHITE',\n",
       "       'ethnicity_PATIENT DECLINED TO ANSWER', 'marital_status_SEPARATED',\n",
       "       'Pneumonia (except that caused by tuberculosis or sexually transmitted disease)',\n",
       "       'ethnicity_HISPANIC/LATINO - PUERTO RICAN', 'ethnicity_WHITE - RUSSIAN',\n",
       "       'Cardiac dysrhythmias', 'Essential hypertension',\n",
       "       'Gastrointestinal hemorrhage', 'ethnicity_MULTI RACE ETHNICITY',\n",
       "       'ethnicity_ASIAN - CHINESE', 'Conduction disorders',\n",
       "       'ethnicity_BLACK/AFRICAN AMERICAN',\n",
       "       'Hypertension with complications and secondary hypertension',\n",
       "       'Disorders of lipid metabolism',\n",
       "       'ethnicity_AMERICAN INDIAN/ALASKA NATIVE',\n",
       "       'ethnicity_HISPANIC/LATINO - GUATEMALAN',\n",
       "       'ethnicity_ASIAN - ASIAN INDIAN', 'ethnicity_ASIAN - VIETNAMESE',\n",
       "       'ethnicity_UNABLE TO OBTAIN', 'gender_F', 'gender_M',\n",
       "       'Acute myocardial infarction', 'Diabetes mellitus without complication',\n",
       "       'Acute and unspecified renal failure', 'first_careunit_SICU',\n",
       "       'ethnicity_HISPANIC OR LATINO', 'marital_status_MARRIED',\n",
       "       'admission_type_URGENT', 'Congestive heart failure; nonhypertensive',\n",
       "       'Other lower respiratory disease', 'Other upper respiratory disease'],\n",
       "      dtype='object')"
      ]
     },
     "execution_count": 31,
     "metadata": {},
     "output_type": "execute_result"
    }
   ],
   "source": [
    "k_best_features_ranked_by_p_value.index"
   ]
  },
  {
   "cell_type": "code",
   "execution_count": 32,
   "metadata": {},
   "outputs": [],
   "source": [
    "ptnt_demog_features_filename = 'Ptnt_Demog_Features.csv'\n",
    "features_dirname = 'features'\n",
    "ptnt_demog_features_filepath = os.path.join(DATA_DIR, 'processed',features_dirname,ptnt_demog_features_filename)\n",
    "\n",
    "ptnt_demog_features_one_hot_df[k_best_features_ranked_by_p_value.index].to_csv(\n",
    "                        ptnt_demog_features_filepath)"
   ]
  },
  {
   "cell_type": "code",
   "execution_count": 33,
   "metadata": {},
   "outputs": [
    {
     "data": {
      "text/html": [
       "<div>\n",
       "<style scoped>\n",
       "    .dataframe tbody tr th:only-of-type {\n",
       "        vertical-align: middle;\n",
       "    }\n",
       "\n",
       "    .dataframe tbody tr th {\n",
       "        vertical-align: top;\n",
       "    }\n",
       "\n",
       "    .dataframe thead th {\n",
       "        text-align: right;\n",
       "    }\n",
       "</style>\n",
       "<table border=\"1\" class=\"dataframe\">\n",
       "  <thead>\n",
       "    <tr style=\"text-align: right;\">\n",
       "      <th></th>\n",
       "      <th>Septicemia (except in labor)</th>\n",
       "      <th>first_careunit_CSRU</th>\n",
       "      <th>admission_type_ELECTIVE</th>\n",
       "      <th>age_Q3</th>\n",
       "      <th>Respiratory failure; insufficiency; arrest (adult)</th>\n",
       "      <th>Coronary atherosclerosis and other heart disease</th>\n",
       "      <th>first_careunit_MICU</th>\n",
       "      <th>age_Q0</th>\n",
       "      <th>insurance_Private</th>\n",
       "      <th>insurance_Medicare</th>\n",
       "      <th>...</th>\n",
       "      <th>Acute myocardial infarction</th>\n",
       "      <th>Diabetes mellitus without complication</th>\n",
       "      <th>Acute and unspecified renal failure</th>\n",
       "      <th>first_careunit_SICU</th>\n",
       "      <th>ethnicity_HISPANIC OR LATINO</th>\n",
       "      <th>marital_status_MARRIED</th>\n",
       "      <th>admission_type_URGENT</th>\n",
       "      <th>Congestive heart failure; nonhypertensive</th>\n",
       "      <th>Other lower respiratory disease</th>\n",
       "      <th>Other upper respiratory disease</th>\n",
       "    </tr>\n",
       "    <tr>\n",
       "      <th>icustay_id</th>\n",
       "      <th></th>\n",
       "      <th></th>\n",
       "      <th></th>\n",
       "      <th></th>\n",
       "      <th></th>\n",
       "      <th></th>\n",
       "      <th></th>\n",
       "      <th></th>\n",
       "      <th></th>\n",
       "      <th></th>\n",
       "      <th></th>\n",
       "      <th></th>\n",
       "      <th></th>\n",
       "      <th></th>\n",
       "      <th></th>\n",
       "      <th></th>\n",
       "      <th></th>\n",
       "      <th></th>\n",
       "      <th></th>\n",
       "      <th></th>\n",
       "      <th></th>\n",
       "    </tr>\n",
       "  </thead>\n",
       "  <tbody>\n",
       "    <tr>\n",
       "      <th>211552</th>\n",
       "      <td>1</td>\n",
       "      <td>0</td>\n",
       "      <td>0</td>\n",
       "      <td>0</td>\n",
       "      <td>0</td>\n",
       "      <td>0</td>\n",
       "      <td>1</td>\n",
       "      <td>0</td>\n",
       "      <td>0</td>\n",
       "      <td>1</td>\n",
       "      <td>...</td>\n",
       "      <td>0</td>\n",
       "      <td>0</td>\n",
       "      <td>0</td>\n",
       "      <td>0</td>\n",
       "      <td>0</td>\n",
       "      <td>1</td>\n",
       "      <td>0</td>\n",
       "      <td>0</td>\n",
       "      <td>0</td>\n",
       "      <td>0</td>\n",
       "    </tr>\n",
       "    <tr>\n",
       "      <th>294638</th>\n",
       "      <td>0</td>\n",
       "      <td>0</td>\n",
       "      <td>0</td>\n",
       "      <td>0</td>\n",
       "      <td>0</td>\n",
       "      <td>0</td>\n",
       "      <td>1</td>\n",
       "      <td>1</td>\n",
       "      <td>1</td>\n",
       "      <td>0</td>\n",
       "      <td>...</td>\n",
       "      <td>0</td>\n",
       "      <td>0</td>\n",
       "      <td>0</td>\n",
       "      <td>0</td>\n",
       "      <td>0</td>\n",
       "      <td>0</td>\n",
       "      <td>0</td>\n",
       "      <td>0</td>\n",
       "      <td>0</td>\n",
       "      <td>0</td>\n",
       "    </tr>\n",
       "    <tr>\n",
       "      <th>228232</th>\n",
       "      <td>0</td>\n",
       "      <td>0</td>\n",
       "      <td>1</td>\n",
       "      <td>0</td>\n",
       "      <td>0</td>\n",
       "      <td>0</td>\n",
       "      <td>0</td>\n",
       "      <td>0</td>\n",
       "      <td>0</td>\n",
       "      <td>1</td>\n",
       "      <td>...</td>\n",
       "      <td>0</td>\n",
       "      <td>0</td>\n",
       "      <td>0</td>\n",
       "      <td>1</td>\n",
       "      <td>0</td>\n",
       "      <td>1</td>\n",
       "      <td>0</td>\n",
       "      <td>0</td>\n",
       "      <td>0</td>\n",
       "      <td>0</td>\n",
       "    </tr>\n",
       "    <tr>\n",
       "      <th>220597</th>\n",
       "      <td>0</td>\n",
       "      <td>0</td>\n",
       "      <td>0</td>\n",
       "      <td>0</td>\n",
       "      <td>0</td>\n",
       "      <td>0</td>\n",
       "      <td>1</td>\n",
       "      <td>1</td>\n",
       "      <td>0</td>\n",
       "      <td>0</td>\n",
       "      <td>...</td>\n",
       "      <td>0</td>\n",
       "      <td>0</td>\n",
       "      <td>0</td>\n",
       "      <td>0</td>\n",
       "      <td>0</td>\n",
       "      <td>0</td>\n",
       "      <td>0</td>\n",
       "      <td>0</td>\n",
       "      <td>0</td>\n",
       "      <td>0</td>\n",
       "    </tr>\n",
       "    <tr>\n",
       "      <th>232669</th>\n",
       "      <td>0</td>\n",
       "      <td>0</td>\n",
       "      <td>1</td>\n",
       "      <td>0</td>\n",
       "      <td>0</td>\n",
       "      <td>0</td>\n",
       "      <td>0</td>\n",
       "      <td>0</td>\n",
       "      <td>0</td>\n",
       "      <td>1</td>\n",
       "      <td>...</td>\n",
       "      <td>0</td>\n",
       "      <td>0</td>\n",
       "      <td>0</td>\n",
       "      <td>1</td>\n",
       "      <td>0</td>\n",
       "      <td>1</td>\n",
       "      <td>0</td>\n",
       "      <td>0</td>\n",
       "      <td>0</td>\n",
       "      <td>0</td>\n",
       "    </tr>\n",
       "  </tbody>\n",
       "</table>\n",
       "<p>5 rows × 67 columns</p>\n",
       "</div>"
      ],
      "text/plain": [
       "            Septicemia (except in labor)  first_careunit_CSRU  \\\n",
       "icustay_id                                                      \n",
       "211552                                 1                    0   \n",
       "294638                                 0                    0   \n",
       "228232                                 0                    0   \n",
       "220597                                 0                    0   \n",
       "232669                                 0                    0   \n",
       "\n",
       "            admission_type_ELECTIVE  age_Q3  \\\n",
       "icustay_id                                    \n",
       "211552                            0       0   \n",
       "294638                            0       0   \n",
       "228232                            1       0   \n",
       "220597                            0       0   \n",
       "232669                            1       0   \n",
       "\n",
       "            Respiratory failure; insufficiency; arrest (adult)  \\\n",
       "icustay_id                                                       \n",
       "211552                                                      0    \n",
       "294638                                                      0    \n",
       "228232                                                      0    \n",
       "220597                                                      0    \n",
       "232669                                                      0    \n",
       "\n",
       "            Coronary atherosclerosis and other heart disease  \\\n",
       "icustay_id                                                     \n",
       "211552                                                     0   \n",
       "294638                                                     0   \n",
       "228232                                                     0   \n",
       "220597                                                     0   \n",
       "232669                                                     0   \n",
       "\n",
       "            first_careunit_MICU  age_Q0  insurance_Private  \\\n",
       "icustay_id                                                   \n",
       "211552                        1       0                  0   \n",
       "294638                        1       1                  1   \n",
       "228232                        0       0                  0   \n",
       "220597                        1       1                  0   \n",
       "232669                        0       0                  0   \n",
       "\n",
       "            insurance_Medicare  ...  Acute myocardial infarction  \\\n",
       "icustay_id                      ...                                \n",
       "211552                       1  ...                            0   \n",
       "294638                       0  ...                            0   \n",
       "228232                       1  ...                            0   \n",
       "220597                       0  ...                            0   \n",
       "232669                       1  ...                            0   \n",
       "\n",
       "            Diabetes mellitus without complication  \\\n",
       "icustay_id                                           \n",
       "211552                                           0   \n",
       "294638                                           0   \n",
       "228232                                           0   \n",
       "220597                                           0   \n",
       "232669                                           0   \n",
       "\n",
       "            Acute and unspecified renal failure  first_careunit_SICU  \\\n",
       "icustay_id                                                             \n",
       "211552                                        0                    0   \n",
       "294638                                        0                    0   \n",
       "228232                                        0                    1   \n",
       "220597                                        0                    0   \n",
       "232669                                        0                    1   \n",
       "\n",
       "            ethnicity_HISPANIC OR LATINO  marital_status_MARRIED  \\\n",
       "icustay_id                                                         \n",
       "211552                                 0                       1   \n",
       "294638                                 0                       0   \n",
       "228232                                 0                       1   \n",
       "220597                                 0                       0   \n",
       "232669                                 0                       1   \n",
       "\n",
       "            admission_type_URGENT  Congestive heart failure; nonhypertensive  \\\n",
       "icustay_id                                                                     \n",
       "211552                          0                                          0   \n",
       "294638                          0                                          0   \n",
       "228232                          0                                          0   \n",
       "220597                          0                                          0   \n",
       "232669                          0                                          0   \n",
       "\n",
       "            Other lower respiratory disease  Other upper respiratory disease  \n",
       "icustay_id                                                                    \n",
       "211552                                    0                                0  \n",
       "294638                                    0                                0  \n",
       "228232                                    0                                0  \n",
       "220597                                    0                                0  \n",
       "232669                                    0                                0  \n",
       "\n",
       "[5 rows x 67 columns]"
      ]
     },
     "execution_count": 33,
     "metadata": {},
     "output_type": "execute_result"
    }
   ],
   "source": [
    "ptnt_demog_features_one_hot_df[k_best_features_ranked_by_p_value.index].head()"
   ]
  },
  {
   "cell_type": "code",
   "execution_count": null,
   "metadata": {},
   "outputs": [],
   "source": []
  },
  {
   "cell_type": "code",
   "execution_count": null,
   "metadata": {},
   "outputs": [],
   "source": []
  },
  {
   "cell_type": "code",
   "execution_count": null,
   "metadata": {},
   "outputs": [],
   "source": []
  },
  {
   "cell_type": "code",
   "execution_count": null,
   "metadata": {},
   "outputs": [],
   "source": []
  },
  {
   "cell_type": "code",
   "execution_count": null,
   "metadata": {},
   "outputs": [],
   "source": []
  },
  {
   "cell_type": "code",
   "execution_count": null,
   "metadata": {},
   "outputs": [],
   "source": []
  },
  {
   "cell_type": "markdown",
   "metadata": {},
   "source": [
    "# Old Code"
   ]
  },
  {
   "cell_type": "code",
   "execution_count": null,
   "metadata": {},
   "outputs": [],
   "source": [
    "write_best_features(dummies)\n",
    "print(\"Patient demographic pre-processing and feature selection complete\")"
   ]
  },
  {
   "cell_type": "code",
   "execution_count": null,
   "metadata": {
    "collapsed": false,
    "jupyter": {
     "outputs_hidden": false
    }
   },
   "outputs": [],
   "source": [
    "for col in ptnt_demog_data2.columns: \n",
    "    print(col)"
   ]
  },
  {
   "cell_type": "code",
   "execution_count": null,
   "metadata": {
    "collapsed": false,
    "jupyter": {
     "outputs_hidden": false
    }
   },
   "outputs": [],
   "source": [
    "\n",
    "print(\"patient demographics with unique icustays\")\n",
    "\n",
    "\n",
    "# create patient demographic table with unique icustays as rows\n",
    "\n",
    "dates_and_times = ['dob', 'admittime', 'dischtime', 'intime', 'outtime', 'deathtime']\n",
    "for thing in dates_and_times:\n",
    "    print(\"converting {}\".format(thing))\n",
    "    new_series = pd.to_datetime(ptnt_demog2.loc[:,thing])\n",
    "    ptnt_demog2.loc[:,thing] = new_series\n",
    "    \n",
    "    '''\n",
    "    rows = ptnt_demog2.index\n",
    "    for row in rows:\n",
    "        ptnt_demog2.loc[:,thing] = pd.to_datetime(ptnt_demog2.loc[:,thing])\n",
    "    '''\n",
    "print(\"converted to date times\")\n",
    "display(ptnt_demog2.head())"
   ]
  },
  {
   "cell_type": "code",
   "execution_count": null,
   "metadata": {},
   "outputs": [],
   "source": [
    "ptnt_demog2.dtypes"
   ]
  },
  {
   "cell_type": "code",
   "execution_count": null,
   "metadata": {
    "collapsed": false,
    "jupyter": {
     "outputs_hidden": false
    }
   },
   "outputs": [],
   "source": [
    "ptnt_demog2.shape"
   ]
  },
  {
   "cell_type": "code",
   "execution_count": null,
   "metadata": {
    "collapsed": false,
    "jupyter": {
     "outputs_hidden": false
    }
   },
   "outputs": [],
   "source": [
    "print \"calculating ages, duration of stays\"\n",
    "# len(pd.date_range()) APPEARS TO TAKE A VERY LONG TIME\n",
    "for index, row in ptnt_demog2.iterrows():\n",
    "    if (pd.notnull(row['intime']) & pd.notnull(row['dob'])):\n",
    "        #age_val = relativedelta(row['intime'], row['dob']).years\n",
    "        # calculating year end frequency\n",
    "        age_val = len(pd.date_range(end = row['intime'], start = row['dob'], freq = 'A'))\n",
    "    else: \n",
    "        age_val = np.nan\n",
    "    if (pd.notnull(row['intime']) & pd.notnull(row['outtime'])):\n",
    "        #delta_time = relativedelta(row['outtime'], row['intime'])\n",
    "        #icu_stay_val = delta_time.days*24 + delta_time.hours\n",
    "        icu_stay_val = len(pd.date_range(end = row['outtime'], start = row['intime'], freq = 'H'))\n",
    "    else: \n",
    "        icu_stay_val = np.nan\n",
    "    if (pd.notnull(row['admittime']) & pd.notnull(row['dischtime'])):\n",
    "        #delta_time = relativedelta(row['dischtime'], row['admittime'])\n",
    "        #hosp_stay_val = delta_time.days*24 + delta_time.hours\n",
    "        hosp_stay_val = len(pd.date_range(end = row['dischtime'], start = row['admittime'], freq = 'H'))\n",
    "    else:\n",
    "        hosp_stay_val = np.nan\n",
    "    \n",
    "    ptnt_demog2.set_value(index, 'age', age_val)\n",
    "    ptnt_demog2.set_value(index, 'icu_stay', icu_stay_val)\n",
    "    ptnt_demog2.set_value(index, 'hosp_stay', hosp_stay_val)\n",
    "\n",
    "cols = list(ptnt_demog2.columns)\n",
    "cols.pop(cols.index('icd9_code'))\n",
    "cols.pop(cols.index('icd9_code.1'))\n",
    "cols.pop(cols.index('short_title'))\n",
    "cols.pop(cols.index('intime'))\n",
    "cols.pop(cols.index('outtime'))\n",
    "cols.pop(cols.index('admittime'))\n",
    "cols.pop(cols.index('dischtime'))\n",
    "cols.pop(cols.index('seq_num'))\n",
    "cols.pop(cols.index('dob'))\n",
    "\n",
    "#cols.insert(0, cols.pop(cols.index('icustay_id')))\n",
    "cols.insert(0, cols.pop(cols.index('hadm_id')))\n",
    "cols.insert(1, cols.pop(cols.index('age')))\n",
    "cols.insert(2, cols.pop(cols.index('icu_stay')))\n",
    "cols.insert(3, cols.pop(cols.index('hosp_stay')))\n",
    "cols.insert(len(cols), cols.pop(cols.index('hospital_expire_flag')))\n",
    "display(cols)\n",
    "\n",
    "\n",
    "ptnt_demog2 = ptnt_demog2[cols]\n",
    "print \"patient demographics with calculated ages, duration of stays\"\n",
    "display(ptnt_demog2.head())"
   ]
  },
  {
   "cell_type": "markdown",
   "metadata": {},
   "source": [
    "## DROP OUTLIER AGE VALUES"
   ]
  },
  {
   "cell_type": "code",
   "execution_count": null,
   "metadata": {
    "collapsed": false,
    "jupyter": {
     "outputs_hidden": false
    }
   },
   "outputs": [],
   "source": [
    "ptnt_demog2['age'].describe()"
   ]
  },
  {
   "cell_type": "code",
   "execution_count": null,
   "metadata": {
    "collapsed": false,
    "jupyter": {
     "outputs_hidden": false
    }
   },
   "outputs": [],
   "source": [
    "age_replace_vals = list(ptnt_demog2[ptnt_demog2['age'] > 110]['age'].unique())\n",
    "display(age_replace_vals)\n",
    "\n",
    "ptnt_demog2['age'].replace(age_replace_vals, np.nan, inplace = True)\n",
    "ptnt_demog2['age'].dropna().describe()"
   ]
  },
  {
   "cell_type": "markdown",
   "metadata": {},
   "source": [
    "## DISPLAY DESCRIPTIVE STATS"
   ]
  },
  {
   "cell_type": "code",
   "execution_count": null,
   "metadata": {
    "collapsed": false,
    "jupyter": {
     "outputs_hidden": false
    }
   },
   "outputs": [],
   "source": [
    "ptnt_demog2.columns"
   ]
  },
  {
   "cell_type": "code",
   "execution_count": null,
   "metadata": {
    "collapsed": false,
    "jupyter": {
     "outputs_hidden": false
    }
   },
   "outputs": [],
   "source": [
    "display(ptnt_demog2.icu_stay.dropna().describe())\n",
    "display(ptnt_demog2.hosp_stay.dropna().describe())\n",
    "display(ptnt_demog2[ptnt_demog2.icu_stay <= 0])\n",
    "display(ptnt_demog2[ptnt_demog2.hosp_stay <=0])\n",
    "icu_stay_low = list(ptnt_demog2[ptnt_demog2['icu_stay'] <=0]['icu_stay'].unique())\n",
    "age_replace_vals = list(ptnt_demog2[ptnt_demog2['age'] > 110]['age'].unique())\n",
    "\n",
    "#ptnt_demog2.loc[:,'subject_id'] = ptnt_demog2.index\n",
    "#ptnt_demog2.index = ptnt_demog2.icustay_id\n",
    "#ptnt_demog2.drop('icustay_id', axis = 1, inplace = True)\n",
    "#ptnt_demog2.head()"
   ]
  },
  {
   "cell_type": "markdown",
   "metadata": {},
   "source": [
    "Date and time data imported in string format is converted to pandas.datetime objects"
   ]
  },
  {
   "cell_type": "markdown",
   "metadata": {},
   "source": [
    "## Extracting diagnoses information using code grabbed from benchmarking exercise"
   ]
  },
  {
   "cell_type": "code",
   "execution_count": null,
   "metadata": {
    "collapsed": false,
    "jupyter": {
     "outputs_hidden": false
    }
   },
   "outputs": [],
   "source": [
    "#phenotypes = add_hcup_ccs_2015_groups(diagnoses, yaml.load(open(args.phenotype_definitions, 'r')))\n",
    "definitions = yaml.load(open('hcup_ccs_2015_definitions.yaml', 'r'))\n",
    "\n",
    "diagnoses = ptnt_demog[['hadm_id', 'icd9_code', 'short_title']].copy()\n",
    "\n",
    "# create mapping of hcup_ccs_2015_definitions to diagnoses icd9 codes\n",
    "def_map = {}\n",
    "for dx in definitions:\n",
    "    for code in definitions[dx]['codes']:\n",
    "        def_map[code] = (dx, definitions[dx]['use_in_benchmark'])\n",
    "\n",
    "print \"map created\"\n",
    "# map hcup_ccs_2015 definitions to icd9 diagnoses codes\n",
    "diagnoses['HCUP_CCS_2015'] = diagnoses.icd9_code.apply(lambda c: def_map[c][0] if c in def_map else None)\n",
    "diagnoses['USE_IN_BENCHMARK'] = diagnoses.icd9_code.apply(lambda c: int(def_map[c][1]) if c in def_map else None)\n",
    "#diagnoses['subject_id'] = diagnoses.index\n",
    "#diagnoses.set_index(np.arange(diagnoses.shape[0]), inplace = True)\n",
    "\n",
    "\n",
    "# create dataframe from the def_map dict so that we can isolate the \n",
    "# definitions that are used in benchmarking\n",
    "\n",
    "def_map_df = pd.DataFrame.from_dict(def_map, orient = 'index')\n",
    "def_map_df.columns = ['Diagnoses', 'Benchmark']\n",
    "diagnoses_bm = list(def_map_df[def_map_df.Benchmark == True].drop_duplicates('Diagnoses').Diagnoses)\n",
    "icustays = list(ptnt_demog2.index)\n",
    "\n",
    "# create dataframe with hcup_ccp diagnoses benchmark categories as columns and\n",
    "# icustay_id information as indices. if the diagnosis is present for a given icustay the \n",
    "# value is 1, otherwise 0. \n",
    "\n",
    "diagnoses2 = pd.DataFrame(columns = diagnoses_bm, index = icustays)\n",
    "diagnoses2.fillna(0, inplace = True)\n",
    "print \"created empty diagnosis dataframe\"\n",
    "for row in diagnoses.iterrows():\n",
    "    if row[1]['USE_IN_BENCHMARK'] == 1:\n",
    "        diagnoses2.loc[row[0]][row[1]['HCUP_CCS_2015']] = 1\n",
    "\n",
    "print \"filled diagnosis dataframe\"\n",
    "diagnoses2.head()"
   ]
  },
  {
   "cell_type": "code",
   "execution_count": null,
   "metadata": {},
   "outputs": [],
   "source": [
    "plt.subplots(figsize=(13,6))\n",
    "diags_df = dummies[diags]\n",
    "#diags_df.head()\n",
    "\n",
    "diags_df[diags_df.columns[1:]][diags_df['hospital_expire_flag']==1].sum().plot.bar(\n",
    "        alpha=0.5,label= 'Non_Survival')\n",
    "diags_df[diags_df.columns[1:]][diags_df['hospital_expire_flag']==0].sum().plot.bar(\n",
    "        alpha=0.1,label= 'Survival')\n",
    "    "
   ]
  },
  {
   "cell_type": "code",
   "execution_count": null,
   "metadata": {
    "collapsed": false,
    "jupyter": {
     "outputs_hidden": false
    }
   },
   "outputs": [],
   "source": [
    "ptnt_demog2.drop(['subject_id', 'deathtime', 'hadm_id'], inplace = True, axis = 1)\n",
    "cols = list(ptnt_demog2.columns)\n",
    "cols.insert(0, cols.pop(cols.index('hospital_expire_flag')))\n",
    "ptnt_demog2 = ptnt_demog2[cols]\n"
   ]
  },
  {
   "cell_type": "code",
   "execution_count": null,
   "metadata": {
    "collapsed": false,
    "jupyter": {
     "outputs_hidden": false
    }
   },
   "outputs": [],
   "source": [
    "diagnoses.dtypes"
   ]
  },
  {
   "cell_type": "code",
   "execution_count": null,
   "metadata": {
    "collapsed": false,
    "jupyter": {
     "outputs_hidden": false
    }
   },
   "outputs": [],
   "source": [
    "diagnoses2.columns\n"
   ]
  },
  {
   "cell_type": "markdown",
   "metadata": {},
   "source": [
    "## CONVERT CONTINUOUS TO CATEGORICAL DATA"
   ]
  },
  {
   "cell_type": "code",
   "execution_count": null,
   "metadata": {
    "collapsed": false,
    "jupyter": {
     "outputs_hidden": false
    }
   },
   "outputs": [],
   "source": [
    "# NEED TO DO SOME OVERVIEW OF DATA INCLUDING DISTRIBUTIONS, SUMMARY STATISTICS ETC\n",
    "# SINCE WE HAVE SO MUCH DATA, WE ARE JUMPING AHEAD..... IN TIME!! \n",
    "# AND SELECTING FEATURES THAT WERE USED IN THE FINAL CLASSIFICATION\n",
    "\n",
    "demog_select_features_df = ptnt_demog2[['hospital_expire_flag', 'icu_stay', 'age', 'first_careunit', 'admission_type']]\n",
    "demog_select_features_df.head()\n",
    "\n",
    "demog_select_features_df[demog_select_features_df.columns[:3]].dropna().groupby('hospital_expire_flag').describe()\n",
    "\n",
    "\n",
    "pd.DataFrame(demog_select_features_df.groupby('hospital_expire_flag').first_careunit.value_counts()).plot.bar(stacked = True)\n",
    "\n",
    "icu_admits_df = pd.DataFrame(demog_select_features_df['first_careunit'].value_counts()/demog_select_features_df.shape[0])\n",
    "icu_admits_df.index\n",
    "\n",
    "icu_mortality_rates_df = pd.DataFrame(demog_select_features_df.groupby('first_careunit').hospital_expire_flag.sum()/ \\\n",
    "demog_select_features_df.groupby('first_careunit').hospital_expire_flag.count())\n",
    "icu_admits_df.merge(icu_mortality_rates_df, left_index = True, right_index = True, \n",
    "                       how = 'left', sort = True)\n",
    "\n",
    "demog_select_features_df[demog_select_features_df['first_careunit'] == 'MICU']['first_careunit'].count()\n",
    "\n",
    "\n",
    "\n",
    "admission_types_df = pd.DataFrame(demog_select_features_df['admission_type'].value_counts()/demog_select_features_df.shape[0])\n",
    "\n",
    "admission_type_mortality_rates_df = pd.DataFrame(demog_select_features_df.groupby('admission_type').hospital_expire_flag.sum()/ \\\n",
    "demog_select_features_df.groupby('admission_type').hospital_expire_flag.count())\n",
    "\n",
    "admission_types_df.merge(admission_type_mortality_rates_df, left_index = True, right_index = True, \n",
    "                       how = 'left', sort = True)\n",
    "'''\n",
    "earlier versions included these factors but the  process has been iterative so we \n",
    "pre-selected relevant features above\n",
    "diagnoses2['GCS Total_15', 'GCS Total_3', 'GCS Total_6', 'GCS Total_4', \n",
    "                          'Respiratory Failure','Shock', 'Septicemia (except in labor)', 'Acute and unspecified renal failure','Other liver diseases',\n",
    "                         'Fluid and electrolyte disorders',\n",
    "                          'Pneumonia (except that caused by tuberculosis or sexually transmitted disease)',\n",
    "                            'Acute cerebrovascular disease']\n",
    "'''"
   ]
  },
  {
   "cell_type": "code",
   "execution_count": null,
   "metadata": {
    "collapsed": false,
    "jupyter": {
     "outputs_hidden": false
    }
   },
   "outputs": [],
   "source": [
    "def quant_cats(feature, Q1, Q2, Q3):\n",
    "    if feature <=Q1:\n",
    "        return 'Q0'\n",
    "    elif (feature >Q1 and feature <= Q2):\n",
    "        return 'Q1'\n",
    "    elif (feature > Q2 and feature <= Q3):\n",
    "        return 'Q2'\n",
    "    elif feature > Q3:\n",
    "        return 'Q3'\n",
    "    \n",
    "\n",
    "ptnt_demog3 = ptnt_demog2.copy()\n",
    "demog_stats = ptnt_demog3[ptnt_demog3.columns[1:4]].dropna().describe()\n",
    "for col in ptnt_demog3.columns[1:4]:\n",
    "        Q1 = demog_stats[col].loc['25%']\n",
    "        Q2 = demog_stats[col].loc['50%']\n",
    "        Q3 = demog_stats[col].loc['75%']\n",
    "        ptnt_demog3[col] = ptnt_demog3[col].apply(lambda x: quant_cats(x, Q1, Q2, Q3))\n",
    "\n"
   ]
  },
  {
   "cell_type": "code",
   "execution_count": null,
   "metadata": {
    "collapsed": false,
    "jupyter": {
     "outputs_hidden": false
    }
   },
   "outputs": [],
   "source": [
    "demog_stats"
   ]
  },
  {
   "cell_type": "markdown",
   "metadata": {},
   "source": [
    "## CONVERT CATEGORICAL TO DUMMY VARIABLES"
   ]
  },
  {
   "cell_type": "code",
   "execution_count": null,
   "metadata": {
    "collapsed": false,
    "jupyter": {
     "outputs_hidden": false
    }
   },
   "outputs": [],
   "source": [
    "ptnt_demog2.dtypes\n"
   ]
  },
  {
   "cell_type": "code",
   "execution_count": null,
   "metadata": {
    "collapsed": false,
    "jupyter": {
     "outputs_hidden": false
    }
   },
   "outputs": [],
   "source": [
    "ptnt_demog3.dtypes\n"
   ]
  },
  {
   "cell_type": "code",
   "execution_count": null,
   "metadata": {
    "collapsed": false,
    "jupyter": {
     "outputs_hidden": false
    }
   },
   "outputs": [],
   "source": [
    "dummies = ptnt_demog2[ptnt_demog3.columns[:1]]\n",
    "\n",
    "#display(monkey.head())\n",
    "for col in ptnt_demog3.columns[1:]:\n",
    "    chimp = pd.get_dummies(ptnt_demog3[col], prefix = col)\n",
    "    dummies = dummies.merge(chimp, left_index = True, right_index = True, \n",
    "                       how = 'left', sort = True)\n",
    "\n",
    "dummies.head()\n",
    "    \n",
    "\n",
    "## MERGE DUMMY VARIABLES AND DIAGNOSES\n",
    "\n",
    "dummies = dummies.merge(diagnoses2, left_index = True, right_index = True, \n",
    "                       how = 'left')\n",
    "dummies.dropna().shape"
   ]
  },
  {
   "cell_type": "code",
   "execution_count": null,
   "metadata": {
    "collapsed": false,
    "jupyter": {
     "outputs_hidden": false
    }
   },
   "outputs": [],
   "source": [
    "diags2 = list(diagnoses2.columns)\n",
    "#diags.pop(diags.index('Diabetes mellitus without complication'))\n",
    "diags = [\n",
    " 'hospital_expire_flag',\n",
    " 'Acute cerebrovascular disease',\n",
    " 'Other liver diseases',\n",
    " 'Acute and unspecified renal failure',\n",
    " 'Fluid and electrolyte disorders',\n",
    " 'Septicemia (except in labor)',\n",
    " 'Pneumonia (except that caused by tuberculosis or sexually transmitted disease)',\n",
    " 'Respiratory failure; insufficiency; arrest (adult)',\n",
    " 'Shock'\n",
    " ]\n",
    "\n",
    "\n",
    "plt.subplots(figsize=(13,6))\n",
    "diags_df = dummies[diags]\n",
    "#diags_df.head()\n",
    "\n",
    "diags_df[diags_df.columns[1:]][diags_df['hospital_expire_flag']==1].sum().plot.bar(\n",
    "        alpha=0.5,label= 'Non_Survival')\n",
    "diags_df[diags_df.columns[1:]][diags_df['hospital_expire_flag']==0].sum().plot.bar(\n",
    "        alpha=0.1,label= 'Survival')\n",
    "    "
   ]
  },
  {
   "cell_type": "markdown",
   "metadata": {},
   "source": [
    "## SELECT FEATURES AND WRITE TO FILE. "
   ]
  },
  {
   "cell_type": "code",
   "execution_count": null,
   "metadata": {
    "collapsed": false,
    "jupyter": {
     "outputs_hidden": false
    }
   },
   "outputs": [],
   "source": [
    "\n",
    "\n",
    "root = os.getcwd() + '/features/'\n",
    "name = 'Ptnt_Demog_Features.csv'\n",
    "name2 = 'Ptnt_Demog_FeaturesScores.csv'\n",
    "frame = dummies\n",
    "X = frame[frame.columns[1:]]\n",
    "y = frame['hospital_expire_flag']\n",
    "\n",
    "        \n",
    "# SELECT K BEST FEATURES BASED ON CHI2 SCORES\n",
    "selector = SelectKBest(score_func = chi2, k = 'all')\n",
    "selector.fit(X, y)\n",
    "p_vals = pd.Series(selector.pvalues_, name = 'p_values', index = X.columns)\n",
    "scores = pd.Series(selector.scores_, name = 'scores', index = X.columns)\n",
    "features_df = pd.concat([p_vals, scores], axis = 1)\n",
    "features_df.sort_values(by ='scores', ascending = False, inplace = True)\n",
    "print \"Feature scores/p_values in descending/ascending order\"\n",
    "display(features_df.head(20))\n",
    "\n",
    "best_features = frame[features_df[features_df.p_values < .001].index]\n",
    "\n",
    "frame = pd.DataFrame(y).merge(best_features, left_index = True, right_index = True, \n",
    "                how = 'left', sort = True)\n",
    "\n",
    "\n",
    "print \"{}     {}\".format(name, frame.shape)\n",
    "\n",
    "\n",
    "# CODE TO REORDER FEATURES ALPHABETICALLY. MAKES FOR CLEANER COLUMNS, GROUPED BY TYPE\n",
    "# BUT WHAT WE MAY WANT IS THE ORDER OF FEATURE SIGNIFICANCE PRESERVCED. \n",
    "'''\n",
    "cols = list(frame.columns)\n",
    "cols.sort()\n",
    "cols.insert(0, cols.pop(cols.index('hospital_expire_flag')))\n",
    "frame = frame[cols]\n",
    "'''\n",
    "\n",
    "print \"head of selected feature frame \"\n",
    "display(frame.head())\n",
    "frame.to_csv(root + name)\n",
    "features_df[features_df.p_values < .001].to_csv(root + name2)\n",
    "y = pd.DataFrame(y)\n",
    "y.to_csv(root + 'outcomes.csv')"
   ]
  },
  {
   "cell_type": "code",
   "execution_count": null,
   "metadata": {},
   "outputs": [],
   "source": []
  }
 ],
 "metadata": {
  "kernelspec": {
   "display_name": "Python 3",
   "language": "python",
   "name": "python3"
  },
  "language_info": {
   "codemirror_mode": {
    "name": "ipython",
    "version": 3
   },
   "file_extension": ".py",
   "mimetype": "text/x-python",
   "name": "python",
   "nbconvert_exporter": "python",
   "pygments_lexer": "ipython3",
   "version": "3.7.2"
  }
 },
 "nbformat": 4,
 "nbformat_minor": 4
}
