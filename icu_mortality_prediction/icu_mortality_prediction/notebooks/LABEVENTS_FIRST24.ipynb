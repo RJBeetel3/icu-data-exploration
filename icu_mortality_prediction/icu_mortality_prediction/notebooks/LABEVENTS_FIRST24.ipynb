{
 "cells": [
  {
   "cell_type": "code",
   "execution_count": 1,
   "metadata": {
    "collapsed": false,
    "jupyter": {
     "outputs_hidden": false
    }
   },
   "outputs": [],
   "source": [
    "import sys\n",
    "import os\n",
    "import pandas as pd\n",
    "import datetime as datetime\n",
    "import numpy as np\n",
    "from dateutil.relativedelta import relativedelta\n",
    "from sklearn.preprocessing import OneHotEncoder\n",
    "import matplotlib\n",
    "import matplotlib.pyplot as plt\n",
    "#import psycopg2\n",
    "from scipy.stats import ks_2samp\n",
    "import scipy.stats as scats\n",
    "# import visuals as vs\n",
    "from sklearn.decomposition import PCA\n",
    "from sklearn import preprocessing\n",
    "from sklearn.neural_network import MLPClassifier\n",
    "from sklearn.naive_bayes import GaussianNB\n",
    "from sklearn.tree import DecisionTreeClassifier\n",
    "from sklearn import metrics\n",
    "from sklearn import svm\n",
    "from sklearn.model_selection import cross_val_score\n",
    "from sklearn.model_selection import train_test_split\n",
    "from sklearn.feature_selection import SelectKBest\n",
    "from sklearn.feature_selection import chi2\n",
    "from heapq import nlargest\n",
    "plt.style.use('ggplot') \n",
    "%matplotlib inline\n",
    "\n",
    "from sklearn.experimental import enable_iterative_imputer\n",
    "from sklearn.impute import IterativeImputer\n",
    "from sklearn.impute import SimpleImputer\n",
    "\n",
    "\n",
    "from icu_mortality_prediction import DATA_DIR"
   ]
  },
  {
   "cell_type": "markdown",
   "metadata": {},
   "source": [
    "# MIMIC-III Critical Care Database\n",
    "\n",
    "MIMIC-III (Medical Information Mart for Intensive Care III) is a large, freely-available database comprising deidentified health-related data associated with over forty thousand patients who stayed in critical care units of the Beth Israel Deaconess Medical Center between 2001 and 2012.\n",
    "\n",
    "The database includes information such as demographics, vital sign measurements made at the bedside (~1 data point per hour), laboratory test results, procedures, medications, caregiver notes, imaging reports, and mortality (both in and out of hospital).\n",
    "\n",
    "MIMIC supports a diverse range of analytic studies spanning epidemiology, clinical decision-rule improvement, and electronic tool development. It is notable for three factors:\n",
    "\n",
    "it is freely available to researchers worldwide\n",
    "it encompasses a diverse and very large population of ICU patients\n",
    "it contains high temporal resolution data including lab results, electronic documentation, and bedside monitor trends and waveforms.\n",
    "\n",
    "Citations: \n",
    "MIMIC-III, a freely accessible critical care database. Johnson AEW, Pollard TJ, Shen L, Lehman L, Feng M, Ghassemi M, Moody B, Szolovits P, Celi LA, and Mark RG. Scientific Data (2016). DOI: 10.1038/sdata.2016.35. Available at: http://www.nature.com/articles/sdata201635\n",
    "\n",
    "Pollard, T. J. & Johnson, A. E. W. The MIMIC-III Clinical Database http://dx.doi.org/10.13026/C2XW26 (2016).\n",
    "\n"
   ]
  },
  {
   "cell_type": "markdown",
   "metadata": {},
   "source": [
    "# IMPORTING LAB DATA\n",
    "The mimic III database was downloaded and reconstructed locally using posgresql. The database was managed graphically using Portico. \n",
    "A query was run on the mimic III database to generate chart data for the first 24hrs of a patients icu stay as well as demographic data for patients diagnosed with sepsis according to the Angus criteria. \n",
    "(Angus et al, 2001. Epidemiology of severe sepsis in the United States; http://www.ncbi.nlm.nih.gov/pubmed/11445675 )\n",
    "\n",
    "The query was exported from Porticoto the file LAB_EVENTS_ANGUS_FIRST24.csv. The data was read into a pandas dataframe lab_events. \n"
   ]
  },
  {
   "cell_type": "markdown",
   "metadata": {},
   "source": [
    "# DEBUG START"
   ]
  },
  {
   "cell_type": "code",
   "execution_count": null,
   "metadata": {},
   "outputs": [],
   "source": []
  },
  {
   "cell_type": "code",
   "execution_count": 2,
   "metadata": {},
   "outputs": [],
   "source": [
    "lab_events_raw_df = pd.read_csv(os.path.join(DATA_DIR, 'raw','D_LABITEMS.csv'))\n"
   ]
  },
  {
   "cell_type": "code",
   "execution_count": 3,
   "metadata": {},
   "outputs": [
    {
     "data": {
      "text/html": [
       "<div>\n",
       "<style scoped>\n",
       "    .dataframe tbody tr th:only-of-type {\n",
       "        vertical-align: middle;\n",
       "    }\n",
       "\n",
       "    .dataframe tbody tr th {\n",
       "        vertical-align: top;\n",
       "    }\n",
       "\n",
       "    .dataframe thead th {\n",
       "        text-align: right;\n",
       "    }\n",
       "</style>\n",
       "<table border=\"1\" class=\"dataframe\">\n",
       "  <thead>\n",
       "    <tr style=\"text-align: right;\">\n",
       "      <th></th>\n",
       "      <th>ROW_ID</th>\n",
       "      <th>ITEMID</th>\n",
       "      <th>LABEL</th>\n",
       "      <th>FLUID</th>\n",
       "      <th>CATEGORY</th>\n",
       "      <th>LOINC_CODE</th>\n",
       "    </tr>\n",
       "  </thead>\n",
       "  <tbody>\n",
       "    <tr>\n",
       "      <th>147</th>\n",
       "      <td>21</td>\n",
       "      <td>50820</td>\n",
       "      <td>pH</td>\n",
       "      <td>Blood</td>\n",
       "      <td>Blood Gas</td>\n",
       "      <td>11558-4</td>\n",
       "    </tr>\n",
       "    <tr>\n",
       "      <th>158</th>\n",
       "      <td>32</td>\n",
       "      <td>50831</td>\n",
       "      <td>pH</td>\n",
       "      <td>Other Body Fluid</td>\n",
       "      <td>Blood Gas</td>\n",
       "      <td>2748-2</td>\n",
       "    </tr>\n",
       "    <tr>\n",
       "      <th>420</th>\n",
       "      <td>294</td>\n",
       "      <td>51094</td>\n",
       "      <td>pH</td>\n",
       "      <td>Urine</td>\n",
       "      <td>Chemistry</td>\n",
       "      <td>2756-5</td>\n",
       "    </tr>\n",
       "    <tr>\n",
       "      <th>690</th>\n",
       "      <td>691</td>\n",
       "      <td>51491</td>\n",
       "      <td>pH</td>\n",
       "      <td>Urine</td>\n",
       "      <td>Hematology</td>\n",
       "      <td>5803-2</td>\n",
       "    </tr>\n",
       "  </tbody>\n",
       "</table>\n",
       "</div>"
      ],
      "text/plain": [
       "     ROW_ID  ITEMID LABEL             FLUID    CATEGORY LOINC_CODE\n",
       "147      21   50820    pH             Blood   Blood Gas    11558-4\n",
       "158      32   50831    pH  Other Body Fluid   Blood Gas     2748-2\n",
       "420     294   51094    pH             Urine   Chemistry     2756-5\n",
       "690     691   51491    pH             Urine  Hematology     5803-2"
      ]
     },
     "execution_count": 3,
     "metadata": {},
     "output_type": "execute_result"
    }
   ],
   "source": [
    "lab_events_raw_df[lab_events_raw_df['LABEL']=='pH'].head()"
   ]
  },
  {
   "cell_type": "markdown",
   "metadata": {},
   "source": [
    "# DEBUG STOP"
   ]
  },
  {
   "cell_type": "code",
   "execution_count": 4,
   "metadata": {
    "collapsed": false,
    "jupyter": {
     "outputs_hidden": false
    },
    "scrolled": true
   },
   "outputs": [
    {
     "data": {
      "text/html": [
       "<div>\n",
       "<style scoped>\n",
       "    .dataframe tbody tr th:only-of-type {\n",
       "        vertical-align: middle;\n",
       "    }\n",
       "\n",
       "    .dataframe tbody tr th {\n",
       "        vertical-align: top;\n",
       "    }\n",
       "\n",
       "    .dataframe thead th {\n",
       "        text-align: right;\n",
       "    }\n",
       "</style>\n",
       "<table border=\"1\" class=\"dataframe\">\n",
       "  <thead>\n",
       "    <tr style=\"text-align: right;\">\n",
       "      <th></th>\n",
       "      <th>subject_id</th>\n",
       "      <th>icustay_id</th>\n",
       "      <th>gender</th>\n",
       "      <th>label</th>\n",
       "      <th>charttime</th>\n",
       "      <th>valuenum</th>\n",
       "      <th>flag</th>\n",
       "      <th>hospital_expire_flag</th>\n",
       "    </tr>\n",
       "  </thead>\n",
       "  <tbody>\n",
       "    <tr>\n",
       "      <th>714216</th>\n",
       "      <td>55973</td>\n",
       "      <td>200001</td>\n",
       "      <td>F</td>\n",
       "      <td>Hematocrit</td>\n",
       "      <td>2181-11-25 16:16:00</td>\n",
       "      <td>26.10</td>\n",
       "      <td>abnormal</td>\n",
       "      <td>0</td>\n",
       "    </tr>\n",
       "    <tr>\n",
       "      <th>714217</th>\n",
       "      <td>55973</td>\n",
       "      <td>200001</td>\n",
       "      <td>F</td>\n",
       "      <td>White Blood Cells</td>\n",
       "      <td>2181-11-25 16:16:00</td>\n",
       "      <td>2.90</td>\n",
       "      <td>abnormal</td>\n",
       "      <td>0</td>\n",
       "    </tr>\n",
       "    <tr>\n",
       "      <th>714218</th>\n",
       "      <td>55973</td>\n",
       "      <td>200001</td>\n",
       "      <td>F</td>\n",
       "      <td>pH</td>\n",
       "      <td>2181-11-25 17:00:00</td>\n",
       "      <td>5.00</td>\n",
       "      <td>NaN</td>\n",
       "      <td>0</td>\n",
       "    </tr>\n",
       "    <tr>\n",
       "      <th>714219</th>\n",
       "      <td>55973</td>\n",
       "      <td>200001</td>\n",
       "      <td>F</td>\n",
       "      <td>Lactate</td>\n",
       "      <td>2181-11-25 19:27:00</td>\n",
       "      <td>1.40</td>\n",
       "      <td>NaN</td>\n",
       "      <td>0</td>\n",
       "    </tr>\n",
       "    <tr>\n",
       "      <th>714220</th>\n",
       "      <td>55973</td>\n",
       "      <td>200001</td>\n",
       "      <td>F</td>\n",
       "      <td>pH</td>\n",
       "      <td>2181-11-25 19:27:00</td>\n",
       "      <td>7.41</td>\n",
       "      <td>NaN</td>\n",
       "      <td>0</td>\n",
       "    </tr>\n",
       "  </tbody>\n",
       "</table>\n",
       "</div>"
      ],
      "text/plain": [
       "        subject_id  icustay_id gender              label           charttime  \\\n",
       "714216       55973      200001      F         Hematocrit 2181-11-25 16:16:00   \n",
       "714217       55973      200001      F  White Blood Cells 2181-11-25 16:16:00   \n",
       "714218       55973      200001      F                 pH 2181-11-25 17:00:00   \n",
       "714219       55973      200001      F            Lactate 2181-11-25 19:27:00   \n",
       "714220       55973      200001      F                 pH 2181-11-25 19:27:00   \n",
       "\n",
       "        valuenum      flag  hospital_expire_flag  \n",
       "714216     26.10  abnormal                     0  \n",
       "714217      2.90  abnormal                     0  \n",
       "714218      5.00       NaN                     0  \n",
       "714219      1.40       NaN                     0  \n",
       "714220      7.41       NaN                     0  "
      ]
     },
     "execution_count": 4,
     "metadata": {},
     "output_type": "execute_result"
    }
   ],
   "source": [
    "lab_events_filename = 'LAB_EVENTS_FIRST24.csv'\n",
    "lab_events_filepath = os.path.join(DATA_DIR, 'interim',lab_events_filename)\n",
    "lab_events_data_df = pd.read_csv(lab_events_filepath) #, index_col = 'icustay_id')\n",
    "\n",
    "lab_events_data_df.loc[:,'charttime']  = pd.to_datetime(lab_events_data_df.loc[:,'charttime'])\n",
    "lab_events_data_df = lab_events_data_df.sort_values(['icustay_id', 'charttime'],ascending=True)\n",
    "# lab_events_data_df.drop(['charttime'], axis=1, inplace=True)\n",
    "lab_events_data_df.head()"
   ]
  },
  {
   "cell_type": "code",
   "execution_count": 5,
   "metadata": {},
   "outputs": [],
   "source": [
    "# Creates column name variables. \n",
    "lab_value = 'valuenum'\n",
    "lab_label = 'label'\n",
    "gender = 'gender'\n",
    "label = 'label'\n",
    "valuenum = 'valuenum'\n",
    "hospital_expire_flag = 'hospital_expire_flag'\n"
   ]
  },
  {
   "cell_type": "code",
   "execution_count": 6,
   "metadata": {},
   "outputs": [
    {
     "data": {
      "text/html": [
       "<div>\n",
       "<style scoped>\n",
       "    .dataframe tbody tr th:only-of-type {\n",
       "        vertical-align: middle;\n",
       "    }\n",
       "\n",
       "    .dataframe tbody tr th {\n",
       "        vertical-align: top;\n",
       "    }\n",
       "\n",
       "    .dataframe thead th {\n",
       "        text-align: right;\n",
       "    }\n",
       "</style>\n",
       "<table border=\"1\" class=\"dataframe\">\n",
       "  <thead>\n",
       "    <tr style=\"text-align: right;\">\n",
       "      <th></th>\n",
       "      <th>subject_id</th>\n",
       "      <th>icustay_id</th>\n",
       "      <th>gender</th>\n",
       "      <th>label</th>\n",
       "      <th>charttime</th>\n",
       "      <th>valuenum</th>\n",
       "      <th>flag</th>\n",
       "      <th>hospital_expire_flag</th>\n",
       "    </tr>\n",
       "  </thead>\n",
       "  <tbody>\n",
       "    <tr>\n",
       "      <th>714216</th>\n",
       "      <td>55973</td>\n",
       "      <td>200001</td>\n",
       "      <td>F</td>\n",
       "      <td>Hematocrit</td>\n",
       "      <td>2181-11-25 16:16:00</td>\n",
       "      <td>26.10</td>\n",
       "      <td>abnormal</td>\n",
       "      <td>0</td>\n",
       "    </tr>\n",
       "    <tr>\n",
       "      <th>714217</th>\n",
       "      <td>55973</td>\n",
       "      <td>200001</td>\n",
       "      <td>F</td>\n",
       "      <td>White Blood Cells</td>\n",
       "      <td>2181-11-25 16:16:00</td>\n",
       "      <td>2.90</td>\n",
       "      <td>abnormal</td>\n",
       "      <td>0</td>\n",
       "    </tr>\n",
       "    <tr>\n",
       "      <th>714218</th>\n",
       "      <td>55973</td>\n",
       "      <td>200001</td>\n",
       "      <td>F</td>\n",
       "      <td>pH</td>\n",
       "      <td>2181-11-25 17:00:00</td>\n",
       "      <td>5.00</td>\n",
       "      <td>NaN</td>\n",
       "      <td>0</td>\n",
       "    </tr>\n",
       "    <tr>\n",
       "      <th>714219</th>\n",
       "      <td>55973</td>\n",
       "      <td>200001</td>\n",
       "      <td>F</td>\n",
       "      <td>Lactate</td>\n",
       "      <td>2181-11-25 19:27:00</td>\n",
       "      <td>1.40</td>\n",
       "      <td>NaN</td>\n",
       "      <td>0</td>\n",
       "    </tr>\n",
       "    <tr>\n",
       "      <th>714220</th>\n",
       "      <td>55973</td>\n",
       "      <td>200001</td>\n",
       "      <td>F</td>\n",
       "      <td>pH</td>\n",
       "      <td>2181-11-25 19:27:00</td>\n",
       "      <td>7.41</td>\n",
       "      <td>NaN</td>\n",
       "      <td>0</td>\n",
       "    </tr>\n",
       "  </tbody>\n",
       "</table>\n",
       "</div>"
      ],
      "text/plain": [
       "        subject_id  icustay_id gender              label           charttime  \\\n",
       "714216       55973      200001      F         Hematocrit 2181-11-25 16:16:00   \n",
       "714217       55973      200001      F  White Blood Cells 2181-11-25 16:16:00   \n",
       "714218       55973      200001      F                 pH 2181-11-25 17:00:00   \n",
       "714219       55973      200001      F            Lactate 2181-11-25 19:27:00   \n",
       "714220       55973      200001      F                 pH 2181-11-25 19:27:00   \n",
       "\n",
       "        valuenum      flag  hospital_expire_flag  \n",
       "714216     26.10  abnormal                     0  \n",
       "714217      2.90  abnormal                     0  \n",
       "714218      5.00       NaN                     0  \n",
       "714219      1.40       NaN                     0  \n",
       "714220      7.41       NaN                     0  "
      ]
     },
     "execution_count": 6,
     "metadata": {},
     "output_type": "execute_result"
    }
   ],
   "source": [
    "lab_events_data_df.head()"
   ]
  },
  {
   "cell_type": "code",
   "execution_count": 7,
   "metadata": {},
   "outputs": [],
   "source": [
    "# Creates copy of the lab_events_data_df dataframe for visualization exploration\n",
    "aggregate_lab_values_for_visualization_df = lab_events_data_df[[gender, \n",
    "                                                             hospital_expire_flag, \n",
    "                                                            label, \n",
    "                                                            valuenum]]"
   ]
  },
  {
   "cell_type": "markdown",
   "metadata": {},
   "source": []
  },
  {
   "cell_type": "code",
   "execution_count": 8,
   "metadata": {},
   "outputs": [
    {
     "data": {
      "text/plain": [
       "pH                            218882\n",
       "Hematocrit                    166293\n",
       "White Blood Cells             130909\n",
       "Creatinine                    130258\n",
       "Glucose                       119726\n",
       "Lactate                        88289\n",
       "Oxygen Saturation              61903\n",
       "Lactate Dehydrogenase (LD)     19261\n",
       "Creatinine, Urine               7397\n",
       "WBC Count                        177\n",
       "24 hr Creatinine                  21\n",
       "Urine Creatinine                   4\n",
       "Name: label, dtype: int64"
      ]
     },
     "execution_count": 8,
     "metadata": {},
     "output_type": "execute_result"
    }
   ],
   "source": [
    "# Generates counts for different types of lab measurements\n",
    "lab_measurement_type_counts = lab_events_data_df['label'].value_counts()\n",
    "\n",
    "\n",
    "lab_measurement_type_counts"
   ]
  },
  {
   "cell_type": "code",
   "execution_count": 9,
   "metadata": {},
   "outputs": [],
   "source": [
    "# Create a list of lab measurement types with counts greater than 5k. \n",
    "# Removes sparse lab values. \n",
    "lab_measurement_types = list(lab_measurement_type_counts[\n",
    "                                        lab_measurement_type_counts>5000\n",
    "                                                        ].index)\n"
   ]
  },
  {
   "cell_type": "code",
   "execution_count": 10,
   "metadata": {},
   "outputs": [
    {
     "data": {
      "text/plain": [
       "['pH',\n",
       " 'Hematocrit',\n",
       " 'White Blood Cells',\n",
       " 'Creatinine',\n",
       " 'Glucose',\n",
       " 'Lactate',\n",
       " 'Oxygen Saturation',\n",
       " 'Lactate Dehydrogenase (LD)',\n",
       " 'Creatinine, Urine']"
      ]
     },
     "execution_count": 10,
     "metadata": {},
     "output_type": "execute_result"
    }
   ],
   "source": [
    "lab_measurement_types"
   ]
  },
  {
   "cell_type": "markdown",
   "metadata": {},
   "source": [
    "# Plot Distributions for All Lab Measurements By Gender and Survivor Status"
   ]
  },
  {
   "cell_type": "code",
   "execution_count": 11,
   "metadata": {},
   "outputs": [],
   "source": [
    "def generate_gender_survivor_cohorts(lab_events_data_df, gend='F', expired=True):\n",
    "    gender_survivor_cohort_df = lab_events_data_df[\n",
    "                                 (lab_events_data_df[label]==lab_measurement)&             \n",
    "                                 (lab_events_data_df[hospital_expire_flag]==expired)& \n",
    "                                 (lab_events_data_df[gender] == gend)\n",
    "                                ]\n",
    "    if gend==1:\n",
    "        gender_survivor_cohort_df.name = 'Survivors'\n",
    "    else:\n",
    "        gender_survivor_cohort_df.name = 'Non_Survivors'\n",
    "    return gender_survivor_cohort_df"
   ]
  },
  {
   "cell_type": "code",
   "execution_count": 12,
   "metadata": {},
   "outputs": [],
   "source": [
    "def plot_gender_survivor_lab_values_distributions(survivors, non_survivors, lab_value):    \n",
    "    plt.subplots(figsize=(10,4))\n",
    "    survivors[lab_value].plot.hist(\n",
    "                                bins=100, \n",
    "                                alpha=1.0,\n",
    "                                label='Survival'\n",
    "    )\n",
    "\n",
    "    non_survivors[lab_value].plot.hist(\n",
    "                                bins=100,\n",
    "                                alpha=1.0,\n",
    "                                label='Non-Survivors')\n",
    "    # add title, labels etc.\n",
    "    plt.title('{} measurement on ICU admission'.format(lab_measurement) + \n",
    "               'vs ICU mortality by gender = {}\\n'.format(gend))\n",
    "    plt.xlabel(lab_measurement)\n",
    "    plt.legend(loc=\"upper left\", bbox_to_anchor=(.75,.75),fontsize=12)"
   ]
  },
  {
   "cell_type": "code",
   "execution_count": 13,
   "metadata": {},
   "outputs": [
    {
     "data": {
      "image/png": "[encoded data removed]",
      "text/plain": [
       "<Figure size 720x288 with 1 Axes>"
      ]
     },
     "metadata": {
      "needs_background": "light"
     },
     "output_type": "display_data"
    },
    {
     "data": {
      "image/png": "[encoded data removed]",
      "text/plain": [
       "<Figure size 720x288 with 1 Axes>"
      ]
     },
     "metadata": {
      "needs_background": "light"
     },
     "output_type": "display_data"
    },
    {
     "data": {
      "image/png": "[encoded data removed]",
      "text/plain": [
       "<Figure size 720x288 with 1 Axes>"
      ]
     },
     "metadata": {
      "needs_background": "light"
     },
     "output_type": "display_data"
    },
    {
     "data": {
      "image/png": "[encoded data removed]",
      "text/plain": [
       "<Figure size 720x288 with 1 Axes>"
      ]
     },
     "metadata": {
      "needs_background": "light"
     },
     "output_type": "display_data"
    },
    {
     "data": {
      "image/png": "[encoded data removed]",
      "text/plain": [
       "<Figure size 720x288 with 1 Axes>"
      ]
     },
     "metadata": {
      "needs_background": "light"
     },
     "output_type": "display_data"
    },
    {
     "data": {
      "image/png": "[encoded data removed]",
      "text/plain": [
       "<Figure size 720x288 with 1 Axes>"
      ]
     },
     "metadata": {
      "needs_background": "light"
     },
     "output_type": "display_data"
    },
    {
     "data": {
      "image/png": "[encoded data removed]",
      "text/plain": [
       "<Figure size 720x288 with 1 Axes>"
      ]
     },
     "metadata": {
      "needs_background": "light"
     },
     "output_type": "display_data"
    },
    {
     "data": {
      "image/png": "[encoded data removed]",
      "text/plain": [
       "<Figure size 720x288 with 1 Axes>"
      ]
     },
     "metadata": {
      "needs_background": "light"
     },
     "output_type": "display_data"
    },
    {
     "data": {
      "image/png": "[encoded data removed]",
      "text/plain": [
       "<Figure size 720x288 with 1 Axes>"
      ]
     },
     "metadata": {
      "needs_background": "light"
     },
     "output_type": "display_data"
    },
    {
     "data": {
      "image/png": "[encoded data removed]",
      "text/plain": [
       "<Figure size 720x288 with 1 Axes>"
      ]
     },
     "metadata": {
      "needs_background": "light"
     },
     "output_type": "display_data"
    },
    {
     "data": {
      "image/png": "[encoded data removed]",
      "text/plain": [
       "<Figure size 720x288 with 1 Axes>"
      ]
     },
     "metadata": {
      "needs_background": "light"
     },
     "output_type": "display_data"
    },
    {
     "data": {
      "image/png": "[encoded data removed]",
      "text/plain": [
       "<Figure size 720x288 with 1 Axes>"
      ]
     },
     "metadata": {
      "needs_background": "light"
     },
     "output_type": "display_data"
    },
    {
     "data": {
      "image/png": "[encoded data removed]",
      "text/plain": [
       "<Figure size 720x288 with 1 Axes>"
      ]
     },
     "metadata": {
      "needs_background": "light"
     },
     "output_type": "display_data"
    },
    {
     "data": {
      "image/png": "[encoded data removed]",
      "text/plain": [
       "<Figure size 720x288 with 1 Axes>"
      ]
     },
     "metadata": {
      "needs_background": "light"
     },
     "output_type": "display_data"
    },
    {
     "data": {
      "image/png": "[encoded data removed]",
      "text/plain": [
       "<Figure size 720x288 with 1 Axes>"
      ]
     },
     "metadata": {
      "needs_background": "light"
     },
     "output_type": "display_data"
    },
    {
     "data": {
      "image/png": "[encoded data removed]",
      "text/plain": [
       "<Figure size 720x288 with 1 Axes>"
      ]
     },
     "metadata": {
      "needs_background": "light"
     },
     "output_type": "display_data"
    },
    {
     "data": {
      "image/png": "[encoded data removed]",
      "text/plain": [
       "<Figure size 720x288 with 1 Axes>"
      ]
     },
     "metadata": {
      "needs_background": "light"
     },
     "output_type": "display_data"
    },
    {
     "data": {
      "image/png": "[encoded data removed]",
      "text/plain": [
       "<Figure size 720x288 with 1 Axes>"
      ]
     },
     "metadata": {
      "needs_background": "light"
     },
     "output_type": "display_data"
    }
   ],
   "source": [
    "gender_values = ['M', 'F']\n",
    "\n",
    "for lab_measurement in lab_measurement_types:\n",
    "\n",
    "    for gend in gender_values:\n",
    "     \n",
    "        \n",
    "        #print gend\n",
    "        non_survivors = generate_gender_survivor_cohorts(lab_events_data_df, gend, expired=True)\n",
    "        \n",
    "        survivors = generate_gender_survivor_cohorts(lab_events_data_df, gend, expired=False)\n",
    "        plot_gender_survivor_lab_values_distributions(survivors, non_survivors, lab_value)    "
   ]
  },
  {
   "cell_type": "markdown",
   "metadata": {},
   "source": [
    "# Individual Lab Measurement Exploration"
   ]
  },
  {
   "cell_type": "code",
   "execution_count": 14,
   "metadata": {},
   "outputs": [],
   "source": [
    "def visualize_lab_value_distribution(lab_values_series, xlimits=None, bins=500):\n",
    "    \n",
    "    fig, axes = plt.subplots(1,2, figsize=(14,4))\n",
    "    lab_values_series.plot.hist(\n",
    "                            ax=axes[0],\n",
    "                            bins=bins, \n",
    "                            title=lab_values_series.name + ' Distribution'\n",
    "    )\n",
    "    if xlimits:\n",
    "        axes[0].set_xlim(xlimits)\n",
    "    ax = lab_values_series.plot.hist(\n",
    "                            ax=axes[1],\n",
    "                            bins=bins, \n",
    "                            logx=True,\n",
    "                            title=lab_values_series.name + ' Log Distribution'\n",
    "    \n",
    "    )\n",
    "    plt.xlabel(\"Log Scale\")\n",
    "   "
   ]
  },
  {
   "cell_type": "code",
   "execution_count": 15,
   "metadata": {},
   "outputs": [],
   "source": [
    "def generate_lab_value_series(lab_values_df, lab_measurement):\n",
    "\n",
    "    lab_values_series = lab_values_df[\n",
    "                                    lab_values_df['label']== lab_measurement\n",
    "                                    ]['valuenum']\n",
    "    lab_values_series.name = lab_measurement\n",
    "    return lab_values_series\n",
    "    \n"
   ]
  },
  {
   "cell_type": "code",
   "execution_count": 16,
   "metadata": {},
   "outputs": [],
   "source": [
    "def generate_histogram_frequency_counts(lab_values_series, bins=1000):\n",
    "    #returns non-zero frequency counts\n",
    "    count, division = np.histogram(lab_values_series.dropna(), bins=bins)\n",
    "    histogram_frequency_counts_series = pd.Series(count, division[:-1])\n",
    "    non_zero_histogram_frequency_counts_series = histogram_frequency_counts_series[\n",
    "                                                    histogram_frequency_counts_series>0\n",
    "    ]\n",
    "    return non_zero_histogram_frequency_counts_series"
   ]
  },
  {
   "cell_type": "markdown",
   "metadata": {},
   "source": [
    "# pH"
   ]
  },
  {
   "cell_type": "code",
   "execution_count": 17,
   "metadata": {},
   "outputs": [
    {
     "data": {
      "image/png": "[encoded data removed]",
      "text/plain": [
       "<Figure size 1008x288 with 2 Axes>"
      ]
     },
     "metadata": {
      "needs_background": "light"
     },
     "output_type": "display_data"
    }
   ],
   "source": [
    "# Visualize raw values on normal and log scale\n",
    "pH_values_series = generate_lab_value_series(lab_events_data_df, 'pH')\n",
    "\n",
    "visualize_lab_value_distribution(pH_values_series) "
   ]
  },
  {
   "cell_type": "markdown",
   "metadata": {},
   "source": [
    "### Removing values above 8 and below 6.5\n",
    "Evidence to date supports the assumption that pH values outside this range are incompatible with life. \n",
    "Values outside this range also appear to occur in whole integers which leads to the conclusion that \n",
    "these are errors and not continuous measurements. \n",
    "\n",
    "\n",
    "Normal cellular metabolism and function require that blood pH be maintained within narrow limits, \n",
    "7.35-7.45. Even mild excursion outside this range has deleterious effect, \n",
    "and pH of less than 6.8 or greater than 7.8 is considered – according to medical and physiology texts – \n",
    "incompatible with life. \n",
    "Such a view is challenged by the detail of a recently published case report, \n",
    "which describes survival of a patient whose pH was just 6.53\n",
    "https://acutecaretesting.org/en/journal-scans/record-breaking-blood-ph-survival-following-extreme-acidosis"
   ]
  },
  {
   "cell_type": "code",
   "execution_count": 18,
   "metadata": {},
   "outputs": [
    {
     "data": {
      "image/png": "[encoded data removed]",
      "text/plain": [
       "<Figure size 1008x288 with 2 Axes>"
      ]
     },
     "metadata": {
      "needs_background": "light"
     },
     "output_type": "display_data"
    }
   ],
   "source": [
    "# Visualize raw values on a predefined scale\n",
    "visualize_lab_value_distribution(pH_values_series, [6.5, 8]) "
   ]
  },
  {
   "cell_type": "code",
   "execution_count": 19,
   "metadata": {},
   "outputs": [
    {
     "name": "stdout",
     "output_type": "stream",
     "text": [
      "0.94000        1\n",
      "0.99642        6\n",
      "3.99474        2\n",
      "4.99418    13123\n",
      "5.49390     2706\n",
      "5.99362     2467\n",
      "6.22736        1\n",
      "6.36438        1\n",
      "6.38856        1\n",
      "6.39662        1\n",
      "6.45304        1\n",
      "6.48528        1\n",
      "6.49334     4606\n",
      "6.52558        1\n",
      "6.54976        1\n",
      "6.55782        1\n",
      "6.58200        1\n",
      "6.60618        2\n",
      "6.61424        2\n",
      "6.62230        1\n",
      "6.63842        1\n",
      "6.64648        4\n",
      "6.65454        1\n",
      "6.66260        1\n",
      "6.68678        2\n",
      "6.69484        5\n",
      "6.70290        1\n",
      "6.71902        6\n",
      "6.72708        5\n",
      "6.73514        8\n",
      "6.74320        7\n",
      "6.75932        6\n",
      "6.76738        7\n",
      "6.77544       15\n",
      "6.78350       18\n",
      "6.79962       14\n",
      "6.80768       25\n",
      "6.81574       21\n",
      "6.82380       10\n",
      "6.83992       17\n",
      "6.84798       22\n",
      "6.85604       27\n",
      "6.86410       28\n",
      "6.87216       30\n",
      "6.88828       41\n",
      "6.89634       40\n",
      "6.90440       34\n",
      "6.91246       41\n",
      "6.92858       41\n",
      "6.93664       60\n",
      "6.94470       45\n",
      "6.95276       65\n",
      "6.96888       64\n",
      "6.97694      100\n",
      "6.98500       77\n",
      "6.99306     3258\n",
      "7.00918      126\n",
      "7.01724      137\n",
      "7.02530      148\n",
      "7.03336      171\n",
      "7.04948      175\n",
      "7.05754      197\n",
      "7.06560      205\n",
      "7.07366      273\n",
      "7.08978      297\n",
      "7.09784      357\n",
      "7.10590      361\n",
      "7.11396      403\n",
      "7.12202      461\n",
      "7.13814      575\n",
      "7.14620      637\n",
      "7.15426      719\n",
      "7.16232      785\n",
      "7.17844      976\n",
      "7.18650     1055\n",
      "7.19456     1241\n",
      "7.20262     1380\n",
      "7.21874     1653\n",
      "7.22680     1749\n",
      "7.23486     2012\n",
      "7.24292     2197\n",
      "7.25904     3257\n",
      "7.26710     3418\n",
      "7.27516     4137\n",
      "7.28322     4438\n",
      "7.29934     5469\n",
      "7.30740     5968\n",
      "7.31546     7119\n",
      "7.32352     7672\n",
      "7.33964     8696\n",
      "7.34770     9174\n",
      "7.35576     9847\n",
      "7.36382    10170\n",
      "7.37994    10583\n",
      "7.38800    10202\n",
      "7.39606    10347\n",
      "7.40412     9169\n",
      "7.41218     9004\n",
      "7.42830     7528\n",
      "7.43636     6929\n",
      "7.44442     5897\n",
      "7.45248     4995\n",
      "7.46860     3975\n",
      "7.47666     3384\n",
      "7.48472     2624\n",
      "7.49278     2412\n",
      "7.50890     1517\n",
      "7.51696     1157\n",
      "7.52502      807\n",
      "7.53308      661\n",
      "7.54920      416\n",
      "7.55726      337\n",
      "7.56532      227\n",
      "7.57338      165\n",
      "7.58950      113\n",
      "7.59756       84\n",
      "7.60562       82\n",
      "7.61368       51\n",
      "7.62980       35\n",
      "7.63786       23\n",
      "7.64592       24\n",
      "7.65398       22\n",
      "7.66204        9\n",
      "7.67816       17\n",
      "7.68622       11\n",
      "7.69428        6\n",
      "7.70234        2\n",
      "7.71846        3\n",
      "7.72652        2\n",
      "7.73458        1\n",
      "7.74264        1\n",
      "7.75876        2\n",
      "7.77488        1\n",
      "7.79906        2\n",
      "7.80712        1\n",
      "7.82324        2\n",
      "7.83936        1\n",
      "7.87966        1\n",
      "7.88772        1\n",
      "7.90384        1\n",
      "7.92802        1\n",
      "7.99250      981\n",
      "8.34714        1\n",
      "8.48416        1\n",
      "8.49222      125\n",
      "8.99194      184\n"
     ]
    }
   ],
   "source": [
    "ph_frequency_counts_series = generate_histogram_frequency_counts(pH_values_series, bins=1000)\n",
    "\n",
    "# View frequency counts\n",
    "print(ph_frequency_counts_series.to_string())"
   ]
  },
  {
   "cell_type": "markdown",
   "metadata": {},
   "source": [
    "# White Blood Cells"
   ]
  },
  {
   "cell_type": "code",
   "execution_count": 20,
   "metadata": {},
   "outputs": [
    {
     "data": {
      "image/png": "[encoded data removed]",
      "text/plain": [
       "<Figure size 1008x288 with 2 Axes>"
      ]
     },
     "metadata": {
      "needs_background": "light"
     },
     "output_type": "display_data"
    }
   ],
   "source": [
    "# Visualize raw values on normal and log scale\n",
    "wbc_values_series = generate_lab_value_series(lab_events_data_df, 'White Blood Cells')\n",
    "\n",
    "visualize_lab_value_distribution(wbc_values_series) "
   ]
  },
  {
   "cell_type": "code",
   "execution_count": 21,
   "metadata": {},
   "outputs": [
    {
     "data": {
      "image/png": "[encoded data removed]",
      "text/plain": [
       "<Figure size 1008x288 with 2 Axes>"
      ]
     },
     "metadata": {
      "needs_background": "light"
     },
     "output_type": "display_data"
    }
   ],
   "source": [
    "# Visualize raw values on a predefined scale\n",
    "visualize_lab_value_distribution(wbc_values_series, [0,60]) "
   ]
  },
  {
   "cell_type": "code",
   "execution_count": 22,
   "metadata": {},
   "outputs": [
    {
     "name": "stdout",
     "output_type": "stream",
     "text": [
      "0.0000       726\n",
      "0.8467       666\n",
      "1.6934      1219\n",
      "2.5401      1709\n",
      "3.3868      2873\n",
      "4.2335      3747\n",
      "5.0802      5854\n",
      "5.9269      6608\n",
      "6.7736      8506\n",
      "7.6203      8047\n",
      "8.4670      9662\n",
      "9.3137      8267\n",
      "10.1604     9006\n",
      "11.0071     7531\n",
      "11.8538     7801\n",
      "12.7005     6130\n",
      "13.5472     5373\n",
      "14.3939     5427\n",
      "15.2406     4171\n",
      "16.0873     4008\n",
      "16.9340     3010\n",
      "17.7807     3022\n",
      "18.6274     2322\n",
      "19.4741     2230\n",
      "20.3208     1606\n",
      "21.1675     1558\n",
      "22.0142     1244\n",
      "22.8609     1147\n",
      "23.7076      858\n",
      "24.5543      829\n",
      "25.4010      642\n",
      "26.2477      537\n",
      "27.0944      524\n",
      "27.9411      420\n",
      "28.7878      391\n",
      "29.6345      285\n",
      "30.4812      304\n",
      "31.3279      247\n",
      "32.1746      221\n",
      "33.0213      178\n",
      "33.8680      160\n",
      "34.7147      133\n",
      "35.5614      141\n",
      "36.4081      102\n",
      "37.2548      111\n",
      "38.1015       90\n",
      "38.9482       65\n",
      "39.7949       84\n",
      "40.6416       53\n",
      "41.4883       57\n",
      "42.3350       61\n",
      "43.1817       34\n",
      "44.0284       39\n",
      "44.8751       31\n",
      "45.7218       46\n",
      "46.5685       33\n",
      "47.4152       30\n",
      "48.2619       39\n",
      "49.1086       20\n",
      "49.9553       26\n",
      "50.8020       21\n",
      "51.6487       18\n",
      "52.4954       19\n",
      "53.3421       14\n",
      "54.1888       15\n",
      "55.0355       16\n",
      "55.8822       20\n",
      "56.7289       12\n",
      "57.5756       20\n",
      "58.4223       13\n",
      "59.2690       12\n",
      "60.1157       10\n",
      "60.9624       10\n",
      "61.8091       10\n",
      "62.6558       13\n",
      "63.5025        9\n",
      "64.3492        5\n",
      "65.1959        9\n",
      "66.0426       10\n",
      "66.8893        9\n",
      "67.7360        8\n",
      "68.5827        5\n",
      "69.4294        5\n",
      "70.2761        6\n",
      "71.1228        5\n",
      "71.9695        5\n",
      "72.8162        5\n",
      "73.6629        9\n",
      "74.5096        2\n",
      "75.3563        6\n",
      "76.2030        4\n",
      "77.0497        7\n",
      "77.8964        3\n",
      "78.7431        4\n",
      "79.5898        6\n",
      "80.4365        3\n",
      "81.2832        4\n",
      "82.1299        2\n",
      "82.9766        5\n",
      "83.8233        5\n",
      "84.6700        3\n",
      "85.5167        3\n",
      "86.3634        6\n",
      "87.2101        1\n",
      "88.0568        5\n",
      "88.9035        2\n",
      "89.7502        2\n",
      "90.5969        3\n",
      "91.4436        4\n",
      "92.2903        5\n",
      "93.1370        4\n",
      "93.9837        4\n",
      "94.8304        7\n",
      "95.6771        2\n",
      "96.5238        4\n",
      "97.3705        4\n",
      "98.2172        6\n",
      "99.0639        1\n",
      "99.9106        3\n",
      "100.7573       2\n",
      "101.6040       2\n",
      "102.4507       1\n",
      "103.2974       2\n",
      "104.1441       3\n",
      "104.9908       1\n",
      "105.8375       1\n",
      "106.6842       1\n",
      "107.5309       2\n",
      "108.3776       3\n",
      "109.2243       3\n",
      "110.0710       2\n",
      "110.9177       3\n",
      "111.7644       3\n",
      "112.6111       2\n",
      "113.4578       1\n",
      "114.3045       2\n",
      "115.9979       1\n",
      "117.6913       1\n",
      "118.5380       2\n",
      "119.3847       2\n",
      "120.2314       3\n",
      "121.0781       1\n",
      "122.7715       1\n",
      "123.6182       1\n",
      "125.3116       2\n",
      "126.1583       2\n",
      "127.0050       3\n",
      "127.8517       1\n",
      "128.6984       3\n",
      "132.0852       1\n",
      "132.9319       4\n",
      "133.7786       1\n",
      "137.1654       4\n",
      "138.0121       1\n",
      "138.8588       1\n",
      "140.5522       1\n",
      "143.0923       1\n",
      "143.9390       1\n",
      "145.6324       1\n",
      "147.3258       1\n",
      "149.8659       1\n",
      "150.7126       1\n",
      "154.9461       1\n",
      "155.7928       1\n",
      "157.4862       3\n",
      "158.3329       1\n",
      "159.1796       1\n",
      "160.0263       4\n",
      "160.8730       1\n",
      "163.4131       2\n",
      "168.4933       1\n",
      "170.1867       2\n",
      "171.0334       1\n",
      "171.8801       4\n",
      "174.4202       1\n",
      "175.2669       2\n",
      "176.1136       1\n",
      "179.5004       1\n",
      "180.3471       1\n",
      "181.1938       1\n",
      "182.8872       2\n",
      "186.2740       1\n",
      "187.1207       1\n",
      "190.5075       1\n",
      "192.2009       1\n",
      "197.2811       1\n",
      "198.1278       1\n",
      "198.9745       1\n",
      "201.5146       1\n",
      "203.2080       2\n",
      "204.0547       1\n",
      "205.7481       2\n",
      "206.5948       1\n",
      "207.4415       1\n",
      "210.8283       1\n",
      "215.9085       1\n",
      "222.6821       1\n",
      "224.3755       1\n",
      "226.9156       1\n",
      "227.7623       1\n",
      "228.6090       1\n",
      "238.7694       1\n",
      "239.6161       1\n",
      "242.1562       1\n",
      "243.0029       1\n",
      "248.9298       1\n",
      "253.1633       1\n",
      "276.0242       1\n",
      "299.7318       1\n",
      "302.2719       1\n",
      "310.7389       1\n",
      "315.8191       1\n",
      "318.3592       1\n",
      "321.7460       1\n",
      "325.1328       2\n",
      "325.9795       1\n",
      "336.1399       1\n",
      "336.9866       1\n",
      "341.2201       1\n",
      "375.0881       1\n",
      "385.2485       1\n",
      "394.5622       1\n",
      "421.6566       1\n",
      "422.5033       1\n",
      "441.9774       1\n",
      "453.8312       1\n",
      "462.2982       1\n",
      "471.6119       1\n",
      "479.2322       1\n",
      "524.9540       1\n",
      "527.4941       1\n",
      "572.3692       1\n",
      "575.7560       1\n",
      "599.4636       1\n",
      "604.5438       1\n",
      "632.4849       1\n",
      "665.5062       1\n",
      "845.8533       1\n"
     ]
    }
   ],
   "source": [
    "wbc_frequency_counts_series = generate_histogram_frequency_counts(wbc_values_series, bins=1000)\n",
    "\n",
    "# View frequency counts to see if the long tails are outliers or just very high numbers\n",
    "print(wbc_frequency_counts_series.to_string())"
   ]
  },
  {
   "cell_type": "markdown",
   "metadata": {},
   "source": [
    "I am unaware of any upper possible limit on WBC counts. \n",
    "In the absence of that, the tail appears to include a number of high measurements and does not appear to result from a single \n",
    "erroneous value. Its therefore concluded there's insufficient evidence to conclude the values are outliers \n"
   ]
  },
  {
   "cell_type": "markdown",
   "metadata": {},
   "source": [
    "# Creatinine"
   ]
  },
  {
   "cell_type": "code",
   "execution_count": 23,
   "metadata": {},
   "outputs": [
    {
     "data": {
      "image/png": "[encoded data removed]",
      "text/plain": [
       "<Figure size 1008x288 with 2 Axes>"
      ]
     },
     "metadata": {
      "needs_background": "light"
     },
     "output_type": "display_data"
    }
   ],
   "source": [
    "# Visualize raw values on normal and log scale\n",
    "creatinine_values_series = generate_lab_value_series(lab_events_data_df, 'Creatinine')\n",
    "\n",
    "visualize_lab_value_distribution(creatinine_values_series) "
   ]
  },
  {
   "cell_type": "markdown",
   "metadata": {},
   "source": [
    "### Creatinine appears to follow a log-normal distribution"
   ]
  },
  {
   "cell_type": "code",
   "execution_count": 24,
   "metadata": {},
   "outputs": [
    {
     "data": {
      "image/png": "[encoded data removed]",
      "text/plain": [
       "<Figure size 1008x288 with 2 Axes>"
      ]
     },
     "metadata": {
      "needs_background": "light"
     },
     "output_type": "display_data"
    }
   ],
   "source": [
    "# Visualize raw values on a predefined scale\n",
    "visualize_lab_value_distribution(creatinine_values_series, [0,13]) "
   ]
  },
  {
   "cell_type": "code",
   "execution_count": 25,
   "metadata": {},
   "outputs": [
    {
     "name": "stdout",
     "output_type": "stream",
     "text": [
      "0.0000         8\n",
      "0.0932        79\n",
      "0.1864       263\n",
      "0.2796       861\n",
      "0.3728      2744\n",
      "0.4660      6342\n",
      "0.5592     10271\n",
      "0.6990     13116\n",
      "0.7922     13450\n",
      "0.8854     12213\n",
      "0.9786     10134\n",
      "1.0718      7986\n",
      "1.1650      6429\n",
      "1.2582      4972\n",
      "1.3980      4052\n",
      "1.4912      3408\n",
      "1.5844      2905\n",
      "1.6776      2381\n",
      "1.7708      2114\n",
      "1.8640      1847\n",
      "1.9572      1735\n",
      "2.0970      1387\n",
      "2.1902      1375\n",
      "2.2834      1147\n",
      "2.3766      1070\n",
      "2.4698      1005\n",
      "2.5630       843\n",
      "2.6562       853\n",
      "2.7960       721\n",
      "2.8892       629\n",
      "2.9824       679\n",
      "3.0756       577\n",
      "3.1688       563\n",
      "3.2154         1\n",
      "3.2620       549\n",
      "3.3552       485\n",
      "3.4950       453\n",
      "3.5882       459\n",
      "3.6814       387\n",
      "3.7746       382\n",
      "3.8678       387\n",
      "3.9610       368\n",
      "4.0542       307\n",
      "4.1940       312\n",
      "4.2872       294\n",
      "4.3804       257\n",
      "4.4736       280\n",
      "4.5668       274\n",
      "4.6600       256\n",
      "4.7998       226\n",
      "4.8930       241\n",
      "4.9862       217\n",
      "5.0794       214\n",
      "5.1726       239\n",
      "5.2658       204\n",
      "5.3590       193\n",
      "5.4988       199\n",
      "5.5920       182\n",
      "5.6852       154\n",
      "5.7784       170\n",
      "5.8716       146\n",
      "5.9648       135\n",
      "6.0580       143\n",
      "6.1978       158\n",
      "6.2910       140\n",
      "6.3842       150\n",
      "6.4774       158\n",
      "6.5706       108\n",
      "6.6638       114\n",
      "6.7570       126\n",
      "6.8968       121\n",
      "6.9900       104\n",
      "7.0832        89\n",
      "7.1764        83\n",
      "7.2696        98\n",
      "7.3628       102\n",
      "7.4560        83\n",
      "7.5958        94\n",
      "7.6890        74\n",
      "7.7822        73\n",
      "7.8754        73\n",
      "7.9686        63\n",
      "8.0618        80\n",
      "8.1550        73\n",
      "8.2948        67\n",
      "8.3880        67\n",
      "8.4812        69\n",
      "8.5744        69\n",
      "8.6676        64\n",
      "8.7608        56\n",
      "8.8540        51\n",
      "8.9938        52\n",
      "9.0870        48\n",
      "9.1802        41\n",
      "9.2734        47\n",
      "9.3666        54\n",
      "9.4598        38\n",
      "9.5996        36\n",
      "9.6928        29\n",
      "9.7860        36\n",
      "9.8792        34\n",
      "9.9724        34\n",
      "10.0656       50\n",
      "10.1588       35\n",
      "10.2986       33\n",
      "10.3918       32\n",
      "10.4850       23\n",
      "10.5782       26\n",
      "10.6714       23\n",
      "10.7646       32\n",
      "10.8578       25\n",
      "10.9976       20\n",
      "11.0908       15\n",
      "11.1840       27\n",
      "11.2772       17\n",
      "11.3704       19\n",
      "11.4636       21\n",
      "11.5568       28\n",
      "11.6966       16\n",
      "11.7898       15\n",
      "11.8830       18\n",
      "11.9762       15\n",
      "12.0694       20\n",
      "12.1626       18\n",
      "12.2558       10\n",
      "12.3956       20\n",
      "12.4888       12\n",
      "12.5820       14\n",
      "12.6752        9\n",
      "12.7684        6\n",
      "12.8616       13\n",
      "12.9548       13\n",
      "13.0946        2\n",
      "13.1878       10\n",
      "13.2810        8\n",
      "13.3742        6\n",
      "13.4674        6\n",
      "13.5606       12\n",
      "13.6538        8\n",
      "13.7936       12\n",
      "13.8868        8\n",
      "13.9800        3\n",
      "14.0732        3\n",
      "14.1664        9\n",
      "14.2596       10\n",
      "14.3994        3\n",
      "14.4926        7\n",
      "14.5858       10\n",
      "14.6790        5\n",
      "14.7722        4\n",
      "14.8654        3\n",
      "14.9586       10\n",
      "15.0984        3\n",
      "15.1916        1\n",
      "15.2848        3\n",
      "15.3780        1\n",
      "15.4712        7\n",
      "15.5644        3\n",
      "15.6576        3\n",
      "15.7974        3\n",
      "15.8906        7\n",
      "15.9838        7\n",
      "16.0770        1\n",
      "16.1702        8\n",
      "16.2634        2\n",
      "16.4964        7\n",
      "16.5896        2\n",
      "16.6828        2\n",
      "16.8692        2\n",
      "16.9624        4\n",
      "17.0556        1\n",
      "17.2886        2\n",
      "17.3818        1\n",
      "17.4750        2\n",
      "17.5682        2\n",
      "17.6614        1\n",
      "17.8944        1\n",
      "18.0808        3\n",
      "18.1740        2\n",
      "18.2672        1\n",
      "18.3604        1\n",
      "18.4536        2\n",
      "18.5934        1\n",
      "18.6866        1\n",
      "18.7798        1\n",
      "18.9662        2\n",
      "19.3856        1\n",
      "19.5720        1\n",
      "19.6652        3\n",
      "19.7584        1\n",
      "19.8982        1\n",
      "20.0846        1\n",
      "20.3642        1\n",
      "20.4574        1\n",
      "20.5972        1\n",
      "21.0632        1\n",
      "21.2962        1\n",
      "21.3894        4\n",
      "21.5758        2\n",
      "21.8554        2\n",
      "21.9952        2\n",
      "22.0884        3\n",
      "22.1816        2\n",
      "22.2748        1\n",
      "22.4612        2\n",
      "22.6942        2\n",
      "22.8806        1\n",
      "23.0670        1\n",
      "23.3932        1\n",
      "23.4864        1\n",
      "23.5796        2\n",
      "23.6728        1\n",
      "23.7660        1\n",
      "24.0922        1\n",
      "24.5582        1\n",
      "24.6980        1\n",
      "27.3542        1\n",
      "27.4940        1\n",
      "27.7736        1\n",
      "27.9600        1\n",
      "28.5658        1\n",
      "29.0784        1\n",
      "29.5910        1\n",
      "33.0860        1\n",
      "33.1792        1\n",
      "42.9652        1\n",
      "46.5534        1\n"
     ]
    }
   ],
   "source": [
    "creatinine_frequency_counts_series = generate_histogram_frequency_counts(creatinine_values_series, bins=1000)\n",
    "\n",
    "# View frequency counts to see if the long tails are outliers or just very high numbers\n",
    "print(creatinine_frequency_counts_series.to_string())"
   ]
  },
  {
   "cell_type": "markdown",
   "metadata": {},
   "source": [
    "The highest peak creatinine level observed as of 2013 was 53.9. The long tail observed here is therefore\n",
    "within the range of observed values. \n",
    "\n",
    "https://www.researchgate.net/publication/273742614_A_Surviving_Patient_with_Record_High_Creatinine#:~:text=A%20literature%20search%20indicates%20that,in%20the%20literature%20%5B3%5D%20.\n"
   ]
  },
  {
   "cell_type": "markdown",
   "metadata": {},
   "source": [
    "# Glucose"
   ]
  },
  {
   "cell_type": "code",
   "execution_count": 26,
   "metadata": {},
   "outputs": [
    {
     "data": {
      "image/png": "[encoded data removed]",
      "text/plain": [
       "<Figure size 1008x288 with 2 Axes>"
      ]
     },
     "metadata": {
      "needs_background": "light"
     },
     "output_type": "display_data"
    }
   ],
   "source": [
    "# Visualize raw values on normal and log scale\n",
    "glucose_values_series = generate_lab_value_series(lab_events_data_df, 'Glucose')\n",
    "\n",
    "visualize_lab_value_distribution(glucose_values_series) "
   ]
  },
  {
   "cell_type": "code",
   "execution_count": 27,
   "metadata": {},
   "outputs": [
    {
     "data": {
      "image/png": "[encoded data removed]",
      "text/plain": [
       "<Figure size 1008x288 with 2 Axes>"
      ]
     },
     "metadata": {
      "needs_background": "light"
     },
     "output_type": "display_data"
    }
   ],
   "source": [
    "# Visualize raw values on a predefined scale\n",
    "visualize_lab_value_distribution(glucose_values_series, [0,750]) "
   ]
  },
  {
   "cell_type": "markdown",
   "metadata": {},
   "source": [
    "### Glucose appears to follow a log-normal distribution"
   ]
  },
  {
   "cell_type": "code",
   "execution_count": 28,
   "metadata": {},
   "outputs": [
    {
     "name": "stdout",
     "output_type": "stream",
     "text": [
      "1.000          3\n",
      "5.878          3\n",
      "8.317          4\n",
      "10.756         6\n",
      "13.195         6\n",
      "15.634         8\n",
      "18.073        17\n",
      "20.512        17\n",
      "22.951        23\n",
      "25.390        21\n",
      "27.829        40\n",
      "30.268        31\n",
      "32.707        53\n",
      "35.146        41\n",
      "37.585        72\n",
      "40.024        69\n",
      "42.463        68\n",
      "44.902       120\n",
      "47.341        64\n",
      "49.780       207\n",
      "52.219       155\n",
      "54.658       268\n",
      "57.097       206\n",
      "59.536       201\n",
      "61.975       428\n",
      "64.414       311\n",
      "66.853       603\n",
      "69.292       492\n",
      "71.731       891\n",
      "74.170       658\n",
      "76.609      1298\n",
      "79.048      1052\n",
      "81.487      1239\n",
      "83.926      2072\n",
      "86.365      1745\n",
      "88.804      2808\n",
      "91.243      2191\n",
      "93.682      3417\n",
      "96.121      2366\n",
      "98.560      2526\n",
      "100.999     3669\n",
      "103.438     2571\n",
      "105.877     4060\n",
      "108.316     2709\n",
      "110.755     3838\n",
      "113.194     2681\n",
      "115.633     3936\n",
      "118.072     2459\n",
      "120.511     2408\n",
      "122.950     3539\n",
      "125.389     2383\n",
      "127.828     3376\n",
      "130.267     2153\n",
      "132.706     3131\n",
      "135.145     1979\n",
      "137.584     2795\n",
      "140.023     1828\n",
      "142.462     1658\n",
      "144.901     2450\n",
      "147.340     1483\n",
      "149.779     2098\n",
      "152.218     1373\n",
      "154.657     1929\n",
      "157.096     1251\n",
      "159.535     1175\n",
      "161.974     1594\n",
      "164.413     1012\n",
      "166.852     1439\n",
      "169.291      923\n",
      "171.730     1304\n",
      "174.169      770\n",
      "176.608     1178\n",
      "179.047      732\n",
      "181.486      717\n",
      "183.925      998\n",
      "186.364      618\n",
      "188.803      908\n",
      "191.242      561\n",
      "193.681      810\n",
      "196.120      483\n",
      "198.559      495\n",
      "200.998      705\n",
      "203.437      485\n",
      "205.876      656\n",
      "208.315      389\n",
      "210.754      561\n",
      "213.193      377\n",
      "215.632      545\n",
      "218.071      330\n",
      "220.510      358\n",
      "222.949      467\n",
      "225.388      344\n",
      "227.827      440\n",
      "230.266      261\n",
      "232.705      399\n",
      "235.144      252\n",
      "237.583      359\n",
      "240.022      233\n",
      "242.461      233\n",
      "244.900      331\n",
      "247.339      207\n",
      "249.778      295\n",
      "252.217      212\n",
      "254.656      279\n",
      "257.095      182\n",
      "259.534      180\n",
      "261.973      257\n",
      "264.412      171\n",
      "266.851      225\n",
      "269.290      140\n",
      "271.729      213\n",
      "274.168      152\n",
      "276.607      200\n",
      "279.046      119\n",
      "281.485      115\n",
      "283.924      180\n",
      "286.363      131\n",
      "288.802      161\n",
      "291.241      113\n",
      "293.680      134\n",
      "296.119       95\n",
      "298.558       98\n",
      "300.997      144\n",
      "303.436       89\n",
      "305.875      124\n",
      "308.314       80\n",
      "310.753      123\n",
      "313.192       93\n",
      "315.631      125\n",
      "318.070       65\n",
      "320.509       77\n",
      "322.948      107\n",
      "325.387       87\n",
      "327.826       70\n",
      "330.265       65\n",
      "332.704      112\n",
      "335.143       62\n",
      "337.582       94\n",
      "340.021       46\n",
      "342.460       56\n",
      "344.899       80\n",
      "347.338       55\n",
      "349.777       60\n",
      "352.216       48\n",
      "354.655       66\n",
      "357.094       37\n",
      "359.533       56\n",
      "361.972       63\n",
      "364.411       41\n",
      "366.850       58\n",
      "369.289       37\n",
      "371.728       60\n",
      "374.167       33\n",
      "376.606       51\n",
      "379.045       28\n",
      "381.484       32\n",
      "383.923       52\n",
      "386.362       30\n",
      "388.801       65\n",
      "391.240       34\n",
      "393.679       48\n",
      "396.118       36\n",
      "398.557       34\n",
      "400.996       39\n",
      "403.435       31\n",
      "405.874       52\n",
      "408.313       25\n",
      "410.752       34\n",
      "413.191       23\n",
      "415.630       41\n",
      "418.069       26\n",
      "420.508       15\n",
      "422.947       29\n",
      "425.386       19\n",
      "427.825       24\n",
      "430.264       21\n",
      "432.703       46\n",
      "435.142       21\n",
      "437.581       38\n",
      "440.020       15\n",
      "442.459       20\n",
      "444.898       33\n",
      "447.337       22\n",
      "449.776       23\n",
      "452.215       10\n",
      "454.654       22\n",
      "457.093        8\n",
      "459.532       17\n",
      "461.971       16\n",
      "464.410       11\n",
      "466.849       31\n",
      "469.288       20\n",
      "471.727       27\n",
      "474.166       18\n",
      "476.605       22\n",
      "479.044        8\n",
      "481.483       14\n",
      "483.922       18\n",
      "486.361        7\n",
      "488.800       20\n",
      "491.239        7\n",
      "493.678       15\n",
      "496.117       12\n",
      "498.556        7\n",
      "500.995       16\n",
      "503.434       14\n",
      "505.873        7\n",
      "508.312       14\n",
      "510.751       15\n",
      "513.190        8\n",
      "515.629       18\n",
      "518.068       13\n",
      "520.507       11\n",
      "522.946       22\n",
      "525.385       11\n",
      "527.824       10\n",
      "530.263       11\n",
      "532.702       17\n",
      "535.141        3\n",
      "537.580       18\n",
      "540.019        8\n",
      "542.458       12\n",
      "544.897       12\n",
      "547.336       13\n",
      "549.775       12\n",
      "552.214        9\n",
      "554.653       10\n",
      "557.092        5\n",
      "559.531       12\n",
      "561.970       11\n",
      "564.409        7\n",
      "566.848       13\n",
      "569.287        7\n",
      "571.726        8\n",
      "574.165       11\n",
      "576.604        8\n",
      "579.043        7\n",
      "581.482        6\n",
      "583.921       14\n",
      "586.360        6\n",
      "588.799        5\n",
      "591.238        9\n",
      "593.677       11\n",
      "596.116        4\n",
      "598.555        7\n",
      "600.994       16\n",
      "603.433        3\n",
      "605.872       10\n",
      "608.311        6\n",
      "610.750        7\n",
      "613.189        7\n",
      "615.628        9\n",
      "618.067        3\n",
      "620.506        3\n",
      "622.945       13\n",
      "625.384        3\n",
      "627.823       12\n",
      "630.262       13\n",
      "632.701        7\n",
      "635.140        4\n",
      "637.579        7\n",
      "640.018        5\n",
      "642.457        5\n",
      "644.896        5\n",
      "647.335       10\n",
      "649.774        8\n",
      "652.213        4\n",
      "654.652        7\n",
      "657.091        5\n",
      "659.530        4\n",
      "661.969        8\n",
      "664.408        9\n",
      "666.847       10\n",
      "669.286        2\n",
      "671.725       16\n",
      "674.164        1\n",
      "676.603        8\n",
      "679.042        8\n",
      "681.481        4\n",
      "683.920       10\n",
      "686.359        6\n",
      "688.798        9\n",
      "691.237        5\n",
      "693.676       12\n",
      "696.115        9\n",
      "698.554        7\n",
      "700.993        8\n",
      "703.432        9\n",
      "705.871       15\n",
      "708.310        7\n",
      "710.749        8\n",
      "713.188       11\n",
      "715.627        9\n",
      "718.066        8\n",
      "720.505        4\n",
      "722.944        8\n",
      "725.383       10\n",
      "727.822        7\n",
      "730.261        7\n",
      "732.700       10\n",
      "735.139        5\n",
      "737.578       10\n",
      "740.017        3\n",
      "742.456        4\n",
      "744.895       13\n",
      "747.334        7\n",
      "749.773        4\n",
      "752.212        4\n",
      "754.651        7\n",
      "757.090        2\n",
      "759.529        6\n",
      "761.968        3\n",
      "764.407        2\n",
      "766.846        4\n",
      "769.285        3\n",
      "771.724        6\n",
      "774.163        4\n",
      "776.602        7\n",
      "779.041        3\n",
      "781.480        1\n",
      "783.919        3\n",
      "786.358        1\n",
      "788.797        4\n",
      "791.236        1\n",
      "793.675        5\n",
      "796.114        6\n",
      "798.553        2\n",
      "800.992        6\n",
      "803.431        1\n",
      "805.870        7\n",
      "808.309        2\n",
      "810.748        2\n",
      "813.187        6\n",
      "815.626        4\n",
      "820.504        1\n",
      "822.943        6\n",
      "825.382        1\n",
      "827.821        2\n",
      "830.260        2\n",
      "832.699        2\n",
      "835.138        5\n",
      "837.577        1\n",
      "842.455        1\n",
      "844.894        3\n",
      "847.333        4\n",
      "849.772        1\n",
      "852.211        2\n",
      "854.650        1\n",
      "857.089        1\n",
      "859.528        5\n",
      "861.967        3\n",
      "864.406        1\n",
      "866.845        2\n",
      "871.723        5\n",
      "874.162        1\n",
      "876.601        2\n",
      "879.040        1\n",
      "881.479        4\n",
      "886.357        1\n",
      "888.796        1\n",
      "891.235        3\n",
      "893.674        3\n",
      "896.113        1\n",
      "900.991        2\n",
      "905.869        2\n",
      "908.308        1\n",
      "910.747        5\n",
      "913.186        2\n",
      "915.625        1\n",
      "920.503        1\n",
      "922.942        4\n",
      "925.381        1\n",
      "927.820        2\n",
      "930.259        2\n",
      "932.698        1\n",
      "935.137        3\n",
      "937.576        1\n",
      "940.015        3\n",
      "944.893        2\n",
      "947.332        1\n",
      "949.771        2\n",
      "952.210        2\n",
      "954.649        2\n",
      "959.527        2\n",
      "964.405        1\n",
      "971.722        1\n",
      "974.161        1\n",
      "976.600        3\n",
      "979.039        1\n",
      "981.478        1\n",
      "983.917        1\n",
      "988.795        2\n",
      "993.673        1\n",
      "996.112        2\n",
      "1000.990       1\n",
      "1003.429       1\n",
      "1005.868       1\n",
      "1008.307       2\n",
      "1010.746       1\n",
      "1013.185       2\n",
      "1015.624       2\n",
      "1022.941       2\n",
      "1027.819       1\n",
      "1032.697       4\n",
      "1035.136       1\n",
      "1037.575       1\n",
      "1042.453       1\n",
      "1044.892       2\n",
      "1049.770       3\n",
      "1052.209       1\n",
      "1061.965       1\n",
      "1064.404       2\n",
      "1071.721       1\n",
      "1074.160       1\n",
      "1081.477       1\n",
      "1086.355       1\n",
      "1091.233       1\n",
      "1093.672       2\n",
      "1100.989       1\n",
      "1110.745       2\n",
      "1113.184       2\n",
      "1118.062       1\n",
      "1130.257       1\n",
      "1132.696       2\n",
      "1137.574       2\n",
      "1140.013       2\n",
      "1142.452       1\n",
      "1152.208       1\n",
      "1154.647       3\n",
      "1166.842       1\n",
      "1174.159       1\n",
      "1183.915       1\n",
      "1191.232       1\n",
      "1198.549       2\n",
      "1205.866       2\n",
      "1208.305       1\n",
      "1213.183       1\n",
      "1215.622       1\n",
      "1220.500       1\n",
      "1227.817       1\n",
      "1232.695       1\n",
      "1237.573       1\n",
      "1240.012       1\n",
      "1259.524       1\n",
      "1266.841       1\n",
      "1269.280       1\n",
      "1276.597       1\n",
      "1283.914       1\n",
      "1288.792       2\n",
      "1291.231       1\n",
      "1303.426       1\n",
      "1308.304       1\n",
      "1315.621       1\n",
      "1337.572       1\n",
      "1340.011       1\n",
      "1347.328       1\n",
      "1354.645       1\n",
      "1366.840       1\n",
      "1388.791       1\n",
      "1427.815       1\n",
      "1452.205       1\n",
      "1471.717       1\n",
      "1474.156       1\n",
      "1510.741       1\n",
      "1520.497       1\n",
      "1600.984       1\n",
      "1637.569       1\n",
      "1698.544       1\n",
      "1744.885       1\n",
      "2274.148       1\n",
      "2283.904       1\n",
      "2337.562       1\n",
      "2437.561       1\n"
     ]
    }
   ],
   "source": [
    "glucose_frequency_counts_series = generate_histogram_frequency_counts(glucose_values_series, bins=1000)\n",
    "\n",
    "# View frequency counts to see if the long tails are outliers or just very high numbers\n",
    "print(glucose_frequency_counts_series.to_string())"
   ]
  },
  {
   "cell_type": "markdown",
   "metadata": {},
   "source": [
    "The highest recorded blood glucose measurement as of 2001 was 2,656. \n",
    "The long tail observed here is therefore within the range of observed values. \n",
    "\n",
    "Michael Patrick Buonocore (USA) (b. 19 May 2001), survived a blood sugar level of 147.6 mmol/L (2,656 mg/dl) when admitted \n",
    "to the Pocono Emergency Room in East Stroudsburg, Pennsylvania, USA, on 23 March 2008. The normal blood sugar range is \n",
    "between 4.4 to 6.6 mmol/L (80-120 mg/dl).\n",
    "\n",
    "https://www.guinnessworldrecords.com/world-records/highest-blood-sugar-level/?fb_comment_id=811257658947726_974655159274641#:~:text=Michael%20Patrick%20Buonocore%20(USA)%20(,%2D120%20mg%2Fdl)."
   ]
  },
  {
   "cell_type": "markdown",
   "metadata": {},
   "source": [
    "# Lactate "
   ]
  },
  {
   "cell_type": "code",
   "execution_count": 29,
   "metadata": {},
   "outputs": [
    {
     "data": {
      "image/png": "[encoded data removed]",
      "text/plain": [
       "<Figure size 1008x288 with 2 Axes>"
      ]
     },
     "metadata": {
      "needs_background": "light"
     },
     "output_type": "display_data"
    }
   ],
   "source": [
    "# Visualize raw values on normal and log scale\n",
    "lactate_values_series = generate_lab_value_series(lab_events_data_df, 'Lactate')\n",
    "\n",
    "visualize_lab_value_distribution(lactate_values_series) "
   ]
  },
  {
   "cell_type": "markdown",
   "metadata": {},
   "source": [
    "### Lactate appears to follow a log-normal distribution"
   ]
  },
  {
   "cell_type": "markdown",
   "metadata": {},
   "source": [
    "# Oxygen Saturation"
   ]
  },
  {
   "cell_type": "code",
   "execution_count": 30,
   "metadata": {},
   "outputs": [
    {
     "data": {
      "text/plain": [
       "['pH',\n",
       " 'Hematocrit',\n",
       " 'White Blood Cells',\n",
       " 'Creatinine',\n",
       " 'Glucose',\n",
       " 'Lactate',\n",
       " 'Oxygen Saturation',\n",
       " 'Lactate Dehydrogenase (LD)',\n",
       " 'Creatinine, Urine']"
      ]
     },
     "execution_count": 30,
     "metadata": {},
     "output_type": "execute_result"
    }
   ],
   "source": [
    "lab_measurement_types"
   ]
  },
  {
   "cell_type": "code",
   "execution_count": 31,
   "metadata": {},
   "outputs": [
    {
     "data": {
      "image/png": "[encoded data removed]",
      "text/plain": [
       "<Figure size 1008x288 with 2 Axes>"
      ]
     },
     "metadata": {
      "needs_background": "light"
     },
     "output_type": "display_data"
    }
   ],
   "source": [
    "# Visualize raw values on normal and log scale\n",
    "oxygen_values_series = generate_lab_value_series(lab_events_data_df, 'Oxygen Saturation')\n",
    "\n",
    "visualize_lab_value_distribution(oxygen_values_series) "
   ]
  },
  {
   "cell_type": "code",
   "execution_count": 32,
   "metadata": {},
   "outputs": [],
   "source": [
    "### Oxygen Saturation is a percent value and can't be above 100"
   ]
  },
  {
   "cell_type": "code",
   "execution_count": 33,
   "metadata": {},
   "outputs": [
    {
     "data": {
      "image/png": "[encoded data removed]",
      "text/plain": [
       "<Figure size 1008x288 with 2 Axes>"
      ]
     },
     "metadata": {
      "needs_background": "light"
     },
     "output_type": "display_data"
    }
   ],
   "source": [
    "# Visualize raw values on a predefined scale\n",
    "oxygen_values_series = oxygen_values_series[oxygen_values_series<=100]\n",
    "visualize_lab_value_distribution(oxygen_values_series) "
   ]
  },
  {
   "cell_type": "markdown",
   "metadata": {},
   "source": [
    "### Glucose appears to follow a non-normal distribution"
   ]
  },
  {
   "cell_type": "code",
   "execution_count": 34,
   "metadata": {},
   "outputs": [
    {
     "name": "stdout",
     "output_type": "stream",
     "text": [
      "0.900         8\n",
      "2.882         1\n",
      "3.873         1\n",
      "4.864         1\n",
      "5.855         1\n",
      "7.837         1\n",
      "8.828         3\n",
      "10.810        1\n",
      "12.792        1\n",
      "14.774        3\n",
      "16.756        3\n",
      "17.747        1\n",
      "18.738        4\n",
      "19.729        4\n",
      "20.720        2\n",
      "21.711        5\n",
      "22.702        5\n",
      "23.693        3\n",
      "24.684        7\n",
      "25.675        5\n",
      "26.666       12\n",
      "27.657       11\n",
      "28.648        5\n",
      "29.639       11\n",
      "30.630       11\n",
      "31.621       20\n",
      "32.612       16\n",
      "33.603       24\n",
      "34.594       15\n",
      "35.585       18\n",
      "36.576       20\n",
      "37.567       20\n",
      "38.558       37\n",
      "39.549       40\n",
      "40.540       33\n",
      "41.531       36\n",
      "42.522       60\n",
      "43.513       73\n",
      "44.504       76\n",
      "45.495       66\n",
      "46.486       78\n",
      "47.477      114\n",
      "48.468      119\n",
      "49.459      130\n",
      "50.450      158\n",
      "51.441      190\n",
      "52.432      220\n",
      "53.423      240\n",
      "54.414      255\n",
      "55.405      348\n",
      "56.396      340\n",
      "57.387      425\n",
      "58.378      430\n",
      "59.369      478\n",
      "60.360      499\n",
      "61.351      517\n",
      "62.342      589\n",
      "63.333      661\n",
      "64.324      637\n",
      "65.315      686\n",
      "66.306      713\n",
      "67.297      674\n",
      "68.288      650\n",
      "69.279      668\n",
      "70.270      614\n",
      "71.261      681\n",
      "72.252      540\n",
      "73.243      621\n",
      "74.234      556\n",
      "75.225      533\n",
      "76.216      503\n",
      "77.207      484\n",
      "78.198      416\n",
      "79.189      435\n",
      "80.180      389\n",
      "81.171      386\n",
      "82.162      349\n",
      "83.153      352\n",
      "84.144      293\n",
      "85.135      336\n",
      "86.126      336\n",
      "87.117      340\n",
      "88.108      379\n",
      "89.099      487\n",
      "90.090      594\n",
      "91.081      896\n",
      "92.072     1161\n",
      "93.063     1918\n",
      "94.054     2772\n",
      "95.045     4824\n",
      "96.036     8795\n",
      "97.027    15515\n",
      "98.018     5681\n",
      "99.009      214\n"
     ]
    }
   ],
   "source": [
    "oxygen_frequency_counts_series = generate_histogram_frequency_counts(oxygen_values_series, bins=100)\n",
    "\n",
    "# View frequency counts to see if the long tails are outliers or just very high numbers\n",
    "print(oxygen_frequency_counts_series.to_string())"
   ]
  },
  {
   "cell_type": "markdown",
   "metadata": {},
   "source": [
    "### Lactate Dehydrogenase (LD)"
   ]
  },
  {
   "cell_type": "code",
   "execution_count": 35,
   "metadata": {},
   "outputs": [
    {
     "data": {
      "text/plain": [
       "['pH',\n",
       " 'Hematocrit',\n",
       " 'White Blood Cells',\n",
       " 'Creatinine',\n",
       " 'Glucose',\n",
       " 'Lactate',\n",
       " 'Oxygen Saturation',\n",
       " 'Lactate Dehydrogenase (LD)',\n",
       " 'Creatinine, Urine']"
      ]
     },
     "execution_count": 35,
     "metadata": {},
     "output_type": "execute_result"
    }
   ],
   "source": [
    "lab_measurement_types"
   ]
  },
  {
   "cell_type": "code",
   "execution_count": 36,
   "metadata": {},
   "outputs": [
    {
     "data": {
      "image/png": "[encoded data removed]",
      "text/plain": [
       "<Figure size 1008x288 with 2 Axes>"
      ]
     },
     "metadata": {
      "needs_background": "light"
     },
     "output_type": "display_data"
    }
   ],
   "source": [
    "# Visualize raw values on normal and log scale\n",
    "ld_values_series = generate_lab_value_series(lab_events_data_df, 'Lactate Dehydrogenase (LD)')\n",
    "\n",
    "visualize_lab_value_distribution(ld_values_series) "
   ]
  },
  {
   "cell_type": "code",
   "execution_count": 37,
   "metadata": {},
   "outputs": [
    {
     "data": {
      "image/png": "[encoded data removed]",
      "text/plain": [
       "<Figure size 1008x288 with 2 Axes>"
      ]
     },
     "metadata": {
      "needs_background": "light"
     },
     "output_type": "display_data"
    }
   ],
   "source": [
    "# Visualize raw values on normal and log scale\n",
    "ld_values_series = generate_lab_value_series(aggregate_lab_values_for_visualization_df, 'Lactate Dehydrogenase (LD)')\n",
    "\n",
    "visualize_lab_value_distribution(ld_values_series, [0,6000], bins=10000) "
   ]
  },
  {
   "cell_type": "markdown",
   "metadata": {},
   "source": [
    "### Lactate Dehydrogenase appears to follow a Log-Normal distribution"
   ]
  },
  {
   "cell_type": "code",
   "execution_count": 38,
   "metadata": {},
   "outputs": [
    {
     "name": "stdout",
     "output_type": "stream",
     "text": [
      "35.00       16984\n",
      "760.52       1133\n",
      "1486.04       374\n",
      "2211.56       199\n",
      "2937.08       107\n",
      "3662.60        91\n",
      "4388.12        72\n",
      "5113.64        44\n",
      "5839.16        34\n",
      "6564.68        39\n",
      "7290.20        36\n",
      "8015.72        30\n",
      "8741.24        24\n",
      "9466.76        16\n",
      "10192.28       10\n",
      "10917.80       10\n",
      "11643.32        8\n",
      "12368.84        6\n",
      "13094.36        4\n",
      "13819.88        6\n",
      "14545.40        5\n",
      "15270.92        1\n",
      "15996.44        3\n",
      "16721.96        4\n",
      "18173.00        1\n",
      "19624.04        2\n",
      "20349.56        2\n",
      "21800.60        1\n",
      "22526.12        3\n",
      "23977.16        3\n",
      "26153.72        2\n",
      "32683.40        1\n",
      "39938.60        1\n",
      "42115.16        1\n",
      "50821.40        1\n",
      "71861.48        1\n"
     ]
    }
   ],
   "source": [
    "ld_frequency_counts_series = generate_histogram_frequency_counts(ld_values_series, bins=100)\n",
    "\n",
    "# View frequency counts to see if the long tails are outliers or just very high numbers\n",
    "print(ld_frequency_counts_series.to_string())"
   ]
  },
  {
   "cell_type": "markdown",
   "metadata": {},
   "source": [
    "# Creatinine, Urine"
   ]
  },
  {
   "cell_type": "code",
   "execution_count": 39,
   "metadata": {},
   "outputs": [
    {
     "data": {
      "image/png": "[encoded data removed]",
      "text/plain": [
       "<Figure size 1008x288 with 2 Axes>"
      ]
     },
     "metadata": {
      "needs_background": "light"
     },
     "output_type": "display_data"
    }
   ],
   "source": [
    "# Visualize raw values on normal and log scale\n",
    "urine_creatinine_values_series = generate_lab_value_series(lab_events_data_df, 'Creatinine, Urine')\n",
    "\n",
    "visualize_lab_value_distribution(urine_creatinine_values_series, bins=1000) "
   ]
  },
  {
   "cell_type": "markdown",
   "metadata": {},
   "source": [
    "### Urine Creatinine appears to follow a right-skewed normal distribution"
   ]
  },
  {
   "cell_type": "code",
   "execution_count": 40,
   "metadata": {},
   "outputs": [
    {
     "name": "stdout",
     "output_type": "stream",
     "text": [
      "0.00       65\n",
      "6.32      162\n",
      "12.64     228\n",
      "18.96     361\n",
      "25.28     287\n",
      "31.60     335\n",
      "37.92     394\n",
      "44.24     369\n",
      "50.56     400\n",
      "56.88     392\n",
      "63.20     326\n",
      "69.52     311\n",
      "75.84     317\n",
      "82.16     307\n",
      "88.48     252\n",
      "94.80     294\n",
      "101.12    243\n",
      "107.44    205\n",
      "113.76    213\n",
      "120.08    166\n",
      "126.40    184\n",
      "132.72    161\n",
      "139.04    142\n",
      "145.36    124\n",
      "151.68    117\n",
      "158.00    121\n",
      "164.32     94\n",
      "170.64     71\n",
      "176.96     99\n",
      "183.28     57\n",
      "189.60     59\n",
      "195.92     64\n",
      "202.24     53\n",
      "208.56     39\n",
      "214.88     45\n",
      "221.20     36\n",
      "227.52     21\n",
      "233.84     34\n",
      "240.16     19\n",
      "246.48      8\n",
      "252.80     10\n",
      "259.12     16\n",
      "265.44     13\n",
      "271.76     16\n",
      "278.08     21\n",
      "284.40     15\n",
      "290.72     12\n",
      "297.04      9\n",
      "303.36      6\n",
      "309.68     13\n",
      "316.00      6\n",
      "322.32      6\n",
      "328.64      6\n",
      "334.96      6\n",
      "341.28      7\n",
      "347.60      3\n",
      "353.92     10\n",
      "360.24      3\n",
      "366.56      5\n",
      "385.52      4\n",
      "391.84      2\n",
      "398.16      1\n",
      "404.48      2\n",
      "410.80      5\n",
      "417.12      2\n",
      "423.44      1\n",
      "429.76      1\n",
      "436.08      1\n",
      "442.40      6\n",
      "448.72      1\n",
      "455.04      1\n",
      "474.00      2\n",
      "480.32      1\n",
      "486.64      1\n",
      "492.96      1\n",
      "499.28      1\n",
      "524.56      1\n",
      "537.20      1\n",
      "625.68      1\n"
     ]
    }
   ],
   "source": [
    "urine_creatinine_frequency_counts_series = generate_histogram_frequency_counts(urine_creatinine_values_series, bins=100)\n",
    "\n",
    "# View frequency counts to see if the long tails are outliers or just very high numbers\n",
    "print(urine_creatinine_frequency_counts_series.to_string())"
   ]
  },
  {
   "cell_type": "code",
   "execution_count": null,
   "metadata": {},
   "outputs": [],
   "source": []
  },
  {
   "cell_type": "code",
   "execution_count": null,
   "metadata": {},
   "outputs": [],
   "source": []
  },
  {
   "cell_type": "code",
   "execution_count": null,
   "metadata": {},
   "outputs": [],
   "source": []
  },
  {
   "cell_type": "code",
   "execution_count": 41,
   "metadata": {},
   "outputs": [
    {
     "ename": "NameError",
     "evalue": "name 'aggregate_lab_values_for_visualization' is not defined",
     "output_type": "error",
     "traceback": [
      "\u001b[0;31m---------------------------------------------------------------------------\u001b[0m",
      "\u001b[0;31mNameError\u001b[0m                                 Traceback (most recent call last)",
      "\u001b[0;32m<ipython-input-41-5c4998f24844>\u001b[0m in \u001b[0;36m<module>\u001b[0;34m\u001b[0m\n\u001b[0;32m----> 1\u001b[0;31m aggregate_lab_values_for_visualization[\n\u001b[0m\u001b[1;32m      2\u001b[0m     \u001b[0maggregate_lab_values_for_visualization\u001b[0m\u001b[0;34m[\u001b[0m\u001b[0mlab_label\u001b[0m\u001b[0;34m]\u001b[0m\u001b[0;34m==\u001b[0m \u001b[0;34m'Glucose'\u001b[0m\u001b[0;34m\u001b[0m\u001b[0;34m\u001b[0m\u001b[0m\n\u001b[1;32m      3\u001b[0m \u001b[0;34m\u001b[0m\u001b[0m\n\u001b[1;32m      4\u001b[0m ][lab_valuenum].describe()\n",
      "\u001b[0;31mNameError\u001b[0m: name 'aggregate_lab_values_for_visualization' is not defined"
     ]
    }
   ],
   "source": [
    "aggregate_lab_values_for_visualization[\n",
    "    aggregate_lab_values_for_visualization[lab_label]== 'Glucose'\n",
    "    \n",
    "][lab_valuenum].describe()\n"
   ]
  },
  {
   "cell_type": "code",
   "execution_count": null,
   "metadata": {},
   "outputs": [],
   "source": [
    "aggregate_lab_values_for_visualization[\n",
    "    (aggregate_lab_values_for_visualization[lab_label]== 'Glucose') #&\n",
    "#      (aggregate_lab_values_for_visualization[lab_value]>1000)\n",
    "    \n",
    "][lab_value].plot.hist(bins=100)\n"
   ]
  },
  {
   "cell_type": "code",
   "execution_count": null,
   "metadata": {},
   "outputs": [],
   "source": [
    "aggregate_lab_values_for_visualization[\n",
    "    (aggregate_lab_values_for_visualization[lab_label]== 'Glucose')&\n",
    "    (aggregate_lab_values_for_visualization[lab_value]>1000)\n",
    "    \n",
    "][lab_value].describe()\n"
   ]
  },
  {
   "cell_type": "markdown",
   "metadata": {},
   "source": [
    "### DEBUG STOP"
   ]
  },
  {
   "cell_type": "markdown",
   "metadata": {},
   "source": [
    "## Reorganizing the data\n",
    "The imported data uses subject_id as the index. The following code moves the subject_id data to a column, creates\n",
    "a proper index and reorganizes the columns to have the lab results grouped together. "
   ]
  },
  {
   "cell_type": "code",
   "execution_count": null,
   "metadata": {
    "collapsed": false,
    "jupyter": {
     "outputs_hidden": false
    }
   },
   "outputs": [],
   "source": [
    "# print(\"loading lab data\")\n",
    "# lab_events_data_df['subject_id'] = lab_events_data_df.index\n",
    "# lab_events_data_df.set_index(np.arange(lab_events_data_df.shape[0]), inplace = True)\n",
    "# cols = list(lab_events_data_df.columns)\n",
    "# cols.insert(0, cols.pop(cols.index('icustay_id')))\n",
    "# cols.insert(1, cols.pop(cols.index('subject_id')))\n",
    "# lab_events_data_df = lab_events_data_df[cols]\n",
    "# print(\"complete\")"
   ]
  },
  {
   "cell_type": "code",
   "execution_count": null,
   "metadata": {
    "collapsed": false,
    "jupyter": {
     "outputs_hidden": false
    }
   },
   "outputs": [],
   "source": [
    "unique_icu_stay_count = lab_events_data_df.drop_duplicates('icustay_id', keep = 'first').shape[0]\n",
    "unique_patients_count = lab_events_data_df.drop_duplicates('subject_id', keep = 'first').shape[0]\n",
    "\n",
    "print(\"The number of unique ICU stays = {}\".format(unique_icu_stay_count))\n",
    "print(\"The number of unique patients  = {}\\n\".format(unique_patients_count))\n",
    "\n",
    "# display the different measurements captured in the database query\n",
    "labels = lab_events_data_df.label.unique()\n",
    "print(\"Lab measurements inlcude/n\")\n",
    "print(labels)\n",
    "# display(lab_events_data_df.shape)\n",
    "print(\"Example lab values for Lactate:\")\n",
    "display(lab_events_data_df[(lab_events_data_df.label=='Lactate') & (~(lab_events_data_df.valuenum.isnull()))].head())\n",
    "\n"
   ]
  },
  {
   "cell_type": "markdown",
   "metadata": {},
   "source": [
    "## Assessing Feature Prevalence\n"
   ]
  },
  {
   "cell_type": "markdown",
   "metadata": {},
   "source": [
    "# DEBUG START "
   ]
  },
  {
   "cell_type": "code",
   "execution_count": null,
   "metadata": {},
   "outputs": [],
   "source": [
    "test_merged_pivot_df.head()"
   ]
  },
  {
   "cell_type": "code",
   "execution_count": null,
   "metadata": {},
   "outputs": [],
   "source": [
    "test_merged_pivot_df[~test_merged_pivot_df['Hematocrit'].isna()][['icustay_id','Hematocrit']].groupby('icustay_id').first()\n"
   ]
  },
  {
   "cell_type": "code",
   "execution_count": null,
   "metadata": {},
   "outputs": [],
   "source": []
  },
  {
   "cell_type": "markdown",
   "metadata": {},
   "source": [
    "# DEBUG STOP"
   ]
  },
  {
   "cell_type": "code",
   "execution_count": null,
   "metadata": {
    "collapsed": false,
    "jupyter": {
     "outputs_hidden": false
    }
   },
   "outputs": [],
   "source": [
    "# REMOVE VARIABLES FOR WHICH THERE IS LITTLE DATA / FEW ICUSTAYS FOR WHICH DATA WAS RECORDED\n",
    "labels2 = []\n",
    "\n",
    "for item in labels:\n",
    "    lab_count = lab_events_data_df['icustay_id'][lab_events_data_df['label'] == item].dropna().unique().shape[0]\n",
    "    #num_measures = data[data.label == item][['icustay_id', 'label']].dropna().groupby('icustay_id').count()\n",
    "    print(\"{}    {}\".format(item, lab_count)) #, num_measures)\n",
    "    if lab_count > 6000:\n",
    "        print(\"adding {}\".format(item))\n",
    "        labels2.append(item)\n",
    "labels2.sort(key=str.lower)\n",
    "labels2"
   ]
  },
  {
   "cell_type": "markdown",
   "metadata": {},
   "source": [
    "## CALCULATE NUMBER OF SAMPLES FOR EACH FEATURE"
   ]
  },
  {
   "cell_type": "code",
   "execution_count": null,
   "metadata": {},
   "outputs": [],
   "source": [
    "labels2[0]"
   ]
  },
  {
   "cell_type": "code",
   "execution_count": null,
   "metadata": {},
   "outputs": [],
   "source": [
    "# calculating the number of samples taken in 24 hours for each measurement\n",
    "item = labels2[0]\n",
    "\n",
    "lab_counts_df =  lab_events_data_df[lab_events_data_df['label'] == item][['icustay_id', 'label']].dropna().groupby('icustay_id').count()\n",
    "   \n",
    "for item in labels2[1:]:\n",
    "    #num_samps = data['icustay_id'][data.label == item].dropna().unique().shape[0]\n",
    "    groupby_counts = lab_events_data_df[lab_events_data_df['label'] == item][['icustay_id', 'label']].dropna().groupby('icustay_id').count()\n",
    "    groupby_counts.columns = [item]\n",
    "    lab_counts_df = lab_counts_df.merge(groupby_counts,left_index = True, right_index = True, how = 'left', sort = True) \n",
    "    #print \"{}    {}\".format(item, num_measures) #, num_measures)\n",
    "\n",
    "#num_samps_df.drop('label', axis=1, inplace = True)\n",
    "lab_counts_df.dropna().head(20)"
   ]
  },
  {
   "cell_type": "markdown",
   "metadata": {},
   "source": [
    "## GENERATE COLORMAPS SHOWING PATTERNS OF MISSING DATA "
   ]
  },
  {
   "cell_type": "code",
   "execution_count": null,
   "metadata": {
    "collapsed": false,
    "jupyter": {
     "outputs_hidden": false
    }
   },
   "outputs": [],
   "source": [
    "# DISPLAY COLORMAP OF MISSING SAMPLES FOR EACH VARIABLE\n",
    "# REFERRING TO THIS AS AN AFFINITY MAP, SHOWING WHICH DATA WAS COLLECTED MOST OFTEN TOGETHER. \n",
    "# ASSIGNING NaN A POSITIVE VALUE MAKES MISSING DATA APPEAR BRIGHT YELLOW\n",
    "\n",
    "lab_count_map_df = lab_counts_df.copy()\n",
    "lab_count_map_df.drop(['label'], axis=1, inplace=True)\n",
    "for col in lab_count_map_df.columns:\n",
    "        lab_count_map_df[col] = lab_count_map_df[col].apply(lambda x: 1 if pd.isnull(x) else 0)\n",
    "        \n",
    "\n",
    "# lab_count_map_df = lab_count_map_df.sort_values(by ='Oxygen Saturation', axis = 0, ascending = True)\n",
    "plt.rc('font', size=15)   \n",
    "plt.figure(figsize= (25,15))\n",
    "plt.pcolor(lab_count_map_df)\n",
    "#ax.set_ylim([0.0,missing.shape[0]])\n",
    "\n",
    "\n",
    "plt.xticks(np.arange(0.5, len(lab_count_map_df.columns), 1), lab_count_map_df.columns)\n",
    "plt.xticks(rotation = 30, ha = 'right')\n",
    "\n",
    "plt.show()\n",
    "plt.close()"
   ]
  },
  {
   "cell_type": "code",
   "execution_count": null,
   "metadata": {},
   "outputs": [],
   "source": [
    "lab_events_data_df"
   ]
  },
  {
   "cell_type": "markdown",
   "metadata": {},
   "source": [
    "## Feature Engineering\n",
    "Calculating values from original data including mean, std, delta etc. \n"
   ]
  },
  {
   "cell_type": "code",
   "execution_count": null,
   "metadata": {
    "collapsed": false,
    "jupyter": {
     "outputs_hidden": false
    }
   },
   "outputs": [],
   "source": [
    "labels2"
   ]
  },
  {
   "cell_type": "code",
   "execution_count": null,
   "metadata": {
    "collapsed": false,
    "jupyter": {
     "outputs_hidden": false
    }
   },
   "outputs": [],
   "source": [
    "# height and weight are left out from the calculated measures because there was only one\n",
    "# measurement so they are constant.\n",
    "\n",
    "# creates dicts of new feature names with the lab label as entries\n",
    "# this will help in traversing columns and calculating new features\n",
    "\n",
    "# labels2 were sorted alphabetically so we order this list accordingly before zipping\n",
    "dict_names = ['Creat','CreatUrine', 'Gluc', 'Hemat', 'Lac', 'LacDehyd', 'O2sat', 'pH', 'WBC']\n",
    "\n",
    "first_dict_names = dict(zip([item + '_first' for item in dict_names], labels2))\n",
    "mean_dict_names = dict(zip([item + '_mean' for item in dict_names], labels2))\n",
    "med_dict_names = dict(zip([item + '_med' for item in dict_names], labels2))\n",
    "std_dict_names = dict(zip([item + '_std' for item in dict_names], labels2))\n",
    "skew_dict_names = dict(zip([item + '_skew' for item in dict_names], labels2))\n",
    "min_dict_names = dict(zip([item + '_min' for item in dict_names], labels2))\n",
    "max_dict_names = dict(zip([item + '_max' for item in dict_names], labels2))\n",
    "slope_dict_names = dict(zip([item + '_slope' for item in dict_names], labels2))\n",
    "delta_dict_names = dict(zip([item + '_delta' for item in dict_names], labels2))\n",
    "abnflag_dict_names = dict(zip([item + '_abnflag' for item in dict_names], labels2))"
   ]
  },
  {
   "cell_type": "code",
   "execution_count": null,
   "metadata": {},
   "outputs": [],
   "source": [
    "first_dict_names"
   ]
  },
  {
   "cell_type": "code",
   "execution_count": null,
   "metadata": {
    "collapsed": false,
    "jupyter": {
     "outputs_hidden": false
    }
   },
   "outputs": [],
   "source": [
    "# creates list of name_dicts\n",
    "names_list = [first_dict_names, mean_dict_names, med_dict_names, std_dict_names, skew_dict_names, \n",
    "              min_dict_names, max_dict_names, slope_dict_names, delta_dict_names, abnflag_dict_names ]\n",
    "# create list of zipping into dictionary the measurement type and \n",
    "# corresponding names dict \n",
    "calc_list = ['first', 'mean', 'med', 'std', 'skew', 'min', 'max', 'slope', 'delta', 'abnflag']\n",
    "\n",
    "# create dictionary where the key is the feature type (calculation\n",
    "# and the value is the appropriate names dicts\n",
    "names_dict = dict(zip(calc_list, names_list))\n",
    "\n",
    "\n",
    "# CREATE DICTIONARIES IN WHICH TO STORE CALCULATED VALUES\n",
    "first_dict = {}\n",
    "mean_dict = {}\n",
    "med_dict = {}\n",
    "std_dict = {}\n",
    "skew_dict = {}\n",
    "kurt_dict = {}\n",
    "min_dict = {}\n",
    "max_dict = {}\n",
    "slope_dict = {}\n",
    "delta_dict = {}\n",
    "abnflag_dict = {}\n",
    "dict_list = [first_dict, mean_dict, med_dict, std_dict, skew_dict, min_dict, max_dict, slope_dict, delta_dict,\n",
    "            abnflag_dict]\n",
    "calc_dict = dict(zip(calc_list, dict_list))"
   ]
  },
  {
   "cell_type": "code",
   "execution_count": null,
   "metadata": {},
   "outputs": [],
   "source": [
    "calc_dict"
   ]
  },
  {
   "cell_type": "code",
   "execution_count": null,
   "metadata": {
    "collapsed": false,
    "jupyter": {
     "outputs_hidden": false
    }
   },
   "outputs": [],
   "source": [
    "# iterating through the lab measurements for each ICU stay, calculating means, medians, std, skewness min and max\n",
    "# lab measurements within an ICU stay with too few measurements to calculate feature will be assigned NaN values\n",
    "\n",
    "print(\"Creating data frames for each summary statistic for each time course variable\")\n",
    "for calc_key in calc_dict.keys():\n",
    "    for col_key in names_dict[calc_key].keys(): \n",
    "        if calc_key == 'mean':\n",
    "            calc_dict[calc_key][col_key] = pd.DataFrame(lab_events_data_df[lab_events_data_df.label == names_dict[calc_key][col_key]].groupby('icustay_id')['valuenum'].mean())\n",
    "        elif calc_key == 'med':\n",
    "            calc_dict[calc_key][col_key] = pd.DataFrame(lab_events_data_df[lab_events_data_df.label == names_dict[calc_key][col_key]].groupby('icustay_id')['valuenum'].median())\n",
    "        elif calc_key == 'std':\n",
    "            calc_dict[calc_key][col_key] = pd.DataFrame(lab_events_data_df[lab_events_data_df.label == names_dict[calc_key][col_key]].groupby('icustay_id')['valuenum'].std())\n",
    "        elif calc_key == 'max':\n",
    "            calc_dict[calc_key][col_key] = pd.DataFrame(lab_events_data_df[lab_events_data_df.label == names_dict[calc_key][col_key]].groupby('icustay_id')['valuenum'].max())\n",
    "        elif calc_key == 'min':\n",
    "            calc_dict[calc_key][col_key] = pd.DataFrame(lab_events_data_df[lab_events_data_df.label == names_dict[calc_key][col_key]].groupby('icustay_id')['valuenum'].min())\n",
    "        elif calc_key == 'first': \n",
    "            calc_dict[calc_key][col_key] = pd.DataFrame(lab_events_data_df[lab_events_data_df.label == names_dict[calc_key][col_key]].groupby('icustay_id')['valuenum'].first())\n",
    "        elif calc_key == 'skew':\n",
    "            calc_dict[calc_key][col_key] = pd.DataFrame(lab_events_data_df[lab_events_data_df.label == names_dict[calc_key][col_key]].groupby('icustay_id')['valuenum'].skew())\n",
    "        elif calc_key == 'delta': \n",
    "            calc_dict[calc_key][col_key] = pd.DataFrame(lab_events_data_df[lab_events_data_df.label == names_dict[calc_key][col_key]].groupby('icustay_id')['valuenum'].last() -\n",
    "                                                        lab_events_data_df[lab_events_data_df.label == names_dict[calc_key][col_key]].groupby('icustay_id')['valuenum'].first())\n",
    "        elif calc_key == 'abnflag':\n",
    "            calc_dict[calc_key][col_key] = pd.DataFrame(lab_events_data_df[lab_events_data_df.label == names_dict[calc_key][col_key]].groupby('icustay_id')['flag'].apply(lambda x: int(1) if 'abnormal' in x.values else int(0)))\n",
    "              \n",
    "        elif calc_key == 'slope':\n",
    "            time_last = lab_events_data_df[lab_events_data_df.label == names_dict[calc_key][col_key]].groupby('icustay_id')['charttime'].last()\n",
    "            time_first = lab_events_data_df[lab_events_data_df.label == names_dict[calc_key][col_key]].groupby('icustay_id')['charttime'].first()\n",
    "            val_last = lab_events_data_df[lab_events_data_df.label == names_dict[calc_key][col_key]].groupby('icustay_id')['valuenum'].last()\n",
    "            val_first = lab_events_data_df[lab_events_data_df.label == names_dict[calc_key][col_key]].groupby('icustay_id')['valuenum'].first()\n",
    "            calc_dict[calc_key][col_key] = pd.DataFrame((val_last - val_first)/((time_last - time_first)/np.timedelta64(1,'h')))           \n",
    "        \n",
    "            \n",
    "        else: \n",
    "            print(\"need to add code for calculating {}\".format(calc_key))\n",
    "            break\n",
    "            \n",
    "        calc_dict[calc_key][col_key].replace([np.inf, -np.inf], np.nan, inplace = True)\n",
    "        calc_dict[calc_key][col_key].columns = [col_key]\n",
    "        calc_dict[calc_key][col_key]['hospital_expire_flag'] = lab_events_data_df.groupby('icustay_id').hospital_expire_flag.first()\n",
    "        calc_dict[calc_key][col_key]['gender'] = lab_events_data_df.groupby('icustay_id').gender.first()\n",
    "\n",
    "print(\"complete\")"
   ]
  },
  {
   "cell_type": "markdown",
   "metadata": {},
   "source": [
    "## PLOTTING DATA"
   ]
  },
  {
   "cell_type": "code",
   "execution_count": null,
   "metadata": {
    "collapsed": false,
    "jupyter": {
     "outputs_hidden": false
    }
   },
   "outputs": [],
   "source": [
    "# PLOTTING DATA FOR EXAMPLE FRAME\n",
    "#mean_dict[mean_dict.keys()[0]].head()\n",
    "dummy = calc_dict['mean']\n",
    "\n",
    "for col in dummy.keys():\n",
    "    \n",
    "    col2 = dummy[col].columns[0]\n",
    "    \n",
    "    \n",
    "    gender = ['M', 'F'] \n",
    "    \n",
    "    for gend in gender:\n",
    "        \n",
    "        #print gend\n",
    "        dead = dummy[col][(dummy[col].hospital_expire_flag == 1)&\n",
    "                              (dummy[col].gender == gend)]\n",
    "                          #&(const_dict[col][col2] >20)]\n",
    "        dead.name = 'Non_Survivors'\n",
    "        live = dummy[col][(dummy[col].hospital_expire_flag == 0)&\n",
    "                              (dummy[col].gender == gend)]\n",
    "                          #&(const_dict[col][col2] >20)]\n",
    "        live.name = 'Survivors'\n",
    "    \n",
    "    \n",
    "    \n",
    "    \n",
    "    \n",
    "    #dummy = mean_dict[key][mean_dict[key].gender == 'F']\n",
    "    #dummy = skew_dict[key].merge(pd.DataFrame(ptnt_demog['hospital_expire_flag']), \n",
    "    #                                   left_index = True, right_index = True, how='left', sort = True)\n",
    "    \n",
    "        maxx = 0.99\n",
    "        minn = 0.01\n",
    "    \n",
    "        live_max = live[col2].dropna().max()#quantile(0.999)\n",
    "        live_min = live[col2].dropna().min()#quantile(0.001)\n",
    "        dead_max = dead[col2].dropna().max()#quantile(0.999)\n",
    "        dead_min = dead[col2].dropna().min()#quantile(0.001)\n",
    "        maxlim = max(live_max, dead_max)\n",
    "        minlim = min(live_min, dead_min)\n",
    "   \n",
    "        \n",
    "        plt.subplots(figsize=(10,4))\n",
    "        live[(live[col2] < live_max) & (live[col2] > live_min)][col2].plot.kde(\n",
    "                                                                            alpha=1.0,label='Survival')\n",
    "    \n",
    "        dead[(dead[col2] < dead_max) & (dead[col2] > dead_min)][col2].plot.kde(\n",
    "                                                                            alpha=1.0,label='Non-Survivors')\n",
    "        # add title, labels etc.\n",
    "        plt.title('{} measurement on ICU admission'.format(col) + \n",
    "                   'vs ICU mortality by gender = {}\\n'.format(gend))\n",
    "        plt.xlabel(col)\n",
    "        plt.legend(loc=\"upper left\", bbox_to_anchor=(.75,.75),fontsize=12)\n",
    "   \n",
    "    \n",
    "        #print \"{}    {}\".format(maxlim, minlim)\n",
    "        plt.xlim(minlim, maxlim)"
   ]
  },
  {
   "cell_type": "markdown",
   "metadata": {},
   "source": [
    "## REMOVE OUTLIER DATA POINTS "
   ]
  },
  {
   "cell_type": "code",
   "execution_count": null,
   "metadata": {},
   "outputs": [],
   "source": [
    "# \n",
    "\n",
    "names_dict = {}\n",
    "suffix = '_outliers'\n",
    "\n",
    "# SETTING OUTLIER DATA POINTS TO NAN FOR REMOVAL USING DROPNA()\n",
    "for calc in calc_dict.keys():\n",
    "    frame = calc_dict[calc]\n",
    "    for col in frame.keys():\n",
    "    # plot\n",
    "    # print col\n",
    "        dummy = frame[col]\n",
    "        col2 = dummy.columns[0]\n",
    "        #print \"{}   {}     {}\".format(col, col2, dummy.dropna().shape)\n",
    "        Q1 = np.percentile(dummy[col2].dropna(), 25)\n",
    "        # TODO: Calculate Q3 (75th percentile of the data) for the given feature\n",
    "        Q3 = np.percentile(dummy[col2].dropna(), 75)\n",
    "        # TODO: Use the interquartile range to calculate an outlier step (1.5 times the interquartile range)\n",
    "        step = 1.5*(Q3 - Q1)\n",
    "        names_dict[col+suffix] = dummy[~((dummy[col2] >= Q1 - step) & (dummy[col2] <= Q3 + step))].index\n",
    "#         dummy.set_value(names_dict[col+suffix], col2, np.NaN)\n",
    "#         dummy.set_value(names_dict[col+suffix], col2, np.NaN)\n",
    "        dummy.loc[names_dict[col+suffix], col2] = np.NaN\n",
    "        #print \"{}   {}     {}\".format(col, col2, dummy.dropna().shape)\n",
    "\n",
    "\n"
   ]
  },
  {
   "cell_type": "code",
   "execution_count": null,
   "metadata": {},
   "outputs": [],
   "source": [
    "names_dict[col+suffix]"
   ]
  },
  {
   "cell_type": "code",
   "execution_count": null,
   "metadata": {},
   "outputs": [],
   "source": [
    "dummy"
   ]
  },
  {
   "cell_type": "markdown",
   "metadata": {},
   "source": [
    "## PLOT DATA WITH OUTLIERS REMOVED"
   ]
  },
  {
   "cell_type": "code",
   "execution_count": null,
   "metadata": {
    "collapsed": false,
    "jupyter": {
     "outputs_hidden": false
    }
   },
   "outputs": [],
   "source": [
    "# PLOTTING DATA FOR EXAMPLE FRAME\n",
    "#mean_dict[mean_dict.keys()[0]].head()\n",
    "dummy = calc_dict['min']\n",
    "\n",
    "for col in dummy.keys():\n",
    "    \n",
    "    col2 = dummy[col].columns[0]\n",
    "    \n",
    "    \n",
    "    gender = ['M', 'F'] \n",
    "    \n",
    "    for gend in gender:\n",
    "        \n",
    "        #print gend\n",
    "        dead = dummy[col][(dummy[col].hospital_expire_flag == 1)&\n",
    "                              (dummy[col].gender == gend)]\n",
    "                          #&(const_dict[col][col2] >20)]\n",
    "        dead.name = 'Non_Survivors'\n",
    "        live = dummy[col][(dummy[col].hospital_expire_flag == 0)&\n",
    "                              (dummy[col].gender == gend)]\n",
    "                          #&(const_dict[col][col2] >20)]\n",
    "        live.name = 'Survivors'\n",
    "    \n",
    "    \n",
    "    \n",
    "    \n",
    "    #dummy = mean_dict[key][mean_dict[key].gender == 'F']\n",
    "    #dummy = skew_dict[key].merge(pd.DataFrame(ptnt_demog['hospital_expire_flag']), \n",
    "    #                                   left_index = True, right_index = True, how='left', sort = True)\n",
    "    \n",
    "        maxx = 0.99\n",
    "        minn = 0.01\n",
    "    \n",
    "        live_max = live[col2].dropna().max()#quantile(0.999)\n",
    "        live_min = live[col2].dropna().min()#quantile(0.001)\n",
    "        dead_max = dead[col2].dropna().max()#quantile(0.999)\n",
    "        dead_min = dead[col2].dropna().min()#quantile(0.001)\n",
    "        maxlim = max(live_max, dead_max)\n",
    "        minlim = min(live_min, dead_min)\n",
    "   \n",
    "        \n",
    "        plt.subplots(figsize=(10,4))\n",
    "        live[(live[col2] < live_max) & (live[col2] > live_min)][col2].plot.kde(\n",
    "                                                                            alpha=1.0,label='Survival')\n",
    "    \n",
    "        dead[(dead[col2] < dead_max) & (dead[col2] > dead_min)][col2].plot.kde(\n",
    "                                                                            alpha=1.0,label='Non-Survivors')\n",
    "        # add title, labels etc.\n",
    "        plt.title('{} measurement on ICU admission'.format(col) + \n",
    "                   'vs ICU mortality by gender = {}\\n'.format(gend))\n",
    "        plt.xlabel(col)\n",
    "        plt.legend(loc=\"upper left\", bbox_to_anchor=(0.75,0.75),fontsize=12)\n",
    "   \n",
    "    \n",
    "        #print \"{}    {}\".format(maxlim, minlim)\n",
    "        #plt.xlim(minlim, maxlim)"
   ]
  },
  {
   "cell_type": "markdown",
   "metadata": {},
   "source": [
    "## MERGE INDIVIDUAL DATAFRAMES INTO SINGLE FRAME"
   ]
  },
  {
   "cell_type": "code",
   "execution_count": null,
   "metadata": {
    "collapsed": false,
    "jupyter": {
     "outputs_hidden": false
    }
   },
   "outputs": [],
   "source": [
    "# MERGING INDIVIDUAL CALCULATED FRAMES INTO A SINGLE DATAFRAMEs\n",
    "lab_events_data_df2 = lab_events_data_df.drop_duplicates('icustay_id', keep = 'first')\n",
    "lab_events_data_df3 = lab_events_data_df2.drop(['label', 'charttime', 'valuenum', 'flag'], axis = 1)\n",
    "lab_events_data_df3.set_index(['icustay_id'], inplace = True)\n",
    "\n",
    "for calc_key in calc_dict.keys():\n",
    "    print(\"merging {} dataframe\".format(calc_key))\n",
    "    for col_key in calc_dict[calc_key].keys(): \n",
    "        col2 = calc_dict[calc_key][col_key]\n",
    "        lab_events_data_df3 = lab_events_data_df3.merge(pd.DataFrame(calc_dict[calc_key][col_key][col_key]), left_index = True, \n",
    "                           right_index = True, how = 'left', sort = True)\n",
    "        newcols = list(lab_events_data_df3.columns)\n",
    "        newcols.pop()\n",
    "        newcols.append(col_key)\n",
    "        lab_events_data_df3.columns = newcols\n",
    "display(lab_events_data_df3.shape)\n",
    "display(lab_events_data_df3.head())\n",
    "display(lab_events_data_df3.dtypes)\n",
    "        \n",
    "# OLD CODE\n"
   ]
  },
  {
   "cell_type": "code",
   "execution_count": null,
   "metadata": {},
   "outputs": [],
   "source": [
    "lab_events_data_df3.columns"
   ]
  },
  {
   "cell_type": "code",
   "execution_count": null,
   "metadata": {},
   "outputs": [],
   "source": [
    "calc"
   ]
  },
  {
   "cell_type": "code",
   "execution_count": null,
   "metadata": {},
   "outputs": [],
   "source": [
    "[x for x in lab_events_data_df3.columns if calc in x] "
   ]
  },
  {
   "cell_type": "code",
   "execution_count": null,
   "metadata": {},
   "outputs": [],
   "source": [
    "lab_events_data_df3.columns"
   ]
  },
  {
   "cell_type": "code",
   "execution_count": null,
   "metadata": {},
   "outputs": [],
   "source": [
    "boolean_cols = [\n",
    "    \n",
    "    \n",
    "]"
   ]
  },
  {
   "cell_type": "code",
   "execution_count": null,
   "metadata": {},
   "outputs": [],
   "source": [
    "lab_events_data_df3['Creat_abnflag'].head(25).fillna(0).astype(int)"
   ]
  },
  {
   "cell_type": "code",
   "execution_count": null,
   "metadata": {},
   "outputs": [],
   "source": [
    "lab_events_data_df3['Creat_abnflag'].head(25).apply(lambda x: 1 if x==1.0 else 0)"
   ]
  },
  {
   "cell_type": "markdown",
   "metadata": {},
   "source": [
    "# Convert Boolean Cols to INT"
   ]
  },
  {
   "cell_type": "code",
   "execution_count": null,
   "metadata": {},
   "outputs": [],
   "source": [
    "cols = [x for x in lab_events_data_df3.columns if calc in x]\n",
    "for col in cols: \n",
    "    lab_events_data_df3[col] = lab_events_data_df3[col].fillna(0).astype(int)"
   ]
  },
  {
   "cell_type": "markdown",
   "metadata": {},
   "source": [
    "# Prior Versions Didn't Fully Leverage Interpolation\n",
    "As Such, efforts below were made to found labs most commonly found together. "
   ]
  },
  {
   "cell_type": "markdown",
   "metadata": {},
   "source": [
    "## Looking for labs that are commonly missing together"
   ]
  },
  {
   "cell_type": "code",
   "execution_count": null,
   "metadata": {},
   "outputs": [],
   "source": [
    "# # ROUNDING DATA\n",
    "# np.set_printoptions(precision=2)\n",
    "\n",
    "# cols = [x for x in lab_events_data_df3.columns if calc in x] \n",
    "# cols.sort()\n",
    "    \n",
    "# header = lab_events_data_df3[cols]\n",
    "# for col in header.columns:\n",
    "#     header[col] = header[col].apply(lambda x: 1 if pd.isnull(x) else 0)\n",
    "# display(lab_events_data_df3[cols].dropna().shape[0])\n",
    "\n",
    "# display(header.corr().round(2))"
   ]
  },
  {
   "cell_type": "markdown",
   "metadata": {},
   "source": [
    "## DISPLAY COLORMAP OF MISSING DATA"
   ]
  },
  {
   "cell_type": "code",
   "execution_count": null,
   "metadata": {
    "collapsed": false,
    "jupyter": {
     "outputs_hidden": false
    }
   },
   "outputs": [],
   "source": [
    "# commenting out for refinement. \n",
    "# very time consuming part of pre-processing. uncomment and run if you'd like to see the process. \n",
    "\n",
    "\n",
    "'''\n",
    "# DISPLAY COLORMAP OF DATA \n",
    "\n",
    "for calc in calc_list:\n",
    "    plt.figure(figsize= (30,30))\n",
    "    cols = [x for x in data3.columns if calc in x] \n",
    "    cols.sort()\n",
    "    \n",
    "    header = data3[cols]\n",
    "    for col in header.columns:\n",
    "        max_val = -1000 #header[col].max()*100\n",
    "        #header[col].replace(np.nan, max_val, inplace = True)\n",
    "        header[col] = header[col].apply(lambda x: 1 if pd.isnull(x) else 0)\n",
    "    display(data3[cols].dropna().shape[0])\n",
    "    missing = header.corr()\n",
    "    display(missing[missing >= 0.4])\n",
    "    plt.pcolor(header)\n",
    "    plt.xticks(np.arange(0.5, len(header.columns), 1), header.columns)\n",
    "    plt.show()\n",
    "\n",
    "print \"Complete\"\n",
    "'''"
   ]
  },
  {
   "cell_type": "markdown",
   "metadata": {},
   "source": [
    "## CREATE AUTOCORRELATION MATRIX FOR MISSING DATA"
   ]
  },
  {
   "cell_type": "code",
   "execution_count": null,
   "metadata": {},
   "outputs": [],
   "source": [
    "# #header.apply(lambda col: col.autocorr(lag = 1), axis = 0)\n",
    "# # REPLACING NAN VALUES WITH 1 AND MEASUREMENTS WITH 0. PERFORMING CORRELATION BETWEEN COLUMNS TO DETERMINE WHICH \n",
    "# # VARIABLES ARE MOST LIKELY TO BE MISSING TOGETHER. THIS WILL HELP IN BLOCKING DATA FOR PROCESSES THAT REQUIRE DATA TO \n",
    "# # BE NAN FREE\n",
    "# missing = lab_events_data_df3.copy()\n",
    "# for col in missing.columns:\n",
    "#     missing[col] = missing[col].apply(lambda x: 1 if pd.isnull(x) else 0)\n",
    "        \n",
    "# monkey = missing.corr()\n",
    "# monkey[monkey >= 0.4]"
   ]
  },
  {
   "cell_type": "code",
   "execution_count": null,
   "metadata": {
    "collapsed": false,
    "jupyter": {
     "outputs_hidden": false
    }
   },
   "outputs": [],
   "source": [
    "# DROPPING COLUMNS WHERE DATA IS SPARSE AND MISSING DATA DOES NOT CORRELATE WITH OTHER VARIABLES. \n",
    "# THESE DETERMINATIONS WERE MADE THROUGH OBSERVATIONS OF THE AFFINITY MAPS AND DROPNA().SHAPE[0] VALUES ABOVE \n",
    "\n",
    "# REMOVING ALL CREATURINE MEASURES\n",
    "drop_cols = []\n",
    "for item in lab_events_data_df3.columns: \n",
    "    if (('CreatUrine'in item) | ('LacDehyd' in item) | ('_skew' in item)):\n",
    "        drop_cols.append(item)\n",
    "#drop_cols\n",
    "\n",
    "# DROP THE FOLLOWING MEASURES OF THE FOLLOWING VARIABLES\n",
    "#drop_names = ['CreatUrine', 'LacDehyd', 'O2sat', 'Lac']\n",
    "drop_names = ['O2sat', 'Lac']\n",
    "drop_measures = ['_std', '_slope']\n",
    "for name in drop_names:\n",
    "    for ext in drop_measures:\n",
    "        drop_cols.append(name + ext)\n",
    "        \n",
    "drop_cols\n",
    "        \n",
    "\n",
    "display(lab_events_data_df3.dropna().shape[0])\n",
    "lab_events_data_df4 = lab_events_data_df3.drop(drop_cols, inplace = False, axis = 1)\n",
    "display(lab_events_data_df4.dropna().shape[0])\n",
    "\n",
    "print(\"Complete\")"
   ]
  },
  {
   "cell_type": "markdown",
   "metadata": {},
   "source": [
    "## COMBINING FRAMES AND DROPPING MISSING VALUES"
   ]
  },
  {
   "cell_type": "code",
   "execution_count": null,
   "metadata": {
    "collapsed": false,
    "jupyter": {
     "outputs_hidden": false
    }
   },
   "outputs": [],
   "source": [
    "# # TO THIS POINT THE ICUSTAY_ID HAS BEEN USED AS THE INDEX OF THE DATAFRAME. \n",
    "# # TO USE THESE METHODS WE CREATE A PROPER INDEX\n",
    "\n",
    "\n",
    "# # BREAKING UP VARIABLES SO THAT WE CAN DROP NAN VALUES AND STILL HAVE SUFFICIENT SAMPLES \n",
    "# # TO TRANSFORM AND DO FEATURE SELECTION / SCORING\n",
    "# # WILL NEED TO MERGE LATER IN A WAY THAT PROVIDES ADEQUATE SAMPLES\n",
    "\n",
    "# cols1 = [x for x in data4.columns if (('abnflag' not in x) & (('pH' in x) | ('Lac' in x) | ('O2sat' in x)))]\n",
    "# cols2 = [x for x in data4.columns if (('abnflag' not in x) & (('Creat' in x) | ('Gluc' in x) | ('Hemat' in x) | ('WBC' in x)))]\n",
    "# cols3 = [x for x in data4.columns if ('abnflag' in x)]\n",
    "\n",
    "# header = ['hospital_expire_flag']\n",
    "# for thing in header:\n",
    "#     cols1.insert(0, thing)\n",
    "#     cols2.insert(0, thing) \n",
    "#     cols3.insert(0, thing)\n",
    "  \n",
    "\n",
    "# #display(cols1)\n",
    "# data4.replace([np.inf, -np.inf], np.nan, inplace = True)\n",
    "# pHLacO2Sat_data = data4[cols1].dropna()\n",
    "# print \"pHLacO2Sat_data: Shape = \"\n",
    "# display(pHLacO2Sat_data.shape)                              \n",
    "\n",
    "# CreatGlucHemWBC_data = data4[cols2].dropna()\n",
    "# print \"CreatGlucHemWBC_data: Shape = \"\n",
    "# display(CreatGlucHemWBC_data.shape)\n",
    "\n",
    "# AbnFlag_data = data4[cols3].dropna()\n",
    "# print \"AbnFlag_data: Shape = \"\n",
    "# display(AbnFlag_data.shape)\n",
    "\n",
    "       \n",
    "# cont_frames = [pHLacO2Sat_data, CreatGlucHemWBC_data]\n",
    "# cat_frames = [AbnFlag_data]\n",
    "\n",
    "\n"
   ]
  },
  {
   "cell_type": "code",
   "execution_count": null,
   "metadata": {},
   "outputs": [],
   "source": []
  },
  {
   "cell_type": "code",
   "execution_count": null,
   "metadata": {},
   "outputs": [],
   "source": [
    "lab_events_data_df4.replace([np.inf, -np.inf], np.nan, inplace = True)"
   ]
  },
  {
   "cell_type": "code",
   "execution_count": null,
   "metadata": {},
   "outputs": [],
   "source": [
    "lab_events_data_df4.columns"
   ]
  },
  {
   "cell_type": "code",
   "execution_count": null,
   "metadata": {},
   "outputs": [],
   "source": [
    "X = lab_events_data_df4[lab_events_data_df4.columns[3:]]\n",
    "# imp_iter = IterativeImputer(missing_values = np.nan, max_iter=100, add_indicator=True)\n",
    "imp_iter = SimpleImputer(missing_values = np.nan, add_indicator=False)\n",
    "imp_iter.fit(X)\n",
    "imputed_data_df = imp_iter.transform(X)\n"
   ]
  },
  {
   "cell_type": "code",
   "execution_count": null,
   "metadata": {},
   "outputs": [],
   "source": [
    "imputed_data_df.shape"
   ]
  },
  {
   "cell_type": "code",
   "execution_count": null,
   "metadata": {},
   "outputs": [],
   "source": [
    "lab_events_data_df4[lab_events_data_df4.columns[3:]] = imputed_data_df\n"
   ]
  },
  {
   "cell_type": "markdown",
   "metadata": {},
   "source": [
    "## CONVERTING CONTINUOUS TO CATEGORICAL VARIABLES"
   ]
  },
  {
   "cell_type": "code",
   "execution_count": null,
   "metadata": {},
   "outputs": [],
   "source": [
    "lab_events_data_df4.columns"
   ]
  },
  {
   "cell_type": "code",
   "execution_count": null,
   "metadata": {
    "collapsed": false,
    "jupyter": {
     "outputs_hidden": false
    },
    "scrolled": true
   },
   "outputs": [],
   "source": [
    "# CALCULATING THE QUARTILES ON THE DISTRIBUTIONS AND BINNING DATA INTO 4 BUCKETS\n",
    "# TO CONVERT CONTINUOUS VARIABLES TO CATEGORICAL\n",
    "\n",
    "def quant_cats(feature, Q1, Q2, Q3):\n",
    "    if feature <=Q1:\n",
    "        return 'Q0'\n",
    "    elif (feature >Q1 and feature <= Q2):\n",
    "        return 'Q1'\n",
    "    elif (feature > Q2 and feature <= Q3):\n",
    "        return 'Q2'\n",
    "    elif feature > Q3:\n",
    "        return 'Q3'\n",
    "    \n",
    "#cont_frames = [pHLacO2Sat_data, CreatGlucHemWBC_data]\n",
    "#cat_frames = [AbnFlag_data]\n",
    "    \n",
    "CreatGlucHemWBC_cat_data = CreatGlucHemWBC_data.copy()\n",
    "pHLacO2Sat_cat_data = pHLacO2Sat_data.copy()\n",
    "\n",
    "cont_cat_frames = [CreatGlucHemWBC_cat_data, pHLacO2Sat_cat_data]\n",
    "\n",
    "for frame in cont_cat_frames:\n",
    "    frame_stats = frame.describe()\n",
    "    for col in frame.columns[1:]:\n",
    "        Q1 = frame_stats[col].loc['25%']\n",
    "        Q2 = frame_stats[col].loc['50%']\n",
    "        Q3 = frame_stats[col].loc['75%']\n",
    "        frame[col] = frame[col].apply(lambda x: quant_cats(x, Q1, Q2, Q3))\n",
    "\n",
    "pHLacO2Sat_cat_data.head()        \n",
    "\n",
    "\n"
   ]
  },
  {
   "cell_type": "markdown",
   "metadata": {},
   "source": [
    "## COMBINING FRAMES"
   ]
  },
  {
   "cell_type": "code",
   "execution_count": null,
   "metadata": {
    "collapsed": false,
    "jupyter": {
     "outputs_hidden": false
    }
   },
   "outputs": [],
   "source": [
    "\n",
    "cont_cat_frames = [CreatGlucHemWBC_cat_data, pHLacO2Sat_cat_data]\n",
    "\n",
    "\n",
    "pHLacO2Sat_dummies = pHLacO2Sat_cat_data[pHLacO2Sat_cat_data.columns[:1]].merge(pd.get_dummies(pHLacO2Sat_cat_data[pHLacO2Sat_cat_data.columns[3:]]), left_index = True, right_index = True, \n",
    "                       how = 'left', sort = True)\n",
    "CreatGlucHemWBC_dummies = CreatGlucHemWBC_cat_data[CreatGlucHemWBC_cat_data.columns[:1]].merge(pd.get_dummies(CreatGlucHemWBC_cat_data[CreatGlucHemWBC_cat_data.columns[3:]]), left_index = True, right_index = True, \n",
    "                       how = 'left', sort = True)\n",
    "                       \n",
    "display(pHLacO2Sat_dummies.head())\n",
    "display(CreatGlucHemWBC_dummies.head())\n"
   ]
  },
  {
   "cell_type": "markdown",
   "metadata": {},
   "source": [
    "## CONVERT DATA TO DUMMY VARIABLES, RECOMBINE, SELECT BEST FEATURES WRITE TO FILE"
   ]
  },
  {
   "cell_type": "code",
   "execution_count": null,
   "metadata": {
    "collapsed": false,
    "jupyter": {
     "outputs_hidden": false
    }
   },
   "outputs": [],
   "source": [
    "dummy_frames = [CreatGlucHemWBC_dummies, pHLacO2Sat_dummies, AbnFlag_data]\n",
    "dummy_frame_filenames = ['Lab_CreatGlucHemWBC_Features', 'Lab_pHLacO2Sat_Features', 'Lab_AbnFlag_Features']\n",
    "dummy_dict = dict(zip(dummy_frame_filenames, dummy_frames))\n",
    "\n",
    "for name, frame in dummy_dict.iteritems():\n",
    "    print \"{}      {}\".format(name, frame.shape[0])\n",
    "\n",
    "# CREATGLUC ETC HAS ONLY 874 SAMPLES AND SO WON'T BE HELPFUL. \n",
    "\n",
    "root = os.getcwd() + '/features/'\n",
    "\n",
    "for name, frame in dummy_dict.iteritems():#frame = cat_dummy_frames[0]\n",
    "    X_continuous = frame[frame.columns[1:]]\n",
    "    y = frame['hospital_expire_flag']\n",
    "    #display(X_continuous.shape)\n",
    "    #display(y.shape)\n",
    "    # ONLY PASSING FRAMES W/ > 5000 ICUSTAYS\n",
    "    if y.shape[0] > 3000:\n",
    "        \n",
    "        # SELECT K BEST FEATURES BASED ON CHI2 SCORES\n",
    "        selector = SelectKBest(score_func = chi2, k = 'all')\n",
    "        selector.fit(X_continuous, y)\n",
    "        p_vals = pd.Series(selector.pvalues_, name = 'p_values', index = X_continuous.columns)\n",
    "        scores = pd.Series(selector.scores_, name = 'scores', index = X_continuous.columns)\n",
    "        cont_features_df = pd.concat([p_vals, scores], axis = 1)\n",
    "        cont_features_df.sort_values(by ='scores', ascending = False, inplace = True)\n",
    "        best_features = frame[cont_features_df[cont_features_df.p_values < .001].index]\n",
    "        frame = pd.DataFrame(y).merge(best_features, left_index = True, right_index = True, \n",
    "                       how = 'left', sort = True)\n",
    "        print \"{}     {}\".format(name, frame.shape)\n",
    "        frame.to_csv(root + name + '.csv')\n",
    "        cont_features_df[cont_features_df.p_values < .001].to_csv(root + name + 'Scores.csv')"
   ]
  },
  {
   "cell_type": "code",
   "execution_count": null,
   "metadata": {},
   "outputs": [],
   "source": []
  }
 ],
 "metadata": {
  "kernelspec": {
   "display_name": "Python 3",
   "language": "python",
   "name": "python3"
  },
  "language_info": {
   "codemirror_mode": {
    "name": "ipython",
    "version": 3
   },
   "file_extension": ".py",
   "mimetype": "text/x-python",
   "name": "python",
   "nbconvert_exporter": "python",
   "pygments_lexer": "ipython3",
   "version": "3.7.2"
  }
 },
 "nbformat": 4,
 "nbformat_minor": 4
}
