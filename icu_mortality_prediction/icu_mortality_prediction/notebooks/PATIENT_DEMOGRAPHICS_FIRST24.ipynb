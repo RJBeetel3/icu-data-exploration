{
 "cells": [
  {
   "cell_type": "code",
   "execution_count": 1,
   "metadata": {
    "collapsed": false,
    "jupyter": {
     "outputs_hidden": false
    }
   },
   "outputs": [],
   "source": [
    "%load_ext autoreload\n",
    "%autoreload 2\n",
    "import sys\n",
    "import os\n",
    "import pandas as pd\n",
    "import datetime as datetime\n",
    "import numpy as np\n",
    "from dateutil.relativedelta import relativedelta\n",
    "from sklearn.preprocessing import OneHotEncoder\n",
    "import matplotlib\n",
    "import matplotlib.pyplot as plt\n",
    "#import psycopg2\n",
    "from scipy.stats import ks_2samp\n",
    "import scipy.stats as scats\n",
    "# import visuals as vs\n",
    "from sklearn.decomposition import PCA\n",
    "from sklearn import preprocessing\n",
    "from sklearn.neural_network import MLPClassifier\n",
    "from sklearn.naive_bayes import GaussianNB\n",
    "from sklearn.tree import DecisionTreeClassifier\n",
    "from sklearn.neighbors import KNeighborsClassifier\n",
    "\n",
    "\n",
    "from sklearn import metrics\n",
    "from sklearn import svm\n",
    "from sklearn.model_selection import cross_val_score\n",
    "from sklearn.model_selection import train_test_split\n",
    "from sklearn.feature_selection import SelectKBest\n",
    "from sklearn.feature_selection import chi2\n",
    "from sklearn.feature_selection import f_classif\n",
    "\n",
    "import yaml\n",
    "\n",
    "from icu_mortality_prediction import DATA_DIR\n"
   ]
  },
  {
   "cell_type": "code",
   "execution_count": 2,
   "metadata": {},
   "outputs": [],
   "source": [
    "from icu_mortality_prediction.src.features import ptnt_demog"
   ]
  },
  {
   "cell_type": "markdown",
   "metadata": {},
   "source": [
    "# MIMIC-III Critical Care Database\n",
    "\n",
    "MIMIC-III (Medical Information Mart for Intensive Care III) is a large, freely-available database comprising deidentified health-related data associated with over forty thousand patients who stayed in critical care units of the Beth Israel Deaconess Medical Center between 2001 and 2012.\n",
    "\n",
    "The database includes information such as demographics, vital sign measurements made at the bedside (~1 data point per hour), laboratory test results, procedures, medications, caregiver notes, imaging reports, and mortality (both in and out of hospital).\n",
    "\n",
    "MIMIC supports a diverse range of analytic studies spanning epidemiology, clinical decision-rule improvement, and electronic tool development. It is notable for three factors:\n",
    "\n",
    "it is freely available to researchers worldwide\n",
    "it encompasses a diverse and very large population of ICU patients\n",
    "it contains high temporal resolution data including lab results, electronic documentation, and bedside monitor trends and waveforms.\n",
    "\n",
    "Citations: \n",
    "MIMIC-III, a freely accessible critical care database. Johnson AEW, Pollard TJ, Shen L, Lehman L, Feng M, Ghassemi M, Moody B, Szolovits P, Celi LA, and Mark RG. Scientific Data (2016). DOI: 10.1038/sdata.2016.35. Available at: http://www.nature.com/articles/sdata201635\n",
    "\n",
    "Pollard, T. J. & Johnson, A. E. W. The MIMIC-III Clinical Database http://dx.doi.org/10.13026/C2XW26 (2016).\n",
    "\n"
   ]
  },
  {
   "cell_type": "markdown",
   "metadata": {},
   "source": [
    "# IMPORTING DATA\n",
    "The mimic III database was downloaded and reconstructed locally using posgresql. The database was managed graphically using Portico. \n",
    "A query was run on the mimic III database to generate demographic data and data concerning hospital and ICU stays for patients diagnosed with sepsis according to the Angus criteria (Angus et al, 2001. Epidemiology of severe sepsis in the United States; http://www.ncbi.nlm.nih.gov/pubmed/11445675 )\n",
    "\n",
    "The query was exported from Porticoto the file PTNT_DEMOG_FIRST24.csv. The data was read into a pandas dataframe lab_events."
   ]
  },
  {
   "cell_type": "markdown",
   "metadata": {},
   "source": [
    "## IMPORTING DATA"
   ]
  },
  {
   "cell_type": "code",
   "execution_count": 3,
   "metadata": {
    "collapsed": false,
    "jupyter": {
     "outputs_hidden": false
    }
   },
   "outputs": [],
   "source": [
    "# patient demographic data includes diagnoses and icd9 codes for each patient and each icustay\n",
    "demographics_filename = 'PTNT_DEMOG_FIRST24.csv'\n",
    "demographics_filepath = os.path.join(DATA_DIR, 'interim',demographics_filename)\n",
    "ptnt_demog_data_df = pd.read_csv(demographics_filepath)\n",
    "# removes duplicate rows"
   ]
  },
  {
   "cell_type": "code",
   "execution_count": 4,
   "metadata": {},
   "outputs": [],
   "source": [
    "# DEBUG CODE: TAKE ONLY SAMPLE OF DF\n",
    "ptnt_demog_data_df = ptnt_demog_data_df.head(10000)"
   ]
  },
  {
   "cell_type": "code",
   "execution_count": 5,
   "metadata": {
    "collapsed": false,
    "jupyter": {
     "outputs_hidden": false
    }
   },
   "outputs": [
    {
     "name": "stdout",
     "output_type": "stream",
     "text": [
      "imported\n"
     ]
    }
   ],
   "source": [
    "ptnt_demog_data2_df = ptnt_demog_data_df[~ptnt_demog_data_df.index.duplicated(keep='first')].copy()\n",
    "print(\"imported\")"
   ]
  },
  {
   "cell_type": "code",
   "execution_count": 6,
   "metadata": {},
   "outputs": [
    {
     "data": {
      "text/plain": [
       "(10000, 20)"
      ]
     },
     "execution_count": 6,
     "metadata": {},
     "output_type": "execute_result"
    }
   ],
   "source": [
    "ptnt_demog_data2_df.shape"
   ]
  },
  {
   "cell_type": "code",
   "execution_count": 7,
   "metadata": {},
   "outputs": [
    {
     "name": "stdout",
     "output_type": "stream",
     "text": [
      "Calculating ages, duration of stays\n"
     ]
    }
   ],
   "source": [
    "ptnt_demog_data2_df = ptnt_demog.calculate_age_icu_and_hospital_stay_durations(ptnt_demog_data2_df)"
   ]
  },
  {
   "cell_type": "code",
   "execution_count": 8,
   "metadata": {},
   "outputs": [
    {
     "name": "stdout",
     "output_type": "stream",
     "text": [
      "Reconfiguring columns\n"
     ]
    }
   ],
   "source": [
    "ptnt_demog_data2_df = ptnt_demog.reconfigure_patient_demographics_columns(ptnt_demog_data2_df)"
   ]
  },
  {
   "cell_type": "code",
   "execution_count": 9,
   "metadata": {},
   "outputs": [
    {
     "data": {
      "text/plain": [
       "Index(['hadm_id', 'age', 'icu_stay', 'hosp_stay', 'icustay_id', 'subject_id',\n",
       "       'first_careunit', 'gender', 'marital_status', 'ethnicity', 'insurance',\n",
       "       'admission_type', 'deathtime', 'hospital_expire_flag'],\n",
       "      dtype='object')"
      ]
     },
     "execution_count": 9,
     "metadata": {},
     "output_type": "execute_result"
    }
   ],
   "source": [
    "ptnt_demog_data2_df.columns"
   ]
  },
  {
   "cell_type": "code",
   "execution_count": 10,
   "metadata": {},
   "outputs": [],
   "source": [
    "ptnt_demog_data2_df = ptnt_demog.truncate_age_values(ptnt_demog_data2_df)"
   ]
  },
  {
   "cell_type": "code",
   "execution_count": 11,
   "metadata": {},
   "outputs": [
    {
     "data": {
      "text/plain": [
       "count    9577.000000\n",
       "mean       66.134384\n",
       "std        14.986690\n",
       "min        18.000000\n",
       "25%        57.000000\n",
       "50%        70.000000\n",
       "75%        77.000000\n",
       "max        89.000000\n",
       "Name: age, dtype: float64"
      ]
     },
     "execution_count": 11,
     "metadata": {},
     "output_type": "execute_result"
    }
   ],
   "source": [
    "ptnt_demog_data2_df['age'].describe()"
   ]
  },
  {
   "cell_type": "code",
   "execution_count": 12,
   "metadata": {},
   "outputs": [
    {
     "data": {
      "text/plain": [
       "Index(['hadm_id', 'age', 'icu_stay', 'hosp_stay', 'icustay_id', 'subject_id',\n",
       "       'first_careunit', 'gender', 'marital_status', 'ethnicity', 'insurance',\n",
       "       'admission_type', 'deathtime', 'hospital_expire_flag'],\n",
       "      dtype='object')"
      ]
     },
     "execution_count": 12,
     "metadata": {},
     "output_type": "execute_result"
    }
   ],
   "source": [
    "ptnt_demog_data2_df.columns"
   ]
  },
  {
   "cell_type": "code",
   "execution_count": 13,
   "metadata": {},
   "outputs": [
    {
     "data": {
      "text/html": [
       "<div>\n",
       "<style scoped>\n",
       "    .dataframe tbody tr th:only-of-type {\n",
       "        vertical-align: middle;\n",
       "    }\n",
       "\n",
       "    .dataframe tbody tr th {\n",
       "        vertical-align: top;\n",
       "    }\n",
       "\n",
       "    .dataframe thead th {\n",
       "        text-align: right;\n",
       "    }\n",
       "</style>\n",
       "<table border=\"1\" class=\"dataframe\">\n",
       "  <thead>\n",
       "    <tr style=\"text-align: right;\">\n",
       "      <th></th>\n",
       "      <th>hadm_id</th>\n",
       "      <th>age</th>\n",
       "      <th>icu_stay</th>\n",
       "      <th>hosp_stay</th>\n",
       "      <th>icustay_id</th>\n",
       "      <th>subject_id</th>\n",
       "      <th>first_careunit</th>\n",
       "      <th>gender</th>\n",
       "      <th>marital_status</th>\n",
       "      <th>ethnicity</th>\n",
       "      <th>insurance</th>\n",
       "      <th>admission_type</th>\n",
       "      <th>deathtime</th>\n",
       "      <th>hospital_expire_flag</th>\n",
       "    </tr>\n",
       "  </thead>\n",
       "  <tbody>\n",
       "    <tr>\n",
       "      <th>0</th>\n",
       "      <td>145834</td>\n",
       "      <td>76.0</td>\n",
       "      <td>146.0</td>\n",
       "      <td>259.0</td>\n",
       "      <td>211552</td>\n",
       "      <td>3</td>\n",
       "      <td>MICU</td>\n",
       "      <td>M</td>\n",
       "      <td>MARRIED</td>\n",
       "      <td>WHITE</td>\n",
       "      <td>Medicare</td>\n",
       "      <td>EMERGENCY</td>\n",
       "      <td>NaN</td>\n",
       "      <td>0</td>\n",
       "    </tr>\n",
       "    <tr>\n",
       "      <th>1</th>\n",
       "      <td>145834</td>\n",
       "      <td>76.0</td>\n",
       "      <td>146.0</td>\n",
       "      <td>259.0</td>\n",
       "      <td>211552</td>\n",
       "      <td>3</td>\n",
       "      <td>MICU</td>\n",
       "      <td>M</td>\n",
       "      <td>MARRIED</td>\n",
       "      <td>WHITE</td>\n",
       "      <td>Medicare</td>\n",
       "      <td>EMERGENCY</td>\n",
       "      <td>NaN</td>\n",
       "      <td>0</td>\n",
       "    </tr>\n",
       "    <tr>\n",
       "      <th>2</th>\n",
       "      <td>145834</td>\n",
       "      <td>76.0</td>\n",
       "      <td>146.0</td>\n",
       "      <td>259.0</td>\n",
       "      <td>211552</td>\n",
       "      <td>3</td>\n",
       "      <td>MICU</td>\n",
       "      <td>M</td>\n",
       "      <td>MARRIED</td>\n",
       "      <td>WHITE</td>\n",
       "      <td>Medicare</td>\n",
       "      <td>EMERGENCY</td>\n",
       "      <td>NaN</td>\n",
       "      <td>0</td>\n",
       "    </tr>\n",
       "    <tr>\n",
       "      <th>3</th>\n",
       "      <td>145834</td>\n",
       "      <td>76.0</td>\n",
       "      <td>146.0</td>\n",
       "      <td>259.0</td>\n",
       "      <td>211552</td>\n",
       "      <td>3</td>\n",
       "      <td>MICU</td>\n",
       "      <td>M</td>\n",
       "      <td>MARRIED</td>\n",
       "      <td>WHITE</td>\n",
       "      <td>Medicare</td>\n",
       "      <td>EMERGENCY</td>\n",
       "      <td>NaN</td>\n",
       "      <td>0</td>\n",
       "    </tr>\n",
       "    <tr>\n",
       "      <th>4</th>\n",
       "      <td>145834</td>\n",
       "      <td>76.0</td>\n",
       "      <td>146.0</td>\n",
       "      <td>259.0</td>\n",
       "      <td>211552</td>\n",
       "      <td>3</td>\n",
       "      <td>MICU</td>\n",
       "      <td>M</td>\n",
       "      <td>MARRIED</td>\n",
       "      <td>WHITE</td>\n",
       "      <td>Medicare</td>\n",
       "      <td>EMERGENCY</td>\n",
       "      <td>NaN</td>\n",
       "      <td>0</td>\n",
       "    </tr>\n",
       "  </tbody>\n",
       "</table>\n",
       "</div>"
      ],
      "text/plain": [
       "   hadm_id   age  icu_stay  hosp_stay  icustay_id  subject_id first_careunit  \\\n",
       "0   145834  76.0     146.0      259.0      211552           3           MICU   \n",
       "1   145834  76.0     146.0      259.0      211552           3           MICU   \n",
       "2   145834  76.0     146.0      259.0      211552           3           MICU   \n",
       "3   145834  76.0     146.0      259.0      211552           3           MICU   \n",
       "4   145834  76.0     146.0      259.0      211552           3           MICU   \n",
       "\n",
       "  gender marital_status ethnicity insurance admission_type deathtime  \\\n",
       "0      M        MARRIED     WHITE  Medicare      EMERGENCY       NaN   \n",
       "1      M        MARRIED     WHITE  Medicare      EMERGENCY       NaN   \n",
       "2      M        MARRIED     WHITE  Medicare      EMERGENCY       NaN   \n",
       "3      M        MARRIED     WHITE  Medicare      EMERGENCY       NaN   \n",
       "4      M        MARRIED     WHITE  Medicare      EMERGENCY       NaN   \n",
       "\n",
       "   hospital_expire_flag  \n",
       "0                     0  \n",
       "1                     0  \n",
       "2                     0  \n",
       "3                     0  \n",
       "4                     0  "
      ]
     },
     "execution_count": 13,
     "metadata": {},
     "output_type": "execute_result"
    }
   ],
   "source": [
    "ptnt_demog_data2_df.head()"
   ]
  },
  {
   "cell_type": "code",
   "execution_count": 14,
   "metadata": {},
   "outputs": [
    {
     "data": {
      "text/html": [
       "<div>\n",
       "<style scoped>\n",
       "    .dataframe tbody tr th:only-of-type {\n",
       "        vertical-align: middle;\n",
       "    }\n",
       "\n",
       "    .dataframe tbody tr th {\n",
       "        vertical-align: top;\n",
       "    }\n",
       "\n",
       "    .dataframe thead th {\n",
       "        text-align: right;\n",
       "    }\n",
       "</style>\n",
       "<table border=\"1\" class=\"dataframe\">\n",
       "  <thead>\n",
       "    <tr style=\"text-align: right;\">\n",
       "      <th></th>\n",
       "      <th>icustay_id</th>\n",
       "      <th>hadm_id</th>\n",
       "      <th>subject_id</th>\n",
       "      <th>first_careunit</th>\n",
       "      <th>gender</th>\n",
       "      <th>marital_status</th>\n",
       "      <th>ethnicity</th>\n",
       "      <th>insurance</th>\n",
       "      <th>admission_type</th>\n",
       "      <th>admittime</th>\n",
       "      <th>dischtime</th>\n",
       "      <th>intime</th>\n",
       "      <th>outtime</th>\n",
       "      <th>deathtime</th>\n",
       "      <th>dob</th>\n",
       "      <th>hospital_expire_flag</th>\n",
       "      <th>icd9_code</th>\n",
       "      <th>icd9_code.1</th>\n",
       "      <th>short_title</th>\n",
       "      <th>seq_num</th>\n",
       "    </tr>\n",
       "  </thead>\n",
       "  <tbody>\n",
       "    <tr>\n",
       "      <th>0</th>\n",
       "      <td>211552</td>\n",
       "      <td>145834</td>\n",
       "      <td>3</td>\n",
       "      <td>MICU</td>\n",
       "      <td>M</td>\n",
       "      <td>MARRIED</td>\n",
       "      <td>WHITE</td>\n",
       "      <td>Medicare</td>\n",
       "      <td>EMERGENCY</td>\n",
       "      <td>2101-10-20 19:08:00</td>\n",
       "      <td>2101-10-31 13:58:00</td>\n",
       "      <td>2101-10-20 19:10:11</td>\n",
       "      <td>2101-10-26 20:43:09</td>\n",
       "      <td>NaN</td>\n",
       "      <td>2025-04-11 00:00:00</td>\n",
       "      <td>0</td>\n",
       "      <td>0389</td>\n",
       "      <td>0389</td>\n",
       "      <td>Septicemia NOS</td>\n",
       "      <td>1</td>\n",
       "    </tr>\n",
       "    <tr>\n",
       "      <th>1</th>\n",
       "      <td>211552</td>\n",
       "      <td>145834</td>\n",
       "      <td>3</td>\n",
       "      <td>MICU</td>\n",
       "      <td>M</td>\n",
       "      <td>MARRIED</td>\n",
       "      <td>WHITE</td>\n",
       "      <td>Medicare</td>\n",
       "      <td>EMERGENCY</td>\n",
       "      <td>2101-10-20 19:08:00</td>\n",
       "      <td>2101-10-31 13:58:00</td>\n",
       "      <td>2101-10-20 19:10:11</td>\n",
       "      <td>2101-10-26 20:43:09</td>\n",
       "      <td>NaN</td>\n",
       "      <td>2025-04-11 00:00:00</td>\n",
       "      <td>0</td>\n",
       "      <td>5849</td>\n",
       "      <td>5849</td>\n",
       "      <td>Acute kidney failure NOS</td>\n",
       "      <td>3</td>\n",
       "    </tr>\n",
       "    <tr>\n",
       "      <th>2</th>\n",
       "      <td>211552</td>\n",
       "      <td>145834</td>\n",
       "      <td>3</td>\n",
       "      <td>MICU</td>\n",
       "      <td>M</td>\n",
       "      <td>MARRIED</td>\n",
       "      <td>WHITE</td>\n",
       "      <td>Medicare</td>\n",
       "      <td>EMERGENCY</td>\n",
       "      <td>2101-10-20 19:08:00</td>\n",
       "      <td>2101-10-31 13:58:00</td>\n",
       "      <td>2101-10-20 19:10:11</td>\n",
       "      <td>2101-10-26 20:43:09</td>\n",
       "      <td>NaN</td>\n",
       "      <td>2025-04-11 00:00:00</td>\n",
       "      <td>0</td>\n",
       "      <td>4275</td>\n",
       "      <td>4275</td>\n",
       "      <td>Cardiac arrest</td>\n",
       "      <td>4</td>\n",
       "    </tr>\n",
       "    <tr>\n",
       "      <th>3</th>\n",
       "      <td>211552</td>\n",
       "      <td>145834</td>\n",
       "      <td>3</td>\n",
       "      <td>MICU</td>\n",
       "      <td>M</td>\n",
       "      <td>MARRIED</td>\n",
       "      <td>WHITE</td>\n",
       "      <td>Medicare</td>\n",
       "      <td>EMERGENCY</td>\n",
       "      <td>2101-10-20 19:08:00</td>\n",
       "      <td>2101-10-31 13:58:00</td>\n",
       "      <td>2101-10-20 19:10:11</td>\n",
       "      <td>2101-10-26 20:43:09</td>\n",
       "      <td>NaN</td>\n",
       "      <td>2025-04-11 00:00:00</td>\n",
       "      <td>0</td>\n",
       "      <td>41071</td>\n",
       "      <td>41071</td>\n",
       "      <td>Subendo infarct, initial</td>\n",
       "      <td>5</td>\n",
       "    </tr>\n",
       "    <tr>\n",
       "      <th>4</th>\n",
       "      <td>211552</td>\n",
       "      <td>145834</td>\n",
       "      <td>3</td>\n",
       "      <td>MICU</td>\n",
       "      <td>M</td>\n",
       "      <td>MARRIED</td>\n",
       "      <td>WHITE</td>\n",
       "      <td>Medicare</td>\n",
       "      <td>EMERGENCY</td>\n",
       "      <td>2101-10-20 19:08:00</td>\n",
       "      <td>2101-10-31 13:58:00</td>\n",
       "      <td>2101-10-20 19:10:11</td>\n",
       "      <td>2101-10-26 20:43:09</td>\n",
       "      <td>NaN</td>\n",
       "      <td>2025-04-11 00:00:00</td>\n",
       "      <td>0</td>\n",
       "      <td>4280</td>\n",
       "      <td>4280</td>\n",
       "      <td>CHF NOS</td>\n",
       "      <td>6</td>\n",
       "    </tr>\n",
       "  </tbody>\n",
       "</table>\n",
       "</div>"
      ],
      "text/plain": [
       "   icustay_id  hadm_id  subject_id first_careunit gender marital_status  \\\n",
       "0      211552   145834           3           MICU      M        MARRIED   \n",
       "1      211552   145834           3           MICU      M        MARRIED   \n",
       "2      211552   145834           3           MICU      M        MARRIED   \n",
       "3      211552   145834           3           MICU      M        MARRIED   \n",
       "4      211552   145834           3           MICU      M        MARRIED   \n",
       "\n",
       "  ethnicity insurance admission_type            admittime  \\\n",
       "0     WHITE  Medicare      EMERGENCY  2101-10-20 19:08:00   \n",
       "1     WHITE  Medicare      EMERGENCY  2101-10-20 19:08:00   \n",
       "2     WHITE  Medicare      EMERGENCY  2101-10-20 19:08:00   \n",
       "3     WHITE  Medicare      EMERGENCY  2101-10-20 19:08:00   \n",
       "4     WHITE  Medicare      EMERGENCY  2101-10-20 19:08:00   \n",
       "\n",
       "             dischtime               intime              outtime deathtime  \\\n",
       "0  2101-10-31 13:58:00  2101-10-20 19:10:11  2101-10-26 20:43:09       NaN   \n",
       "1  2101-10-31 13:58:00  2101-10-20 19:10:11  2101-10-26 20:43:09       NaN   \n",
       "2  2101-10-31 13:58:00  2101-10-20 19:10:11  2101-10-26 20:43:09       NaN   \n",
       "3  2101-10-31 13:58:00  2101-10-20 19:10:11  2101-10-26 20:43:09       NaN   \n",
       "4  2101-10-31 13:58:00  2101-10-20 19:10:11  2101-10-26 20:43:09       NaN   \n",
       "\n",
       "                   dob  hospital_expire_flag icd9_code icd9_code.1  \\\n",
       "0  2025-04-11 00:00:00                     0      0389        0389   \n",
       "1  2025-04-11 00:00:00                     0      5849        5849   \n",
       "2  2025-04-11 00:00:00                     0      4275        4275   \n",
       "3  2025-04-11 00:00:00                     0     41071       41071   \n",
       "4  2025-04-11 00:00:00                     0      4280        4280   \n",
       "\n",
       "                short_title  seq_num  \n",
       "0            Septicemia NOS        1  \n",
       "1  Acute kidney failure NOS        3  \n",
       "2            Cardiac arrest        4  \n",
       "3  Subendo infarct, initial        5  \n",
       "4                   CHF NOS        6  "
      ]
     },
     "execution_count": 14,
     "metadata": {},
     "output_type": "execute_result"
    }
   ],
   "source": [
    "ptnt_demog_data_df.head()"
   ]
  },
  {
   "cell_type": "code",
   "execution_count": 15,
   "metadata": {},
   "outputs": [
    {
     "name": "stdout",
     "output_type": "stream",
     "text": [
      "creating diagnoses definitions\n",
      "creating diagnoses definitions\n",
      "map created\n"
     ]
    }
   ],
   "source": [
    "diagnoses_bm, diagnoses = ptnt_demog.create_diagnoses_defs(ptnt_demog_data_df)\n",
    "\n",
    "# #phenotypes = add_hcup_ccs_2015_groups(diagnoses, yaml.load(open(args.phenotype_definitions, 'r')))\n",
    "# print(\"creating diagnoses definitions\")\n",
    "# definitions_path = os.path.join(DATA_DIR, 'external/hcup_ccs_2015_definitions.yaml')\n",
    "# definitions = yaml.load(open(definitions_path, 'r'), Loader=yaml.FullLoader)\n",
    "\n",
    "# diagnoses = ptnt_demog_data_df[['hadm_id', 'icd9_code', 'short_title']].copy()\n",
    "\n",
    "# # create mapping of hcup_ccs_2015_definitions to diagnoses icd9 codes\n",
    "# def_map = {}\n",
    "# for dx in definitions:\n",
    "#     for code in definitions[dx]['codes']:\n",
    "#         def_map[code] = (dx, definitions[dx]['use_in_benchmark'])\n",
    "\n",
    "        "
   ]
  },
  {
   "cell_type": "code",
   "execution_count": null,
   "metadata": {},
   "outputs": [],
   "source": [
    "print(\"Calling continuous to categorical conversion\")\n",
    "continuous_to_categorical(ptnt_demog_data)\n",
    "#print(ptnt_demog_data.head())\n",
    "print(\"Calling categorical to dummy variables\")\n",
    "dummies = categorical_to_dummies(ptnt_demog_data)\n",
    "dummies = dummies.merge(diagnoses2, left_index = True, right_index = True, \n",
    "                           how = 'left')\n",
    "print(dummies.head())\n",
    "\n",
    "write_best_features(dummies)\n",
    "print(\"Patient demographic pre-processing and feature selection complete\")"
   ]
  },
  {
   "cell_type": "code",
   "execution_count": null,
   "metadata": {
    "collapsed": false,
    "jupyter": {
     "outputs_hidden": false
    }
   },
   "outputs": [],
   "source": [
    "for col in ptnt_demog_data2.columns: \n",
    "    print(col)"
   ]
  },
  {
   "cell_type": "code",
   "execution_count": null,
   "metadata": {
    "collapsed": false,
    "jupyter": {
     "outputs_hidden": false
    }
   },
   "outputs": [],
   "source": [
    "\n",
    "print(\"patient demographics with unique icustays\")\n",
    "\n",
    "\n",
    "# create patient demographic table with unique icustays as rows\n",
    "\n",
    "dates_and_times = ['dob', 'admittime', 'dischtime', 'intime', 'outtime', 'deathtime']\n",
    "for thing in dates_and_times:\n",
    "    print(\"converting {}\".format(thing))\n",
    "    new_series = pd.to_datetime(ptnt_demog2.loc[:,thing])\n",
    "    ptnt_demog2.loc[:,thing] = new_series\n",
    "    \n",
    "    '''\n",
    "    rows = ptnt_demog2.index\n",
    "    for row in rows:\n",
    "        ptnt_demog2.loc[:,thing] = pd.to_datetime(ptnt_demog2.loc[:,thing])\n",
    "    '''\n",
    "print(\"converted to date times\")\n",
    "display(ptnt_demog2.head())"
   ]
  },
  {
   "cell_type": "code",
   "execution_count": null,
   "metadata": {},
   "outputs": [],
   "source": [
    "ptnt_demog2.dtypes"
   ]
  },
  {
   "cell_type": "code",
   "execution_count": null,
   "metadata": {
    "collapsed": false,
    "jupyter": {
     "outputs_hidden": false
    }
   },
   "outputs": [],
   "source": [
    "ptnt_demog2.shape"
   ]
  },
  {
   "cell_type": "markdown",
   "metadata": {},
   "source": [
    "## DROP OUTLIER AGE VALUES"
   ]
  },
  {
   "cell_type": "code",
   "execution_count": null,
   "metadata": {
    "collapsed": false,
    "jupyter": {
     "outputs_hidden": false
    }
   },
   "outputs": [],
   "source": [
    "age_replace_vals = list(ptnt_demog2[ptnt_demog2['age'] > 110]['age'].unique())\n",
    "display(age_replace_vals)\n",
    "\n",
    "ptnt_demog2['age'].replace(age_replace_vals, np.nan, inplace = True)\n",
    "ptnt_demog2['age'].dropna().describe()"
   ]
  },
  {
   "cell_type": "markdown",
   "metadata": {},
   "source": [
    "## DISPLAY DESCRIPTIVE STATS"
   ]
  },
  {
   "cell_type": "code",
   "execution_count": null,
   "metadata": {
    "collapsed": false,
    "jupyter": {
     "outputs_hidden": false
    }
   },
   "outputs": [],
   "source": [
    "ptnt_demog2.columns"
   ]
  },
  {
   "cell_type": "code",
   "execution_count": null,
   "metadata": {
    "collapsed": false,
    "jupyter": {
     "outputs_hidden": false
    }
   },
   "outputs": [],
   "source": [
    "display(ptnt_demog2.icu_stay.dropna().describe())\n",
    "display(ptnt_demog2.hosp_stay.dropna().describe())\n",
    "display(ptnt_demog2[ptnt_demog2.icu_stay <= 0])\n",
    "display(ptnt_demog2[ptnt_demog2.hosp_stay <=0])\n",
    "icu_stay_low = list(ptnt_demog2[ptnt_demog2['icu_stay'] <=0]['icu_stay'].unique())\n",
    "age_replace_vals = list(ptnt_demog2[ptnt_demog2['age'] > 110]['age'].unique())\n",
    "\n",
    "#ptnt_demog2.loc[:,'subject_id'] = ptnt_demog2.index\n",
    "#ptnt_demog2.index = ptnt_demog2.icustay_id\n",
    "#ptnt_demog2.drop('icustay_id', axis = 1, inplace = True)\n",
    "#ptnt_demog2.head()"
   ]
  },
  {
   "cell_type": "markdown",
   "metadata": {},
   "source": [
    "Date and time data imported in string format is converted to pandas.datetime objects"
   ]
  },
  {
   "cell_type": "markdown",
   "metadata": {},
   "source": [
    "## Extracting diagnoses information using code grabbed from benchmarking exercise"
   ]
  },
  {
   "cell_type": "code",
   "execution_count": 23,
   "metadata": {},
   "outputs": [
    {
     "data": {
      "text/html": [
       "<div>\n",
       "<style scoped>\n",
       "    .dataframe tbody tr th:only-of-type {\n",
       "        vertical-align: middle;\n",
       "    }\n",
       "\n",
       "    .dataframe tbody tr th {\n",
       "        vertical-align: top;\n",
       "    }\n",
       "\n",
       "    .dataframe thead th {\n",
       "        text-align: right;\n",
       "    }\n",
       "</style>\n",
       "<table border=\"1\" class=\"dataframe\">\n",
       "  <thead>\n",
       "    <tr style=\"text-align: right;\">\n",
       "      <th></th>\n",
       "      <th>hospital_expire_flag</th>\n",
       "      <th>age</th>\n",
       "      <th>icu_stay</th>\n",
       "      <th>hosp_stay</th>\n",
       "      <th>icustay_id</th>\n",
       "      <th>first_careunit</th>\n",
       "      <th>gender</th>\n",
       "      <th>marital_status</th>\n",
       "      <th>ethnicity</th>\n",
       "      <th>insurance</th>\n",
       "      <th>admission_type</th>\n",
       "    </tr>\n",
       "  </thead>\n",
       "  <tbody>\n",
       "    <tr>\n",
       "      <th>0</th>\n",
       "      <td>0</td>\n",
       "      <td>76.0</td>\n",
       "      <td>146.0</td>\n",
       "      <td>259.0</td>\n",
       "      <td>211552</td>\n",
       "      <td>MICU</td>\n",
       "      <td>M</td>\n",
       "      <td>MARRIED</td>\n",
       "      <td>WHITE</td>\n",
       "      <td>Medicare</td>\n",
       "      <td>EMERGENCY</td>\n",
       "    </tr>\n",
       "    <tr>\n",
       "      <th>1</th>\n",
       "      <td>0</td>\n",
       "      <td>76.0</td>\n",
       "      <td>146.0</td>\n",
       "      <td>259.0</td>\n",
       "      <td>211552</td>\n",
       "      <td>MICU</td>\n",
       "      <td>M</td>\n",
       "      <td>MARRIED</td>\n",
       "      <td>WHITE</td>\n",
       "      <td>Medicare</td>\n",
       "      <td>EMERGENCY</td>\n",
       "    </tr>\n",
       "    <tr>\n",
       "      <th>2</th>\n",
       "      <td>0</td>\n",
       "      <td>76.0</td>\n",
       "      <td>146.0</td>\n",
       "      <td>259.0</td>\n",
       "      <td>211552</td>\n",
       "      <td>MICU</td>\n",
       "      <td>M</td>\n",
       "      <td>MARRIED</td>\n",
       "      <td>WHITE</td>\n",
       "      <td>Medicare</td>\n",
       "      <td>EMERGENCY</td>\n",
       "    </tr>\n",
       "    <tr>\n",
       "      <th>3</th>\n",
       "      <td>0</td>\n",
       "      <td>76.0</td>\n",
       "      <td>146.0</td>\n",
       "      <td>259.0</td>\n",
       "      <td>211552</td>\n",
       "      <td>MICU</td>\n",
       "      <td>M</td>\n",
       "      <td>MARRIED</td>\n",
       "      <td>WHITE</td>\n",
       "      <td>Medicare</td>\n",
       "      <td>EMERGENCY</td>\n",
       "    </tr>\n",
       "    <tr>\n",
       "      <th>4</th>\n",
       "      <td>0</td>\n",
       "      <td>76.0</td>\n",
       "      <td>146.0</td>\n",
       "      <td>259.0</td>\n",
       "      <td>211552</td>\n",
       "      <td>MICU</td>\n",
       "      <td>M</td>\n",
       "      <td>MARRIED</td>\n",
       "      <td>WHITE</td>\n",
       "      <td>Medicare</td>\n",
       "      <td>EMERGENCY</td>\n",
       "    </tr>\n",
       "  </tbody>\n",
       "</table>\n",
       "</div>"
      ],
      "text/plain": [
       "   hospital_expire_flag   age  icu_stay  hosp_stay  icustay_id first_careunit  \\\n",
       "0                     0  76.0     146.0      259.0      211552           MICU   \n",
       "1                     0  76.0     146.0      259.0      211552           MICU   \n",
       "2                     0  76.0     146.0      259.0      211552           MICU   \n",
       "3                     0  76.0     146.0      259.0      211552           MICU   \n",
       "4                     0  76.0     146.0      259.0      211552           MICU   \n",
       "\n",
       "  gender marital_status ethnicity insurance admission_type  \n",
       "0      M        MARRIED     WHITE  Medicare      EMERGENCY  \n",
       "1      M        MARRIED     WHITE  Medicare      EMERGENCY  \n",
       "2      M        MARRIED     WHITE  Medicare      EMERGENCY  \n",
       "3      M        MARRIED     WHITE  Medicare      EMERGENCY  \n",
       "4      M        MARRIED     WHITE  Medicare      EMERGENCY  "
      ]
     },
     "execution_count": 23,
     "metadata": {},
     "output_type": "execute_result"
    }
   ],
   "source": [
    "ptnt_demog_data2_df.head()"
   ]
  },
  {
   "cell_type": "code",
   "execution_count": 22,
   "metadata": {
    "collapsed": false,
    "jupyter": {
     "outputs_hidden": false
    }
   },
   "outputs": [],
   "source": [
    "ptnt_demog_data2_df, diagnoses2 = ptnt_demog.create_diagnoses_df(ptnt_demog_data2_df, diagnoses_bm, diagnoses)\n",
    "\n",
    "# #phenotypes = add_hcup_ccs_2015_groups(diagnoses, yaml.load(open(args.phenotype_definitions, 'r')))\n",
    "# definitions = yaml.load(open('hcup_ccs_2015_definitions.yaml', 'r'))\n",
    "\n",
    "# diagnoses = ptnt_demog[['hadm_id', 'icd9_code', 'short_title']].copy()\n",
    "\n",
    "# # create mapping of hcup_ccs_2015_definitions to diagnoses icd9 codes\n",
    "# def_map = {}\n",
    "# for dx in definitions:\n",
    "#     for code in definitions[dx]['codes']:\n",
    "#         def_map[code] = (dx, definitions[dx]['use_in_benchmark'])\n",
    "\n",
    "# print \"map created\"\n",
    "# # map hcup_ccs_2015 definitions to icd9 diagnoses codes\n",
    "# diagnoses['HCUP_CCS_2015'] = diagnoses.icd9_code.apply(lambda c: def_map[c][0] if c in def_map else None)\n",
    "# diagnoses['USE_IN_BENCHMARK'] = diagnoses.icd9_code.apply(lambda c: int(def_map[c][1]) if c in def_map else None)\n",
    "# #diagnoses['subject_id'] = diagnoses.index\n",
    "# #diagnoses.set_index(np.arange(diagnoses.shape[0]), inplace = True)\n",
    "\n",
    "\n",
    "# # create dataframe from the def_map dict so that we can isolate the \n",
    "# # definitions that are used in benchmarking\n",
    "\n",
    "# def_map_df = pd.DataFrame.from_dict(def_map, orient = 'index')\n",
    "# def_map_df.columns = ['Diagnoses', 'Benchmark']\n",
    "# diagnoses_bm = list(def_map_df[def_map_df.Benchmark == True].drop_duplicates('Diagnoses').Diagnoses)\n",
    "# icustays = list(ptnt_demog2.index)\n",
    "\n",
    "# # create dataframe with hcup_ccp diagnoses benchmark categories as columns and\n",
    "# # icustay_id information as indices. if the diagnosis is present for a given icustay the \n",
    "# # value is 1, otherwise 0. \n",
    "\n",
    "# diagnoses2 = pd.DataFrame(columns = diagnoses_bm, index = icustays)\n",
    "# diagnoses2.fillna(0, inplace = True)\n",
    "# print \"created empty diagnosis dataframe\"\n",
    "# for row in diagnoses.iterrows():\n",
    "#     if row[1]['USE_IN_BENCHMARK'] == 1:\n",
    "#         diagnoses2.loc[row[0]][row[1]['HCUP_CCS_2015']] = 1\n",
    "\n",
    "# print \"filled diagnosis dataframe\"\n",
    "# diagnoses2.head()"
   ]
  },
  {
   "cell_type": "code",
   "execution_count": null,
   "metadata": {
    "collapsed": false,
    "jupyter": {
     "outputs_hidden": false
    }
   },
   "outputs": [],
   "source": [
    "ptnt_demog_data2_df.drop(['subject_id', 'deathtime', 'hadm_id'], inplace = True, axis = 1)\n",
    "cols = list(ptnt_demog_data2_df.columns)\n",
    "cols.insert(0, cols.pop(cols.index('hospital_expire_flag')))\n",
    "ptnt_demog_data2_df = ptnt_demog_data2_df[cols]\n"
   ]
  },
  {
   "cell_type": "code",
   "execution_count": null,
   "metadata": {
    "collapsed": false,
    "jupyter": {
     "outputs_hidden": false
    }
   },
   "outputs": [],
   "source": [
    "diagnoses.dtypes"
   ]
  },
  {
   "cell_type": "code",
   "execution_count": null,
   "metadata": {
    "collapsed": false,
    "jupyter": {
     "outputs_hidden": false
    }
   },
   "outputs": [],
   "source": [
    "diagnoses2.columns\n"
   ]
  },
  {
   "cell_type": "markdown",
   "metadata": {},
   "source": [
    "## CONVERT CONTINUOUS TO CATEGORICAL DATA"
   ]
  },
  {
   "cell_type": "code",
   "execution_count": null,
   "metadata": {
    "collapsed": false,
    "jupyter": {
     "outputs_hidden": false
    }
   },
   "outputs": [],
   "source": [
    "# NEED TO DO SOME OVERVIEW OF DATA INCLUDING DISTRIBUTIONS, SUMMARY STATISTICS ETC\n",
    "# SINCE WE HAVE SO MUCH DATA, WE ARE JUMPING AHEAD..... IN TIME!! \n",
    "# AND SELECTING FEATURES THAT WERE USED IN THE FINAL CLASSIFICATION\n",
    "\n",
    "demog_select_features_df = ptnt_demog2[['hospital_expire_flag', 'icu_stay', 'age', 'first_careunit', 'admission_type']]\n",
    "demog_select_features_df.head()\n",
    "\n",
    "demog_select_features_df[demog_select_features_df.columns[:3]].dropna().groupby('hospital_expire_flag').describe()\n",
    "\n",
    "\n",
    "pd.DataFrame(demog_select_features_df.groupby('hospital_expire_flag').first_careunit.value_counts()).plot.bar(stacked = True)\n",
    "\n",
    "icu_admits_df = pd.DataFrame(demog_select_features_df['first_careunit'].value_counts()/demog_select_features_df.shape[0])\n",
    "icu_admits_df.index\n",
    "\n",
    "icu_mortality_rates_df = pd.DataFrame(demog_select_features_df.groupby('first_careunit').hospital_expire_flag.sum()/ \\\n",
    "demog_select_features_df.groupby('first_careunit').hospital_expire_flag.count())\n",
    "icu_admits_df.merge(icu_mortality_rates_df, left_index = True, right_index = True, \n",
    "                       how = 'left', sort = True)\n",
    "\n",
    "demog_select_features_df[demog_select_features_df['first_careunit'] == 'MICU']['first_careunit'].count()\n",
    "\n",
    "\n",
    "\n",
    "admission_types_df = pd.DataFrame(demog_select_features_df['admission_type'].value_counts()/demog_select_features_df.shape[0])\n",
    "\n",
    "admission_type_mortality_rates_df = pd.DataFrame(demog_select_features_df.groupby('admission_type').hospital_expire_flag.sum()/ \\\n",
    "demog_select_features_df.groupby('admission_type').hospital_expire_flag.count())\n",
    "\n",
    "admission_types_df.merge(admission_type_mortality_rates_df, left_index = True, right_index = True, \n",
    "                       how = 'left', sort = True)\n",
    "'''\n",
    "earlier versions included these factors but the  process has been iterative so we \n",
    "pre-selected relevant features above\n",
    "diagnoses2['GCS Total_15', 'GCS Total_3', 'GCS Total_6', 'GCS Total_4', \n",
    "                          'Respiratory Failure','Shock', 'Septicemia (except in labor)', 'Acute and unspecified renal failure','Other liver diseases',\n",
    "                         'Fluid and electrolyte disorders',\n",
    "                          'Pneumonia (except that caused by tuberculosis or sexually transmitted disease)',\n",
    "                            'Acute cerebrovascular disease']\n",
    "'''"
   ]
  },
  {
   "cell_type": "code",
   "execution_count": null,
   "metadata": {
    "collapsed": false,
    "jupyter": {
     "outputs_hidden": false
    }
   },
   "outputs": [],
   "source": [
    "def quant_cats(feature, Q1, Q2, Q3):\n",
    "    if feature <=Q1:\n",
    "        return 'Q0'\n",
    "    elif (feature >Q1 and feature <= Q2):\n",
    "        return 'Q1'\n",
    "    elif (feature > Q2 and feature <= Q3):\n",
    "        return 'Q2'\n",
    "    elif feature > Q3:\n",
    "        return 'Q3'\n",
    "    \n",
    "\n",
    "ptnt_demog3 = ptnt_demog2.copy()\n",
    "demog_stats = ptnt_demog3[ptnt_demog3.columns[1:4]].dropna().describe()\n",
    "for col in ptnt_demog3.columns[1:4]:\n",
    "        Q1 = demog_stats[col].loc['25%']\n",
    "        Q2 = demog_stats[col].loc['50%']\n",
    "        Q3 = demog_stats[col].loc['75%']\n",
    "        ptnt_demog3[col] = ptnt_demog3[col].apply(lambda x: quant_cats(x, Q1, Q2, Q3))\n",
    "\n"
   ]
  },
  {
   "cell_type": "code",
   "execution_count": null,
   "metadata": {
    "collapsed": false,
    "jupyter": {
     "outputs_hidden": false
    }
   },
   "outputs": [],
   "source": [
    "demog_stats"
   ]
  },
  {
   "cell_type": "markdown",
   "metadata": {},
   "source": [
    "## CONVERT CATEGORICAL TO DUMMY VARIABLES"
   ]
  },
  {
   "cell_type": "code",
   "execution_count": null,
   "metadata": {
    "collapsed": false,
    "jupyter": {
     "outputs_hidden": false
    }
   },
   "outputs": [],
   "source": [
    "ptnt_demog2.dtypes\n"
   ]
  },
  {
   "cell_type": "code",
   "execution_count": null,
   "metadata": {
    "collapsed": false,
    "jupyter": {
     "outputs_hidden": false
    }
   },
   "outputs": [],
   "source": [
    "ptnt_demog3.dtypes\n"
   ]
  },
  {
   "cell_type": "code",
   "execution_count": null,
   "metadata": {
    "collapsed": false,
    "jupyter": {
     "outputs_hidden": false
    }
   },
   "outputs": [],
   "source": [
    "dummies = ptnt_demog2[ptnt_demog3.columns[:1]]\n",
    "\n",
    "#display(monkey.head())\n",
    "for col in ptnt_demog3.columns[1:]:\n",
    "    chimp = pd.get_dummies(ptnt_demog3[col], prefix = col)\n",
    "    dummies = dummies.merge(chimp, left_index = True, right_index = True, \n",
    "                       how = 'left', sort = True)\n",
    "\n",
    "dummies.head()\n",
    "    \n",
    "\n",
    "## MERGE DUMMY VARIABLES AND DIAGNOSES\n",
    "\n",
    "dummies = dummies.merge(diagnoses2, left_index = True, right_index = True, \n",
    "                       how = 'left')\n",
    "dummies.dropna().shape"
   ]
  },
  {
   "cell_type": "code",
   "execution_count": null,
   "metadata": {
    "collapsed": false,
    "jupyter": {
     "outputs_hidden": false
    }
   },
   "outputs": [],
   "source": [
    "diags2 = list(diagnoses2.columns)\n",
    "#diags.pop(diags.index('Diabetes mellitus without complication'))\n",
    "diags = [\n",
    " 'hospital_expire_flag',\n",
    " 'Acute cerebrovascular disease',\n",
    " 'Other liver diseases',\n",
    " 'Acute and unspecified renal failure',\n",
    " 'Fluid and electrolyte disorders',\n",
    " 'Septicemia (except in labor)',\n",
    " 'Pneumonia (except that caused by tuberculosis or sexually transmitted disease)',\n",
    " 'Respiratory failure; insufficiency; arrest (adult)',\n",
    " 'Shock'\n",
    " ]\n",
    "\n",
    "\n",
    "plt.subplots(figsize=(13,6))\n",
    "diags_df = dummies[diags]\n",
    "#diags_df.head()\n",
    "\n",
    "diags_df[diags_df.columns[1:]][diags_df['hospital_expire_flag']==1].sum().plot.bar(\n",
    "        alpha=0.5,label= 'Non_Survival')\n",
    "diags_df[diags_df.columns[1:]][diags_df['hospital_expire_flag']==0].sum().plot.bar(\n",
    "        alpha=0.1,label= 'Survival')\n",
    "    "
   ]
  },
  {
   "cell_type": "markdown",
   "metadata": {},
   "source": [
    "## SELECT FEATURES AND WRITE TO FILE. "
   ]
  },
  {
   "cell_type": "code",
   "execution_count": null,
   "metadata": {
    "collapsed": false,
    "jupyter": {
     "outputs_hidden": false
    }
   },
   "outputs": [],
   "source": [
    "\n",
    "\n",
    "root = os.getcwd() + '/features/'\n",
    "name = 'Ptnt_Demog_Features.csv'\n",
    "name2 = 'Ptnt_Demog_FeaturesScores.csv'\n",
    "frame = dummies\n",
    "X = frame[frame.columns[1:]]\n",
    "y = frame['hospital_expire_flag']\n",
    "\n",
    "        \n",
    "# SELECT K BEST FEATURES BASED ON CHI2 SCORES\n",
    "selector = SelectKBest(score_func = chi2, k = 'all')\n",
    "selector.fit(X, y)\n",
    "p_vals = pd.Series(selector.pvalues_, name = 'p_values', index = X.columns)\n",
    "scores = pd.Series(selector.scores_, name = 'scores', index = X.columns)\n",
    "features_df = pd.concat([p_vals, scores], axis = 1)\n",
    "features_df.sort_values(by ='scores', ascending = False, inplace = True)\n",
    "print \"Feature scores/p_values in descending/ascending order\"\n",
    "display(features_df.head(20))\n",
    "\n",
    "best_features = frame[features_df[features_df.p_values < .001].index]\n",
    "\n",
    "frame = pd.DataFrame(y).merge(best_features, left_index = True, right_index = True, \n",
    "                how = 'left', sort = True)\n",
    "\n",
    "\n",
    "print \"{}     {}\".format(name, frame.shape)\n",
    "\n",
    "\n",
    "# CODE TO REORDER FEATURES ALPHABETICALLY. MAKES FOR CLEANER COLUMNS, GROUPED BY TYPE\n",
    "# BUT WHAT WE MAY WANT IS THE ORDER OF FEATURE SIGNIFICANCE PRESERVCED. \n",
    "'''\n",
    "cols = list(frame.columns)\n",
    "cols.sort()\n",
    "cols.insert(0, cols.pop(cols.index('hospital_expire_flag')))\n",
    "frame = frame[cols]\n",
    "'''\n",
    "\n",
    "print \"head of selected feature frame \"\n",
    "display(frame.head())\n",
    "frame.to_csv(root + name)\n",
    "features_df[features_df.p_values < .001].to_csv(root + name2)\n",
    "y = pd.DataFrame(y)\n",
    "y.to_csv(root + 'outcomes.csv')"
   ]
  },
  {
   "cell_type": "code",
   "execution_count": null,
   "metadata": {},
   "outputs": [],
   "source": []
  }
 ],
 "metadata": {
  "kernelspec": {
   "display_name": "Python 3",
   "language": "python",
   "name": "python3"
  },
  "language_info": {
   "codemirror_mode": {
    "name": "ipython",
    "version": 3
   },
   "file_extension": ".py",
   "mimetype": "text/x-python",
   "name": "python",
   "nbconvert_exporter": "python",
   "pygments_lexer": "ipython3",
   "version": "3.7.2"
  }
 },
 "nbformat": 4,
 "nbformat_minor": 4
}
